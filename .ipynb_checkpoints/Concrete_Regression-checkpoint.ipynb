{
 "cells": [
  {
   "cell_type": "markdown",
   "metadata": {},
   "source": [
    "## Import necessary libraries"
   ]
  },
  {
   "cell_type": "code",
   "execution_count": 1,
   "metadata": {},
   "outputs": [],
   "source": [
    "import keras\n",
    "import numpy as np\n",
    "import pandas as pd\n",
    "\n",
    "from keras.models import Sequential\n",
    "from keras.layers import Dense\n",
    "\n",
    "from sklearn.model_selection import train_test_split\n",
    "from sklearn.metrics import mean_squared_error"
   ]
  },
  {
   "cell_type": "markdown",
   "metadata": {},
   "source": [
    "## Read the dataset\n",
    "Read data set using *Pandas* into a *pandas* dataframe."
   ]
  },
  {
   "cell_type": "code",
   "execution_count": 2,
   "metadata": {},
   "outputs": [
    {
     "data": {
      "text/html": [
       "<div>\n",
       "<style scoped>\n",
       "    .dataframe tbody tr th:only-of-type {\n",
       "        vertical-align: middle;\n",
       "    }\n",
       "\n",
       "    .dataframe tbody tr th {\n",
       "        vertical-align: top;\n",
       "    }\n",
       "\n",
       "    .dataframe thead th {\n",
       "        text-align: right;\n",
       "    }\n",
       "</style>\n",
       "<table border=\"1\" class=\"dataframe\">\n",
       "  <thead>\n",
       "    <tr style=\"text-align: right;\">\n",
       "      <th></th>\n",
       "      <th>Cement</th>\n",
       "      <th>Blast Furnace Slag</th>\n",
       "      <th>Fly Ash</th>\n",
       "      <th>Water</th>\n",
       "      <th>Superplasticizer</th>\n",
       "      <th>Coarse Aggregate</th>\n",
       "      <th>Fine Aggregate</th>\n",
       "      <th>Age</th>\n",
       "      <th>Strength</th>\n",
       "    </tr>\n",
       "  </thead>\n",
       "  <tbody>\n",
       "    <tr>\n",
       "      <th>0</th>\n",
       "      <td>540.0</td>\n",
       "      <td>0.0</td>\n",
       "      <td>0.0</td>\n",
       "      <td>162.0</td>\n",
       "      <td>2.5</td>\n",
       "      <td>1040.0</td>\n",
       "      <td>676.0</td>\n",
       "      <td>28</td>\n",
       "      <td>79.99</td>\n",
       "    </tr>\n",
       "    <tr>\n",
       "      <th>1</th>\n",
       "      <td>540.0</td>\n",
       "      <td>0.0</td>\n",
       "      <td>0.0</td>\n",
       "      <td>162.0</td>\n",
       "      <td>2.5</td>\n",
       "      <td>1055.0</td>\n",
       "      <td>676.0</td>\n",
       "      <td>28</td>\n",
       "      <td>61.89</td>\n",
       "    </tr>\n",
       "    <tr>\n",
       "      <th>2</th>\n",
       "      <td>332.5</td>\n",
       "      <td>142.5</td>\n",
       "      <td>0.0</td>\n",
       "      <td>228.0</td>\n",
       "      <td>0.0</td>\n",
       "      <td>932.0</td>\n",
       "      <td>594.0</td>\n",
       "      <td>270</td>\n",
       "      <td>40.27</td>\n",
       "    </tr>\n",
       "    <tr>\n",
       "      <th>3</th>\n",
       "      <td>332.5</td>\n",
       "      <td>142.5</td>\n",
       "      <td>0.0</td>\n",
       "      <td>228.0</td>\n",
       "      <td>0.0</td>\n",
       "      <td>932.0</td>\n",
       "      <td>594.0</td>\n",
       "      <td>365</td>\n",
       "      <td>41.05</td>\n",
       "    </tr>\n",
       "    <tr>\n",
       "      <th>4</th>\n",
       "      <td>198.6</td>\n",
       "      <td>132.4</td>\n",
       "      <td>0.0</td>\n",
       "      <td>192.0</td>\n",
       "      <td>0.0</td>\n",
       "      <td>978.4</td>\n",
       "      <td>825.5</td>\n",
       "      <td>360</td>\n",
       "      <td>44.30</td>\n",
       "    </tr>\n",
       "  </tbody>\n",
       "</table>\n",
       "</div>"
      ],
      "text/plain": [
       "   Cement  Blast Furnace Slag  Fly Ash  Water  Superplasticizer  \\\n",
       "0   540.0                 0.0      0.0  162.0               2.5   \n",
       "1   540.0                 0.0      0.0  162.0               2.5   \n",
       "2   332.5               142.5      0.0  228.0               0.0   \n",
       "3   332.5               142.5      0.0  228.0               0.0   \n",
       "4   198.6               132.4      0.0  192.0               0.0   \n",
       "\n",
       "   Coarse Aggregate  Fine Aggregate  Age  Strength  \n",
       "0            1040.0           676.0   28     79.99  \n",
       "1            1055.0           676.0   28     61.89  \n",
       "2             932.0           594.0  270     40.27  \n",
       "3             932.0           594.0  365     41.05  \n",
       "4             978.4           825.5  360     44.30  "
      ]
     },
     "execution_count": 2,
     "metadata": {},
     "output_type": "execute_result"
    }
   ],
   "source": [
    "concrete_data = pd.read_csv('concrete_data.csv')\n",
    "concrete_data.head() # print the top 5 rows of the dataset"
   ]
  },
  {
   "cell_type": "code",
   "execution_count": 3,
   "metadata": {},
   "outputs": [
    {
     "data": {
      "text/plain": [
       "(1030, 9)"
      ]
     },
     "execution_count": 3,
     "metadata": {},
     "output_type": "execute_result"
    }
   ],
   "source": [
    "concrete_data.shape # examining the shape"
   ]
  },
  {
   "cell_type": "code",
   "execution_count": 4,
   "metadata": {},
   "outputs": [
    {
     "data": {
      "text/html": [
       "<div>\n",
       "<style scoped>\n",
       "    .dataframe tbody tr th:only-of-type {\n",
       "        vertical-align: middle;\n",
       "    }\n",
       "\n",
       "    .dataframe tbody tr th {\n",
       "        vertical-align: top;\n",
       "    }\n",
       "\n",
       "    .dataframe thead th {\n",
       "        text-align: right;\n",
       "    }\n",
       "</style>\n",
       "<table border=\"1\" class=\"dataframe\">\n",
       "  <thead>\n",
       "    <tr style=\"text-align: right;\">\n",
       "      <th></th>\n",
       "      <th>Cement</th>\n",
       "      <th>Blast Furnace Slag</th>\n",
       "      <th>Fly Ash</th>\n",
       "      <th>Water</th>\n",
       "      <th>Superplasticizer</th>\n",
       "      <th>Coarse Aggregate</th>\n",
       "      <th>Fine Aggregate</th>\n",
       "      <th>Age</th>\n",
       "      <th>Strength</th>\n",
       "    </tr>\n",
       "  </thead>\n",
       "  <tbody>\n",
       "    <tr>\n",
       "      <th>count</th>\n",
       "      <td>1030.000000</td>\n",
       "      <td>1030.000000</td>\n",
       "      <td>1030.000000</td>\n",
       "      <td>1030.000000</td>\n",
       "      <td>1030.000000</td>\n",
       "      <td>1030.000000</td>\n",
       "      <td>1030.000000</td>\n",
       "      <td>1030.000000</td>\n",
       "      <td>1030.000000</td>\n",
       "    </tr>\n",
       "    <tr>\n",
       "      <th>mean</th>\n",
       "      <td>281.167864</td>\n",
       "      <td>73.895825</td>\n",
       "      <td>54.188350</td>\n",
       "      <td>181.567282</td>\n",
       "      <td>6.204660</td>\n",
       "      <td>972.918932</td>\n",
       "      <td>773.580485</td>\n",
       "      <td>45.662136</td>\n",
       "      <td>35.817961</td>\n",
       "    </tr>\n",
       "    <tr>\n",
       "      <th>std</th>\n",
       "      <td>104.506364</td>\n",
       "      <td>86.279342</td>\n",
       "      <td>63.997004</td>\n",
       "      <td>21.354219</td>\n",
       "      <td>5.973841</td>\n",
       "      <td>77.753954</td>\n",
       "      <td>80.175980</td>\n",
       "      <td>63.169912</td>\n",
       "      <td>16.705742</td>\n",
       "    </tr>\n",
       "    <tr>\n",
       "      <th>min</th>\n",
       "      <td>102.000000</td>\n",
       "      <td>0.000000</td>\n",
       "      <td>0.000000</td>\n",
       "      <td>121.800000</td>\n",
       "      <td>0.000000</td>\n",
       "      <td>801.000000</td>\n",
       "      <td>594.000000</td>\n",
       "      <td>1.000000</td>\n",
       "      <td>2.330000</td>\n",
       "    </tr>\n",
       "    <tr>\n",
       "      <th>25%</th>\n",
       "      <td>192.375000</td>\n",
       "      <td>0.000000</td>\n",
       "      <td>0.000000</td>\n",
       "      <td>164.900000</td>\n",
       "      <td>0.000000</td>\n",
       "      <td>932.000000</td>\n",
       "      <td>730.950000</td>\n",
       "      <td>7.000000</td>\n",
       "      <td>23.710000</td>\n",
       "    </tr>\n",
       "    <tr>\n",
       "      <th>50%</th>\n",
       "      <td>272.900000</td>\n",
       "      <td>22.000000</td>\n",
       "      <td>0.000000</td>\n",
       "      <td>185.000000</td>\n",
       "      <td>6.400000</td>\n",
       "      <td>968.000000</td>\n",
       "      <td>779.500000</td>\n",
       "      <td>28.000000</td>\n",
       "      <td>34.445000</td>\n",
       "    </tr>\n",
       "    <tr>\n",
       "      <th>75%</th>\n",
       "      <td>350.000000</td>\n",
       "      <td>142.950000</td>\n",
       "      <td>118.300000</td>\n",
       "      <td>192.000000</td>\n",
       "      <td>10.200000</td>\n",
       "      <td>1029.400000</td>\n",
       "      <td>824.000000</td>\n",
       "      <td>56.000000</td>\n",
       "      <td>46.135000</td>\n",
       "    </tr>\n",
       "    <tr>\n",
       "      <th>max</th>\n",
       "      <td>540.000000</td>\n",
       "      <td>359.400000</td>\n",
       "      <td>200.100000</td>\n",
       "      <td>247.000000</td>\n",
       "      <td>32.200000</td>\n",
       "      <td>1145.000000</td>\n",
       "      <td>992.600000</td>\n",
       "      <td>365.000000</td>\n",
       "      <td>82.600000</td>\n",
       "    </tr>\n",
       "  </tbody>\n",
       "</table>\n",
       "</div>"
      ],
      "text/plain": [
       "            Cement  Blast Furnace Slag      Fly Ash        Water  \\\n",
       "count  1030.000000         1030.000000  1030.000000  1030.000000   \n",
       "mean    281.167864           73.895825    54.188350   181.567282   \n",
       "std     104.506364           86.279342    63.997004    21.354219   \n",
       "min     102.000000            0.000000     0.000000   121.800000   \n",
       "25%     192.375000            0.000000     0.000000   164.900000   \n",
       "50%     272.900000           22.000000     0.000000   185.000000   \n",
       "75%     350.000000          142.950000   118.300000   192.000000   \n",
       "max     540.000000          359.400000   200.100000   247.000000   \n",
       "\n",
       "       Superplasticizer  Coarse Aggregate  Fine Aggregate          Age  \\\n",
       "count       1030.000000       1030.000000     1030.000000  1030.000000   \n",
       "mean           6.204660        972.918932      773.580485    45.662136   \n",
       "std            5.973841         77.753954       80.175980    63.169912   \n",
       "min            0.000000        801.000000      594.000000     1.000000   \n",
       "25%            0.000000        932.000000      730.950000     7.000000   \n",
       "50%            6.400000        968.000000      779.500000    28.000000   \n",
       "75%           10.200000       1029.400000      824.000000    56.000000   \n",
       "max           32.200000       1145.000000      992.600000   365.000000   \n",
       "\n",
       "          Strength  \n",
       "count  1030.000000  \n",
       "mean     35.817961  \n",
       "std      16.705742  \n",
       "min       2.330000  \n",
       "25%      23.710000  \n",
       "50%      34.445000  \n",
       "75%      46.135000  \n",
       "max      82.600000  "
      ]
     },
     "execution_count": 4,
     "metadata": {},
     "output_type": "execute_result"
    }
   ],
   "source": [
    "concrete_data.describe() # get a concise idea of the dataset"
   ]
  },
  {
   "cell_type": "code",
   "execution_count": 5,
   "metadata": {},
   "outputs": [],
   "source": [
    "concrete_data_columns = concrete_data.columns\n",
    "predictors = concrete_data[concrete_data_columns[concrete_data_columns != 'Strength']] # Select all the columns but \"Strength\" as predictors\n",
    "target = concrete_data['Strength'] # Select \"Strength\" as labels"
   ]
  },
  {
   "cell_type": "code",
   "execution_count": 6,
   "metadata": {},
   "outputs": [
    {
     "data": {
      "text/html": [
       "<div>\n",
       "<style scoped>\n",
       "    .dataframe tbody tr th:only-of-type {\n",
       "        vertical-align: middle;\n",
       "    }\n",
       "\n",
       "    .dataframe tbody tr th {\n",
       "        vertical-align: top;\n",
       "    }\n",
       "\n",
       "    .dataframe thead th {\n",
       "        text-align: right;\n",
       "    }\n",
       "</style>\n",
       "<table border=\"1\" class=\"dataframe\">\n",
       "  <thead>\n",
       "    <tr style=\"text-align: right;\">\n",
       "      <th></th>\n",
       "      <th>Cement</th>\n",
       "      <th>Blast Furnace Slag</th>\n",
       "      <th>Fly Ash</th>\n",
       "      <th>Water</th>\n",
       "      <th>Superplasticizer</th>\n",
       "      <th>Coarse Aggregate</th>\n",
       "      <th>Fine Aggregate</th>\n",
       "      <th>Age</th>\n",
       "    </tr>\n",
       "  </thead>\n",
       "  <tbody>\n",
       "    <tr>\n",
       "      <th>0</th>\n",
       "      <td>540.0</td>\n",
       "      <td>0.0</td>\n",
       "      <td>0.0</td>\n",
       "      <td>162.0</td>\n",
       "      <td>2.5</td>\n",
       "      <td>1040.0</td>\n",
       "      <td>676.0</td>\n",
       "      <td>28</td>\n",
       "    </tr>\n",
       "    <tr>\n",
       "      <th>1</th>\n",
       "      <td>540.0</td>\n",
       "      <td>0.0</td>\n",
       "      <td>0.0</td>\n",
       "      <td>162.0</td>\n",
       "      <td>2.5</td>\n",
       "      <td>1055.0</td>\n",
       "      <td>676.0</td>\n",
       "      <td>28</td>\n",
       "    </tr>\n",
       "    <tr>\n",
       "      <th>2</th>\n",
       "      <td>332.5</td>\n",
       "      <td>142.5</td>\n",
       "      <td>0.0</td>\n",
       "      <td>228.0</td>\n",
       "      <td>0.0</td>\n",
       "      <td>932.0</td>\n",
       "      <td>594.0</td>\n",
       "      <td>270</td>\n",
       "    </tr>\n",
       "    <tr>\n",
       "      <th>3</th>\n",
       "      <td>332.5</td>\n",
       "      <td>142.5</td>\n",
       "      <td>0.0</td>\n",
       "      <td>228.0</td>\n",
       "      <td>0.0</td>\n",
       "      <td>932.0</td>\n",
       "      <td>594.0</td>\n",
       "      <td>365</td>\n",
       "    </tr>\n",
       "    <tr>\n",
       "      <th>4</th>\n",
       "      <td>198.6</td>\n",
       "      <td>132.4</td>\n",
       "      <td>0.0</td>\n",
       "      <td>192.0</td>\n",
       "      <td>0.0</td>\n",
       "      <td>978.4</td>\n",
       "      <td>825.5</td>\n",
       "      <td>360</td>\n",
       "    </tr>\n",
       "  </tbody>\n",
       "</table>\n",
       "</div>"
      ],
      "text/plain": [
       "   Cement  Blast Furnace Slag  Fly Ash  Water  Superplasticizer  \\\n",
       "0   540.0                 0.0      0.0  162.0               2.5   \n",
       "1   540.0                 0.0      0.0  162.0               2.5   \n",
       "2   332.5               142.5      0.0  228.0               0.0   \n",
       "3   332.5               142.5      0.0  228.0               0.0   \n",
       "4   198.6               132.4      0.0  192.0               0.0   \n",
       "\n",
       "   Coarse Aggregate  Fine Aggregate  Age  \n",
       "0            1040.0           676.0   28  \n",
       "1            1055.0           676.0   28  \n",
       "2             932.0           594.0  270  \n",
       "3             932.0           594.0  365  \n",
       "4             978.4           825.5  360  "
      ]
     },
     "execution_count": 6,
     "metadata": {},
     "output_type": "execute_result"
    }
   ],
   "source": [
    "predictors.head()"
   ]
  },
  {
   "cell_type": "code",
   "execution_count": 7,
   "metadata": {},
   "outputs": [
    {
     "data": {
      "text/plain": [
       "0    79.99\n",
       "1    61.89\n",
       "2    40.27\n",
       "3    41.05\n",
       "4    44.30\n",
       "Name: Strength, dtype: float64"
      ]
     },
     "execution_count": 7,
     "metadata": {},
     "output_type": "execute_result"
    }
   ],
   "source": [
    "target.head()"
   ]
  },
  {
   "cell_type": "code",
   "execution_count": 8,
   "metadata": {},
   "outputs": [
    {
     "data": {
      "text/plain": [
       "8"
      ]
     },
     "execution_count": 8,
     "metadata": {},
     "output_type": "execute_result"
    }
   ],
   "source": [
    "n_cols = predictors.shape[1]\n",
    "n_cols"
   ]
  },
  {
   "cell_type": "markdown",
   "metadata": {},
   "source": [
    "## Build Nural Network model."
   ]
  },
  {
   "cell_type": "code",
   "execution_count": 9,
   "metadata": {},
   "outputs": [],
   "source": [
    "def regression_model():\n",
    "    # creation of the model\n",
    "    model = Sequential()\n",
    "    model.add(Dense(10, activation = 'relu', input_shape = (n_cols,)))\n",
    "    model.add(Dense(1))\n",
    "    \n",
    "    # compile the model\n",
    "    model.compile(optimizer = 'adam', loss = 'mean_squared_error')\n",
    "    return model"
   ]
  },
  {
   "cell_type": "code",
   "execution_count": 10,
   "metadata": {},
   "outputs": [],
   "source": [
    "# Splitting the data set for training and testing\n",
    "X_train, X_test, y_train, y_test = train_test_split(predictors, target, test_size=0.3, random_state=6)"
   ]
  },
  {
   "cell_type": "code",
   "execution_count": 11,
   "metadata": {},
   "outputs": [
    {
     "name": "stdout",
     "output_type": "stream",
     "text": [
      "Epoch 1/50\n",
      "23/23 [==============================] - 0s 605us/step - loss: 1209145.0000\n",
      "Epoch 2/50\n",
      "23/23 [==============================] - 0s 574us/step - loss: 802545.1875\n",
      "Epoch 3/50\n",
      "23/23 [==============================] - 0s 565us/step - loss: 510705.5625\n",
      "Epoch 4/50\n",
      "23/23 [==============================] - 0s 609us/step - loss: 310942.4688\n",
      "Epoch 5/50\n",
      "23/23 [==============================] - 0s 524us/step - loss: 180212.8438\n",
      "Epoch 6/50\n",
      "23/23 [==============================] - 0s 521us/step - loss: 98552.2812\n",
      "Epoch 7/50\n",
      "23/23 [==============================] - 0s 476us/step - loss: 50663.1250\n",
      "Epoch 8/50\n",
      "23/23 [==============================] - 0s 445us/step - loss: 24598.3438\n",
      "Epoch 9/50\n",
      "23/23 [==============================] - 0s 476us/step - loss: 11691.2471\n",
      "Epoch 10/50\n",
      "23/23 [==============================] - 0s 501us/step - loss: 5765.3091\n",
      "Epoch 11/50\n",
      "23/23 [==============================] - 0s 477us/step - loss: 3314.7197\n",
      "Epoch 12/50\n",
      "23/23 [==============================] - 0s 434us/step - loss: 2373.4307\n",
      "Epoch 13/50\n",
      "23/23 [==============================] - 0s 510us/step - loss: 2021.2479\n",
      "Epoch 14/50\n",
      "23/23 [==============================] - 0s 515us/step - loss: 1890.3177\n",
      "Epoch 15/50\n",
      "23/23 [==============================] - 0s 434us/step - loss: 1823.4355\n",
      "Epoch 16/50\n",
      "23/23 [==============================] - 0s 427us/step - loss: 1778.2020\n",
      "Epoch 17/50\n",
      "23/23 [==============================] - 0s 468us/step - loss: 1735.6860\n",
      "Epoch 18/50\n",
      "23/23 [==============================] - 0s 468us/step - loss: 1694.1786\n",
      "Epoch 19/50\n",
      "23/23 [==============================] - 0s 481us/step - loss: 1653.6503\n",
      "Epoch 20/50\n",
      "23/23 [==============================] - 0s 467us/step - loss: 1611.5641\n",
      "Epoch 21/50\n",
      "23/23 [==============================] - 0s 433us/step - loss: 1571.3031\n",
      "Epoch 22/50\n",
      "23/23 [==============================] - 0s 458us/step - loss: 1530.5867\n",
      "Epoch 23/50\n",
      "23/23 [==============================] - 0s 432us/step - loss: 1490.9619\n",
      "Epoch 24/50\n",
      "23/23 [==============================] - 0s 448us/step - loss: 1451.4286\n",
      "Epoch 25/50\n",
      "23/23 [==============================] - 0s 424us/step - loss: 1412.1951\n",
      "Epoch 26/50\n",
      "23/23 [==============================] - 0s 434us/step - loss: 1373.0253\n",
      "Epoch 27/50\n",
      "23/23 [==============================] - 0s 479us/step - loss: 1335.7699\n",
      "Epoch 28/50\n",
      "23/23 [==============================] - 0s 474us/step - loss: 1298.2290\n",
      "Epoch 29/50\n",
      "23/23 [==============================] - 0s 459us/step - loss: 1262.9780\n",
      "Epoch 30/50\n",
      "23/23 [==============================] - 0s 476us/step - loss: 1227.1335\n",
      "Epoch 31/50\n",
      "23/23 [==============================] - 0s 522us/step - loss: 1191.6455\n",
      "Epoch 32/50\n",
      "23/23 [==============================] - 0s 434us/step - loss: 1158.4484\n",
      "Epoch 33/50\n",
      "23/23 [==============================] - 0s 434us/step - loss: 1125.2419\n",
      "Epoch 34/50\n",
      "23/23 [==============================] - 0s 434us/step - loss: 1093.3385\n",
      "Epoch 35/50\n",
      "23/23 [==============================] - 0s 434us/step - loss: 1061.8479\n",
      "Epoch 36/50\n",
      "23/23 [==============================] - 0s 434us/step - loss: 1030.4543\n",
      "Epoch 37/50\n",
      "23/23 [==============================] - 0s 434us/step - loss: 1001.5288\n",
      "Epoch 38/50\n",
      "23/23 [==============================] - 0s 434us/step - loss: 972.5825\n",
      "Epoch 39/50\n",
      "23/23 [==============================] - 0s 426us/step - loss: 945.8337\n",
      "Epoch 40/50\n",
      "23/23 [==============================] - 0s 433us/step - loss: 919.2502\n",
      "Epoch 41/50\n",
      "23/23 [==============================] - 0s 487us/step - loss: 893.2781\n",
      "Epoch 42/50\n",
      "23/23 [==============================] - 0s 443us/step - loss: 868.0386\n",
      "Epoch 43/50\n",
      "23/23 [==============================] - 0s 433us/step - loss: 844.0897\n",
      "Epoch 44/50\n",
      "23/23 [==============================] - 0s 470us/step - loss: 821.8620\n",
      "Epoch 45/50\n",
      "23/23 [==============================] - 0s 481us/step - loss: 798.3079\n",
      "Epoch 46/50\n",
      "23/23 [==============================] - 0s 502us/step - loss: 777.2266\n",
      "Epoch 47/50\n",
      "23/23 [==============================] - 0s 456us/step - loss: 756.7466\n",
      "Epoch 48/50\n",
      "23/23 [==============================] - 0s 496us/step - loss: 736.7298\n",
      "Epoch 49/50\n",
      "23/23 [==============================] - 0s 491us/step - loss: 718.1340\n",
      "Epoch 50/50\n",
      "23/23 [==============================] - 0s 496us/step - loss: 699.5940\n"
     ]
    },
    {
     "data": {
      "text/plain": [
       "<tensorflow.python.keras.callbacks.History at 0x1edc7878eb0>"
      ]
     },
     "execution_count": 11,
     "metadata": {},
     "output_type": "execute_result"
    }
   ],
   "source": [
    "# build model for part A\n",
    "modelA = regression_model()\n",
    "epochs = 50\n",
    "modelA.fit(X_train,y_train,epochs = epochs, verbose = 1)"
   ]
  },
  {
   "cell_type": "code",
   "execution_count": 12,
   "metadata": {},
   "outputs": [
    {
     "name": "stdout",
     "output_type": "stream",
     "text": [
      " 1/10 [==>...........................] - ETA: 0s - loss: 1080.7944WARNING:tensorflow:Callbacks method `on_test_batch_begin` is slow compared to the batch time (batch time: 0.0000s vs `on_test_batch_begin` time: 0.0010s). Check your callbacks.\n",
      "10/10 [==============================] - 0s 489us/step - loss: 830.6903\n"
     ]
    },
    {
     "data": {
      "text/plain": [
       "830.6903076171875"
      ]
     },
     "execution_count": 12,
     "metadata": {},
     "output_type": "execute_result"
    }
   ],
   "source": [
    "loss_val = modelA.evaluate(X_test, y_test)\n",
    "loss_val"
   ]
  },
  {
   "cell_type": "code",
   "execution_count": 13,
   "metadata": {},
   "outputs": [],
   "source": [
    "y_hat = modelA.predict(X_test)"
   ]
  },
  {
   "cell_type": "code",
   "execution_count": 14,
   "metadata": {},
   "outputs": [
    {
     "name": "stdout",
     "output_type": "stream",
     "text": [
      "Mean Squared Error = 830.6902668697553\n"
     ]
    }
   ],
   "source": [
    "mse = mean_squared_error(y_test,y_hat)\n",
    "print(\"Mean Squared Error = {}\".format(mse))"
   ]
  },
  {
   "cell_type": "code",
   "execution_count": 15,
   "metadata": {},
   "outputs": [],
   "source": [
    "mse_lst = []\n",
    "for i in range(50):\n",
    "    X_train, X_test, y_train, y_test = train_test_split(predictors, target, test_size=0.3, random_state=6)\n",
    "    modelA = regression_model()\n",
    "    modelA.fit(X_train,y_train,epochs = 50, verbose = 0)\n",
    "    \n",
    "    y_hat = modelA.predict(X_test)\n",
    "    mse = mean_squared_error(y_test,y_hat)\n",
    "    mse_lst.append(mse)"
   ]
  },
  {
   "cell_type": "code",
   "execution_count": 16,
   "metadata": {},
   "outputs": [
    {
     "name": "stdout",
     "output_type": "stream",
     "text": [
      "Mean = 365.73706053564746, Standard Deviation = 413.95614714115493\n"
     ]
    }
   ],
   "source": [
    "mean = np.mean(mse_lst)\n",
    "standard_deviation = np.std(mse_lst)\n",
    "\n",
    "print(\"Mean = {}, Standard Deviation = {}\".format(mean,standard_deviation))"
   ]
  },
  {
   "cell_type": "markdown",
   "metadata": {},
   "source": [
    "## Prediction with Normalized Data *(Part B)*\n",
    "Now we try to do carry out the same experiment as before but using Normalized predictors. "
   ]
  },
  {
   "cell_type": "code",
   "execution_count": 17,
   "metadata": {},
   "outputs": [
    {
     "data": {
      "text/html": [
       "<div>\n",
       "<style scoped>\n",
       "    .dataframe tbody tr th:only-of-type {\n",
       "        vertical-align: middle;\n",
       "    }\n",
       "\n",
       "    .dataframe tbody tr th {\n",
       "        vertical-align: top;\n",
       "    }\n",
       "\n",
       "    .dataframe thead th {\n",
       "        text-align: right;\n",
       "    }\n",
       "</style>\n",
       "<table border=\"1\" class=\"dataframe\">\n",
       "  <thead>\n",
       "    <tr style=\"text-align: right;\">\n",
       "      <th></th>\n",
       "      <th>Cement</th>\n",
       "      <th>Blast Furnace Slag</th>\n",
       "      <th>Fly Ash</th>\n",
       "      <th>Water</th>\n",
       "      <th>Superplasticizer</th>\n",
       "      <th>Coarse Aggregate</th>\n",
       "      <th>Fine Aggregate</th>\n",
       "      <th>Age</th>\n",
       "    </tr>\n",
       "  </thead>\n",
       "  <tbody>\n",
       "    <tr>\n",
       "      <th>0</th>\n",
       "      <td>2.476712</td>\n",
       "      <td>-0.856472</td>\n",
       "      <td>-0.846733</td>\n",
       "      <td>-0.916319</td>\n",
       "      <td>-0.620147</td>\n",
       "      <td>0.862735</td>\n",
       "      <td>-1.217079</td>\n",
       "      <td>-0.279597</td>\n",
       "    </tr>\n",
       "    <tr>\n",
       "      <th>1</th>\n",
       "      <td>2.476712</td>\n",
       "      <td>-0.856472</td>\n",
       "      <td>-0.846733</td>\n",
       "      <td>-0.916319</td>\n",
       "      <td>-0.620147</td>\n",
       "      <td>1.055651</td>\n",
       "      <td>-1.217079</td>\n",
       "      <td>-0.279597</td>\n",
       "    </tr>\n",
       "    <tr>\n",
       "      <th>2</th>\n",
       "      <td>0.491187</td>\n",
       "      <td>0.795140</td>\n",
       "      <td>-0.846733</td>\n",
       "      <td>2.174405</td>\n",
       "      <td>-1.038638</td>\n",
       "      <td>-0.526262</td>\n",
       "      <td>-2.239829</td>\n",
       "      <td>3.551340</td>\n",
       "    </tr>\n",
       "    <tr>\n",
       "      <th>3</th>\n",
       "      <td>0.491187</td>\n",
       "      <td>0.795140</td>\n",
       "      <td>-0.846733</td>\n",
       "      <td>2.174405</td>\n",
       "      <td>-1.038638</td>\n",
       "      <td>-0.526262</td>\n",
       "      <td>-2.239829</td>\n",
       "      <td>5.055221</td>\n",
       "    </tr>\n",
       "    <tr>\n",
       "      <th>4</th>\n",
       "      <td>-0.790075</td>\n",
       "      <td>0.678079</td>\n",
       "      <td>-0.846733</td>\n",
       "      <td>0.488555</td>\n",
       "      <td>-1.038638</td>\n",
       "      <td>0.070492</td>\n",
       "      <td>0.647569</td>\n",
       "      <td>4.976069</td>\n",
       "    </tr>\n",
       "  </tbody>\n",
       "</table>\n",
       "</div>"
      ],
      "text/plain": [
       "     Cement  Blast Furnace Slag   Fly Ash     Water  Superplasticizer  \\\n",
       "0  2.476712           -0.856472 -0.846733 -0.916319         -0.620147   \n",
       "1  2.476712           -0.856472 -0.846733 -0.916319         -0.620147   \n",
       "2  0.491187            0.795140 -0.846733  2.174405         -1.038638   \n",
       "3  0.491187            0.795140 -0.846733  2.174405         -1.038638   \n",
       "4 -0.790075            0.678079 -0.846733  0.488555         -1.038638   \n",
       "\n",
       "   Coarse Aggregate  Fine Aggregate       Age  \n",
       "0          0.862735       -1.217079 -0.279597  \n",
       "1          1.055651       -1.217079 -0.279597  \n",
       "2         -0.526262       -2.239829  3.551340  \n",
       "3         -0.526262       -2.239829  5.055221  \n",
       "4          0.070492        0.647569  4.976069  "
      ]
     },
     "execution_count": 17,
     "metadata": {},
     "output_type": "execute_result"
    }
   ],
   "source": [
    "# Normalizing Predictors and printing the first five rows.\n",
    "predictors_norm = (predictors- predictors.mean())/predictors.std()\n",
    "predictors_norm.head()"
   ]
  },
  {
   "cell_type": "code",
   "execution_count": 18,
   "metadata": {},
   "outputs": [],
   "source": [
    "# Splitting the normalized data set for training and testing\n",
    "X_train_norm, X_test_norm, y_train_norm, y_test_norm = train_test_split(predictors_norm, target, test_size=0.3, random_state=6)"
   ]
  },
  {
   "cell_type": "code",
   "execution_count": 19,
   "metadata": {},
   "outputs": [
    {
     "name": "stdout",
     "output_type": "stream",
     "text": [
      "Epoch 1/50\n",
      "23/23 [==============================] - 0s 284us/step - loss: 1520.1278\n",
      "Epoch 2/50\n",
      "23/23 [==============================] - 0s 679us/step - loss: 1503.8928\n",
      "Epoch 3/50\n",
      "23/23 [==============================] - 0s 679us/step - loss: 1488.1625\n",
      "Epoch 4/50\n",
      "23/23 [==============================] - 0s 681us/step - loss: 1472.4912\n",
      "Epoch 5/50\n",
      "23/23 [==============================] - 0s 677us/step - loss: 1456.9749\n",
      "Epoch 6/50\n",
      "23/23 [==============================] - 0s 0s/step - loss: 1441.3744\n",
      "Epoch 7/50\n",
      "23/23 [==============================] - 0s 679us/step - loss: 1425.4517\n",
      "Epoch 8/50\n",
      "23/23 [==============================] - 0s 679us/step - loss: 1409.0513\n",
      "Epoch 9/50\n",
      "23/23 [==============================] - 0s 283us/step - loss: 1392.0435\n",
      "Epoch 10/50\n",
      "23/23 [==============================] - 0s 793us/step - loss: 1374.2496\n",
      "Epoch 11/50\n",
      "23/23 [==============================] - 0s 0s/step - loss: 1355.9653\n",
      "Epoch 12/50\n",
      "23/23 [==============================] - 0s 0s/step - loss: 1336.5618\n",
      "Epoch 13/50\n",
      "23/23 [==============================] - 0s 679us/step - loss: 1316.2977\n",
      "Epoch 14/50\n",
      "23/23 [==============================] - 0s 679us/step - loss: 1294.9312\n",
      "Epoch 15/50\n",
      "23/23 [==============================] - 0s 679us/step - loss: 1272.4600\n",
      "Epoch 16/50\n",
      "23/23 [==============================] - 0s 0s/step - loss: 1248.8234\n",
      "Epoch 17/50\n",
      "23/23 [==============================] - 0s 832us/step - loss: 1224.2415\n",
      "Epoch 18/50\n",
      "23/23 [==============================] - 0s 679us/step - loss: 1198.5414\n",
      "Epoch 19/50\n",
      "23/23 [==============================] - 0s 0s/step - loss: 1172.1649\n",
      "Epoch 20/50\n",
      "23/23 [==============================] - 0s 679us/step - loss: 1144.4088\n",
      "Epoch 21/50\n",
      "23/23 [==============================] - 0s 679us/step - loss: 1116.2938\n",
      "Epoch 22/50\n",
      "23/23 [==============================] - 0s 679us/step - loss: 1086.6711\n",
      "Epoch 23/50\n",
      "23/23 [==============================] - 0s 0s/step - loss: 1057.2550\n",
      "Epoch 24/50\n",
      "23/23 [==============================] - 0s 679us/step - loss: 1026.9786\n",
      "Epoch 25/50\n",
      "23/23 [==============================] - 0s 962us/step - loss: 996.2568\n",
      "Epoch 26/50\n",
      "23/23 [==============================] - 0s 0s/step - loss: 965.3350\n",
      "Epoch 27/50\n",
      "23/23 [==============================] - 0s 679us/step - loss: 934.6139\n",
      "Epoch 28/50\n",
      "23/23 [==============================] - 0s 679us/step - loss: 903.4637\n",
      "Epoch 29/50\n",
      "23/23 [==============================] - 0s 679us/step - loss: 872.8960\n",
      "Epoch 30/50\n",
      "23/23 [==============================] - 0s 0s/step - loss: 841.9351\n",
      "Epoch 31/50\n",
      "23/23 [==============================] - 0s 679us/step - loss: 811.6208\n",
      "Epoch 32/50\n",
      "23/23 [==============================] - 0s 681us/step - loss: 781.6248\n",
      "Epoch 33/50\n",
      "23/23 [==============================] - 0s 678us/step - loss: 751.8707\n",
      "Epoch 34/50\n",
      "23/23 [==============================] - 0s 283us/step - loss: 722.7873\n",
      "Epoch 35/50\n",
      "23/23 [==============================] - 0s 679us/step - loss: 694.3525\n",
      "Epoch 36/50\n",
      "23/23 [==============================] - 0s 0s/step - loss: 666.0840\n",
      "Epoch 37/50\n",
      "23/23 [==============================] - 0s 0s/step - loss: 638.9062\n",
      "Epoch 38/50\n",
      "23/23 [==============================] - 0s 679us/step - loss: 612.3683\n",
      "Epoch 39/50\n",
      "23/23 [==============================] - 0s 679us/step - loss: 586.8576\n",
      "Epoch 40/50\n",
      "23/23 [==============================] - 0s 679us/step - loss: 561.8522\n",
      "Epoch 41/50\n",
      "23/23 [==============================] - 0s 0s/step - loss: 538.3600\n",
      "Epoch 42/50\n",
      "23/23 [==============================] - 0s 962us/step - loss: 515.4854\n",
      "Epoch 43/50\n",
      "23/23 [==============================] - 0s 0s/step - loss: 493.8563\n",
      "Epoch 44/50\n",
      "23/23 [==============================] - 0s 0s/step - loss: 473.2043\n",
      "Epoch 45/50\n",
      "23/23 [==============================] - 0s 679us/step - loss: 453.3210\n",
      "Epoch 46/50\n",
      "23/23 [==============================] - 0s 681us/step - loss: 434.6555\n",
      "Epoch 47/50\n",
      "23/23 [==============================] - 0s 0s/step - loss: 416.8249\n",
      "Epoch 48/50\n",
      "23/23 [==============================] - 0s 0s/step - loss: 400.2001\n",
      "Epoch 49/50\n",
      "23/23 [==============================] - 0s 679us/step - loss: 384.3914\n",
      "Epoch 50/50\n",
      "23/23 [==============================] - 0s 679us/step - loss: 369.0933\n"
     ]
    },
    {
     "data": {
      "text/plain": [
       "<tensorflow.python.keras.callbacks.History at 0x1edcbbfddc0>"
      ]
     },
     "execution_count": 19,
     "metadata": {},
     "output_type": "execute_result"
    }
   ],
   "source": [
    "#Build model for Part B and training it\n",
    "modelB = regression_model()\n",
    "epochs = 50\n",
    "modelB.fit(X_train_norm,y_train_norm,epochs = epochs, verbose = 1)"
   ]
  },
  {
   "cell_type": "code",
   "execution_count": 20,
   "metadata": {},
   "outputs": [
    {
     "name": "stdout",
     "output_type": "stream",
     "text": [
      "10/10 [==============================] - 0s 2ms/step - loss: 491.4712\n"
     ]
    },
    {
     "data": {
      "text/plain": [
       "491.47119140625"
      ]
     },
     "execution_count": 20,
     "metadata": {},
     "output_type": "execute_result"
    }
   ],
   "source": [
    "# Evaluate the model on the test data set\n",
    "loss_valB = modelB.evaluate(X_test_norm, y_test_norm)\n",
    "loss_valB"
   ]
  },
  {
   "cell_type": "code",
   "execution_count": 21,
   "metadata": {},
   "outputs": [],
   "source": [
    "y_hat_norm = modelB.predict(X_test_norm)"
   ]
  },
  {
   "cell_type": "code",
   "execution_count": 22,
   "metadata": {},
   "outputs": [
    {
     "name": "stdout",
     "output_type": "stream",
     "text": [
      "Mean Squared Error for normalized predictors = 491.47112642164115\n"
     ]
    }
   ],
   "source": [
    "mseB = mean_squared_error(y_test_norm,y_hat_norm)\n",
    "print(\"Mean Squared Error for normalized predictors = {}\".format(mseB))"
   ]
  },
  {
   "cell_type": "code",
   "execution_count": 23,
   "metadata": {},
   "outputs": [],
   "source": [
    "mse_lst_B = []\n",
    "for i in range(50):\n",
    "    X_train_norm, X_test_norm, y_train_norm, y_test_norm = train_test_split(predictors_norm, target, test_size=0.3, random_state=6)\n",
    "    modelB = regression_model()\n",
    "    modelB.fit(X_train_norm,y_train_norm,epochs = 50, verbose = 0)\n",
    "    \n",
    "    y_hat_norm = modelB.predict(X_test_norm)\n",
    "    mseB = mean_squared_error(y_test_norm,y_hat_norm)\n",
    "    mse_lst_B.append(mseB)"
   ]
  },
  {
   "cell_type": "code",
   "execution_count": 24,
   "metadata": {},
   "outputs": [
    {
     "name": "stdout",
     "output_type": "stream",
     "text": [
      "For Mean Squared Errors, Mean = 427.7035353795884, Standard Deviation = 102.15603757178387\n"
     ]
    }
   ],
   "source": [
    "mean_B = np.mean(mse_lst_B)\n",
    "standard_deviation_B = np.std(mse_lst_B)\n",
    "\n",
    "print(\"For Mean Squared Errors, Mean = {}, Standard Deviation = {}\".format(mean_B,standard_deviation_B))"
   ]
  },
  {
   "cell_type": "markdown",
   "metadata": {},
   "source": [
    "## Increasing the number of training epochs *(Part C)*\n",
    "Now we increase the number of training epochs to 100.\n",
    "Training and prediction is carryied out using the normalized data in this section."
   ]
  },
  {
   "cell_type": "code",
   "execution_count": 25,
   "metadata": {},
   "outputs": [],
   "source": [
    "# Splitting the normalized data set for training and testing\n",
    "X_train_C, X_test_C, y_train_C, y_test_C = train_test_split(predictors_norm, target, test_size=0.3, random_state=6)"
   ]
  },
  {
   "cell_type": "code",
   "execution_count": 26,
   "metadata": {},
   "outputs": [
    {
     "name": "stdout",
     "output_type": "stream",
     "text": [
      "Epoch 1/100\n",
      "23/23 [==============================] - 0s 679us/step - loss: 1526.7635\n",
      "Epoch 2/100\n",
      "23/23 [==============================] - 0s 680us/step - loss: 1508.9530\n",
      "Epoch 3/100\n",
      "23/23 [==============================] - 0s 679us/step - loss: 1491.6312\n",
      "Epoch 4/100\n",
      "23/23 [==============================] - 0s 680us/step - loss: 1474.2029\n",
      "Epoch 5/100\n",
      "23/23 [==============================] - 0s 678us/step - loss: 1456.7216\n",
      "Epoch 6/100\n",
      "23/23 [==============================] - 0s 679us/step - loss: 1439.1323\n",
      "Epoch 7/100\n",
      "23/23 [==============================] - 0s 284us/step - loss: 1421.2966\n",
      "Epoch 8/100\n",
      "23/23 [==============================] - 0s 679us/step - loss: 1403.2213\n",
      "Epoch 9/100\n",
      "23/23 [==============================] - 0s 679us/step - loss: 1384.7538\n",
      "Epoch 10/100\n",
      "23/23 [==============================] - 0s 679us/step - loss: 1365.8190\n",
      "Epoch 11/100\n",
      "23/23 [==============================] - 0s 0s/step - loss: 1346.4130\n",
      "Epoch 12/100\n",
      "23/23 [==============================] - 0s 0s/step - loss: 1326.4469\n",
      "Epoch 13/100\n",
      "23/23 [==============================] - 0s 679us/step - loss: 1306.1201\n",
      "Epoch 14/100\n",
      "23/23 [==============================] - 0s 679us/step - loss: 1284.9766\n",
      "Epoch 15/100\n",
      "23/23 [==============================] - 0s 0s/step - loss: 1263.2292\n",
      "Epoch 16/100\n",
      "23/23 [==============================] - 0s 679us/step - loss: 1240.9957\n",
      "Epoch 17/100\n",
      "23/23 [==============================] - 0s 679us/step - loss: 1217.8357\n",
      "Epoch 18/100\n",
      "23/23 [==============================] - 0s 679us/step - loss: 1194.3615\n",
      "Epoch 19/100\n",
      "23/23 [==============================] - 0s 0s/step - loss: 1170.2533\n",
      "Epoch 20/100\n",
      "23/23 [==============================] - 0s 0s/step - loss: 1145.4839\n",
      "Epoch 21/100\n",
      "23/23 [==============================] - 0s 679us/step - loss: 1120.3329\n",
      "Epoch 22/100\n",
      "23/23 [==============================] - 0s 679us/step - loss: 1094.5277\n",
      "Epoch 23/100\n",
      "23/23 [==============================] - 0s 0s/step - loss: 1068.7229\n",
      "Epoch 24/100\n",
      "23/23 [==============================] - 0s 679us/step - loss: 1042.5615\n",
      "Epoch 25/100\n",
      "23/23 [==============================] - 0s 679us/step - loss: 1015.9627\n",
      "Epoch 26/100\n",
      "23/23 [==============================] - 0s 679us/step - loss: 989.0795\n",
      "Epoch 27/100\n",
      "23/23 [==============================] - 0s 679us/step - loss: 962.3499\n",
      "Epoch 28/100\n",
      "23/23 [==============================] - 0s 0s/step - loss: 935.3860\n",
      "Epoch 29/100\n",
      "23/23 [==============================] - 0s 679us/step - loss: 908.4808\n",
      "Epoch 30/100\n",
      "23/23 [==============================] - 0s 679us/step - loss: 881.5394\n",
      "Epoch 31/100\n",
      "23/23 [==============================] - 0s 0s/step - loss: 854.8384\n",
      "Epoch 32/100\n",
      "23/23 [==============================] - 0s 746us/step - loss: 828.1366\n",
      "Epoch 33/100\n",
      "23/23 [==============================] - 0s 679us/step - loss: 802.1498\n",
      "Epoch 34/100\n",
      "23/23 [==============================] - 0s 679us/step - loss: 776.0942\n",
      "Epoch 35/100\n",
      "23/23 [==============================] - 0s 0s/step - loss: 750.5635\n",
      "Epoch 36/100\n",
      "23/23 [==============================] - 0s 679us/step - loss: 725.6232\n",
      "Epoch 37/100\n",
      "23/23 [==============================] - 0s 679us/step - loss: 700.8831\n",
      "Epoch 38/100\n",
      "23/23 [==============================] - 0s 679us/step - loss: 676.5672\n",
      "Epoch 39/100\n",
      "23/23 [==============================] - 0s 0s/step - loss: 653.0542\n",
      "Epoch 40/100\n",
      "23/23 [==============================] - 0s 679us/step - loss: 630.2557\n",
      "Epoch 41/100\n",
      "23/23 [==============================] - 0s 679us/step - loss: 607.7077\n",
      "Epoch 42/100\n",
      "23/23 [==============================] - 0s 679us/step - loss: 585.9807\n",
      "Epoch 43/100\n",
      "23/23 [==============================] - 0s 679us/step - loss: 565.1065\n",
      "Epoch 44/100\n",
      "23/23 [==============================] - 0s 0s/step - loss: 544.5366\n",
      "Epoch 45/100\n",
      "23/23 [==============================] - 0s 679us/step - loss: 525.0598\n",
      "Epoch 46/100\n",
      "23/23 [==============================] - 0s 962us/step - loss: 506.1217\n",
      "Epoch 47/100\n",
      "23/23 [==============================] - 0s 0s/step - loss: 487.9084\n",
      "Epoch 48/100\n",
      "23/23 [==============================] - 0s 680us/step - loss: 470.7194\n",
      "Epoch 49/100\n",
      "23/23 [==============================] - 0s 792us/step - loss: 453.9487\n",
      "Epoch 50/100\n",
      "23/23 [==============================] - 0s 679us/step - loss: 437.8962\n",
      "Epoch 51/100\n",
      "23/23 [==============================] - 0s 0s/step - loss: 422.5889\n",
      "Epoch 52/100\n",
      "23/23 [==============================] - 0s 679us/step - loss: 408.2284\n",
      "Epoch 53/100\n",
      "23/23 [==============================] - 0s 679us/step - loss: 394.3646\n",
      "Epoch 54/100\n",
      "23/23 [==============================] - 0s 832us/step - loss: 381.2651\n",
      "Epoch 55/100\n",
      "23/23 [==============================] - 0s 0s/step - loss: 368.9826\n",
      "Epoch 56/100\n",
      "23/23 [==============================] - 0s 679us/step - loss: 357.3510\n",
      "Epoch 57/100\n",
      "23/23 [==============================] - 0s 679us/step - loss: 346.4106\n",
      "Epoch 58/100\n",
      "23/23 [==============================] - 0s 679us/step - loss: 336.1499\n",
      "Epoch 59/100\n",
      "23/23 [==============================] - 0s 0s/step - loss: 326.4103\n",
      "Epoch 60/100\n",
      "23/23 [==============================] - 0s 0s/step - loss: 317.1083\n",
      "Epoch 61/100\n",
      "23/23 [==============================] - 0s 679us/step - loss: 308.6431\n",
      "Epoch 62/100\n",
      "23/23 [==============================] - 0s 679us/step - loss: 300.4942\n",
      "Epoch 63/100\n",
      "23/23 [==============================] - 0s 0s/step - loss: 292.9070\n",
      "Epoch 64/100\n",
      "23/23 [==============================] - 0s 679us/step - loss: 285.5735\n",
      "Epoch 65/100\n",
      "23/23 [==============================] - 0s 679us/step - loss: 278.8270\n",
      "Epoch 66/100\n",
      "23/23 [==============================] - 0s 679us/step - loss: 272.7156\n",
      "Epoch 67/100\n",
      "23/23 [==============================] - 0s 0s/step - loss: 266.6611\n",
      "Epoch 68/100\n",
      "23/23 [==============================] - 0s 679us/step - loss: 261.1479\n",
      "Epoch 69/100\n",
      "23/23 [==============================] - 0s 679us/step - loss: 255.8204\n",
      "Epoch 70/100\n",
      "23/23 [==============================] - 0s 679us/step - loss: 251.0274\n",
      "Epoch 71/100\n",
      "23/23 [==============================] - 0s 283us/step - loss: 246.3013\n",
      "Epoch 72/100\n",
      "23/23 [==============================] - 0s 679us/step - loss: 242.0289\n",
      "Epoch 73/100\n",
      "23/23 [==============================] - 0s 679us/step - loss: 237.8029\n",
      "Epoch 74/100\n",
      "23/23 [==============================] - 0s 0s/step - loss: 233.8633\n",
      "Epoch 75/100\n",
      "23/23 [==============================] - 0s 679us/step - loss: 230.0889\n",
      "Epoch 76/100\n",
      "23/23 [==============================] - 0s 679us/step - loss: 226.5272\n",
      "Epoch 77/100\n",
      "23/23 [==============================] - 0s 679us/step - loss: 223.0912\n",
      "Epoch 78/100\n",
      "23/23 [==============================] - 0s 679us/step - loss: 219.8646\n",
      "Epoch 79/100\n",
      "23/23 [==============================] - 0s 283us/step - loss: 216.7378\n",
      "Epoch 80/100\n",
      "23/23 [==============================] - 0s 680us/step - loss: 213.7490\n",
      "Epoch 81/100\n",
      "23/23 [==============================] - 0s 678us/step - loss: 210.9023\n",
      "Epoch 82/100\n",
      "23/23 [==============================] - 0s 679us/step - loss: 208.0902\n",
      "Epoch 83/100\n",
      "23/23 [==============================] - 0s 0s/step - loss: 205.5036\n",
      "Epoch 84/100\n",
      "23/23 [==============================] - 0s 679us/step - loss: 203.0061\n",
      "Epoch 85/100\n",
      "23/23 [==============================] - 0s 679us/step - loss: 200.4790\n",
      "Epoch 86/100\n",
      "23/23 [==============================] - 0s 679us/step - loss: 198.0465\n",
      "Epoch 87/100\n",
      "23/23 [==============================] - 0s 283us/step - loss: 195.5974\n",
      "Epoch 88/100\n",
      "23/23 [==============================] - 0s 679us/step - loss: 193.3240\n",
      "Epoch 89/100\n",
      "23/23 [==============================] - 0s 679us/step - loss: 191.0937\n",
      "Epoch 90/100\n",
      "23/23 [==============================] - 0s 679us/step - loss: 188.9346\n",
      "Epoch 91/100\n",
      "23/23 [==============================] - 0s 0s/step - loss: 186.7101\n",
      "Epoch 92/100\n",
      "23/23 [==============================] - 0s 679us/step - loss: 184.5977\n",
      "Epoch 93/100\n",
      "23/23 [==============================] - 0s 679us/step - loss: 182.5480\n",
      "Epoch 94/100\n",
      "23/23 [==============================] - 0s 679us/step - loss: 180.4890\n",
      "Epoch 95/100\n",
      "23/23 [==============================] - 0s 283us/step - loss: 178.5583\n",
      "Epoch 96/100\n",
      "23/23 [==============================] - 0s 679us/step - loss: 176.5144\n",
      "Epoch 97/100\n",
      "23/23 [==============================] - 0s 679us/step - loss: 174.6108\n"
     ]
    },
    {
     "name": "stdout",
     "output_type": "stream",
     "text": [
      "Epoch 98/100\n",
      "23/23 [==============================] - 0s 679us/step - loss: 172.7268\n",
      "Epoch 99/100\n",
      "23/23 [==============================] - 0s 0s/step - loss: 170.8415\n",
      "Epoch 100/100\n",
      "23/23 [==============================] - 0s 679us/step - loss: 169.0657\n"
     ]
    },
    {
     "data": {
      "text/plain": [
       "<tensorflow.python.keras.callbacks.History at 0x1edcc17a6d0>"
      ]
     },
     "execution_count": 26,
     "metadata": {},
     "output_type": "execute_result"
    }
   ],
   "source": [
    "#Build model for Part C and training it\n",
    "modelC = regression_model()\n",
    "epochs = 100\n",
    "modelC.fit(X_train_C,y_train_C,epochs = epochs, verbose = 1)"
   ]
  },
  {
   "cell_type": "code",
   "execution_count": 27,
   "metadata": {},
   "outputs": [
    {
     "name": "stdout",
     "output_type": "stream",
     "text": [
      "10/10 [==============================] - 0s 2ms/step - loss: 214.1084\n"
     ]
    },
    {
     "data": {
      "text/plain": [
       "214.10838317871094"
      ]
     },
     "execution_count": 27,
     "metadata": {},
     "output_type": "execute_result"
    }
   ],
   "source": [
    "loss_valC = modelC.evaluate(X_test_C, y_test_C)\n",
    "loss_valC"
   ]
  },
  {
   "cell_type": "code",
   "execution_count": 28,
   "metadata": {},
   "outputs": [],
   "source": [
    "y_hat_C = modelC.predict(X_test_C)"
   ]
  },
  {
   "cell_type": "code",
   "execution_count": 29,
   "metadata": {},
   "outputs": [
    {
     "name": "stdout",
     "output_type": "stream",
     "text": [
      "Mean Squared Error for normalized predictors with 100 epoch training = 214.10839745112796\n"
     ]
    }
   ],
   "source": [
    "mseC = mean_squared_error(y_test_C,y_hat_C)\n",
    "print(\"Mean Squared Error for normalized predictors with 100 epoch training = {}\".format(mseC))"
   ]
  },
  {
   "cell_type": "code",
   "execution_count": 30,
   "metadata": {},
   "outputs": [],
   "source": [
    "mse_lst_C = []\n",
    "for i in range(50):\n",
    "    X_train_C, X_test_C, y_train_C, y_test_C = train_test_split(predictors_norm, target, test_size=0.3, random_state=6)\n",
    "    modelC = regression_model()\n",
    "    modelC.fit(X_train_C,y_train_C,epochs = 100, verbose = 0)\n",
    "    \n",
    "    y_hat_C = modelC.predict(X_test_C)\n",
    "    mseC = mean_squared_error(y_test_C,y_hat_C)\n",
    "    mse_lst_C.append(mseC)"
   ]
  },
  {
   "cell_type": "code",
   "execution_count": 31,
   "metadata": {},
   "outputs": [
    {
     "name": "stdout",
     "output_type": "stream",
     "text": [
      "For Mean Squared Errors with 100 epochs for training, Mean = 197.0026963059706, Standard Deviation = 19.333294185653877\n"
     ]
    }
   ],
   "source": [
    "mean_C = np.mean(mse_lst_C)\n",
    "standard_deviation_C = np.std(mse_lst_C)\n",
    "\n",
    "print(\"For Mean Squared Errors with 100 epochs for training, Mean = {}, Standard Deviation = {}\".format(mean_C,standard_deviation_C))"
   ]
  },
  {
   "cell_type": "code",
   "execution_count": 32,
   "metadata": {},
   "outputs": [
    {
     "name": "stdout",
     "output_type": "stream",
     "text": [
      "The mean of the mean squared errors have decreased by 53.939427661936435% relative to 50 epoch training.\n"
     ]
    }
   ],
   "source": [
    "mean_change_percentage = ((mean_B - mean_C)/mean_B)*100\n",
    "print(\"The mean of the mean squared errors have decreased by {}% relative to 50 epoch training.\".format(mean_change_percentage))"
   ]
  },
  {
   "cell_type": "markdown",
   "metadata": {},
   "source": [
    "## Increasing the number of hidden layers of the neural network. *(Part D)*\n",
    "Now we modify the neural network used by *(Part B)* to have *3* hidden layers."
   ]
  },
  {
   "cell_type": "code",
   "execution_count": 33,
   "metadata": {},
   "outputs": [],
   "source": [
    "def regression_model_modified():\n",
    "    # creation of the model\n",
    "    model = Sequential()\n",
    "    model.add(Dense(10, activation = 'relu', input_shape = (n_cols,)))\n",
    "    model.add(Dense(10, activation = 'relu'))\n",
    "    model.add(Dense(10, activation = 'relu'))\n",
    "    model.add(Dense(1))\n",
    "    \n",
    "    # compile the model\n",
    "    model.compile(optimizer = 'adam', loss = 'mean_squared_error')\n",
    "    return model"
   ]
  },
  {
   "cell_type": "code",
   "execution_count": 34,
   "metadata": {},
   "outputs": [],
   "source": [
    "# Splitting the normalized data set for training and testing\n",
    "X_train_D, X_test_D, y_train_D, y_test_D = train_test_split(predictors_norm, target, test_size=0.3, random_state=6)"
   ]
  },
  {
   "cell_type": "code",
   "execution_count": 35,
   "metadata": {},
   "outputs": [
    {
     "name": "stdout",
     "output_type": "stream",
     "text": [
      "Epoch 1/50\n",
      "23/23 [==============================] - 0s 755us/step - loss: 1452.6493\n",
      "Epoch 2/50\n",
      "23/23 [==============================] - 0s 689us/step - loss: 1412.6016\n",
      "Epoch 3/50\n",
      "23/23 [==============================] - 0s 607us/step - loss: 1356.6437\n",
      "Epoch 4/50\n",
      "23/23 [==============================] - 0s 607us/step - loss: 1272.1553\n",
      "Epoch 5/50\n",
      "23/23 [==============================] - 0s 650us/step - loss: 1145.4694\n",
      "Epoch 6/50\n",
      "23/23 [==============================] - 0s 639us/step - loss: 971.7471\n",
      "Epoch 7/50\n",
      "23/23 [==============================] - 0s 650us/step - loss: 757.4332\n",
      "Epoch 8/50\n",
      "23/23 [==============================] - 0s 619us/step - loss: 548.7614\n",
      "Epoch 9/50\n",
      "23/23 [==============================] - 0s 521us/step - loss: 391.1154\n",
      "Epoch 10/50\n",
      "23/23 [==============================] - 0s 549us/step - loss: 294.5759\n",
      "Epoch 11/50\n",
      "23/23 [==============================] - 0s 538us/step - loss: 242.5249\n",
      "Epoch 12/50\n",
      "23/23 [==============================] - 0s 563us/step - loss: 216.0031\n",
      "Epoch 13/50\n",
      "23/23 [==============================] - 0s 520us/step - loss: 200.1082\n",
      "Epoch 14/50\n",
      "23/23 [==============================] - 0s 607us/step - loss: 189.2313\n",
      "Epoch 15/50\n",
      "23/23 [==============================] - 0s 607us/step - loss: 181.6433\n",
      "Epoch 16/50\n",
      "23/23 [==============================] - 0s 607us/step - loss: 175.0348\n",
      "Epoch 17/50\n",
      "23/23 [==============================] - 0s 606us/step - loss: 170.0473\n",
      "Epoch 18/50\n",
      "23/23 [==============================] - 0s 611us/step - loss: 165.7333\n",
      "Epoch 19/50\n",
      "23/23 [==============================] - 0s 607us/step - loss: 162.3596\n",
      "Epoch 20/50\n",
      "23/23 [==============================] - 0s 564us/step - loss: 158.9441\n",
      "Epoch 21/50\n",
      "23/23 [==============================] - 0s 563us/step - loss: 156.1467\n",
      "Epoch 22/50\n",
      "23/23 [==============================] - 0s 650us/step - loss: 153.2369\n",
      "Epoch 23/50\n",
      "23/23 [==============================] - 0s 610us/step - loss: 151.0173\n",
      "Epoch 24/50\n",
      "23/23 [==============================] - 0s 565us/step - loss: 148.8313\n",
      "Epoch 25/50\n",
      "23/23 [==============================] - 0s 607us/step - loss: 147.3219\n",
      "Epoch 26/50\n",
      "23/23 [==============================] - 0s 637us/step - loss: 145.5316\n",
      "Epoch 27/50\n",
      "23/23 [==============================] - 0s 564us/step - loss: 143.6167\n",
      "Epoch 28/50\n",
      "23/23 [==============================] - 0s 650us/step - loss: 142.0575\n",
      "Epoch 29/50\n",
      "23/23 [==============================] - 0s 564us/step - loss: 140.6636\n",
      "Epoch 30/50\n",
      "23/23 [==============================] - 0s 608us/step - loss: 139.4756\n",
      "Epoch 31/50\n",
      "23/23 [==============================] - 0s 564us/step - loss: 138.3459\n",
      "Epoch 32/50\n",
      "23/23 [==============================] - 0s 564us/step - loss: 136.8904\n",
      "Epoch 33/50\n",
      "23/23 [==============================] - 0s 694us/step - loss: 135.7746\n",
      "Epoch 34/50\n",
      "23/23 [==============================] - 0s 564us/step - loss: 134.6983\n",
      "Epoch 35/50\n",
      "23/23 [==============================] - 0s 651us/step - loss: 133.7072\n",
      "Epoch 36/50\n",
      "23/23 [==============================] - 0s 695us/step - loss: 132.9041\n",
      "Epoch 37/50\n",
      "23/23 [==============================] - 0s 565us/step - loss: 132.1328\n",
      "Epoch 38/50\n",
      "23/23 [==============================] - 0s 608us/step - loss: 131.5599\n",
      "Epoch 39/50\n",
      "23/23 [==============================] - 0s 609us/step - loss: 130.4969\n",
      "Epoch 40/50\n",
      "23/23 [==============================] - 0s 606us/step - loss: 130.0010\n",
      "Epoch 41/50\n",
      "23/23 [==============================] - 0s 608us/step - loss: 129.5659\n",
      "Epoch 42/50\n",
      "23/23 [==============================] - 0s 607us/step - loss: 129.2355\n",
      "Epoch 43/50\n",
      "23/23 [==============================] - 0s 650us/step - loss: 128.4845\n",
      "Epoch 44/50\n",
      "23/23 [==============================] - 0s 693us/step - loss: 127.5503\n",
      "Epoch 45/50\n",
      "23/23 [==============================] - 0s 692us/step - loss: 127.1008\n",
      "Epoch 46/50\n",
      "23/23 [==============================] - 0s 645us/step - loss: 126.5016\n",
      "Epoch 47/50\n",
      "23/23 [==============================] - 0s 602us/step - loss: 125.6774\n",
      "Epoch 48/50\n",
      "23/23 [==============================] - 0s 573us/step - loss: 125.3953\n",
      "Epoch 49/50\n",
      "23/23 [==============================] - 0s 607us/step - loss: 124.9378\n",
      "Epoch 50/50\n",
      "23/23 [==============================] - 0s 557us/step - loss: 124.4467\n"
     ]
    },
    {
     "data": {
      "text/plain": [
       "<tensorflow.python.keras.callbacks.History at 0x1edcfe9b070>"
      ]
     },
     "execution_count": 35,
     "metadata": {},
     "output_type": "execute_result"
    }
   ],
   "source": [
    "# Build model for Part D and training it\n",
    "modelD = regression_model_modified()\n",
    "epochs = 50\n",
    "modelD.fit(X_train_D,y_train_D,epochs = epochs, verbose = 1)"
   ]
  },
  {
   "cell_type": "code",
   "execution_count": 36,
   "metadata": {},
   "outputs": [
    {
     "name": "stdout",
     "output_type": "stream",
     "text": [
      " 1/10 [==>...........................] - ETA: 0s - loss: 159.0301WARNING:tensorflow:Callbacks method `on_test_batch_end` is slow compared to the batch time (batch time: 0.0000s vs `on_test_batch_end` time: 0.0010s). Check your callbacks.\n",
      "10/10 [==============================] - 0s 599us/step - loss: 164.0563\n"
     ]
    },
    {
     "data": {
      "text/plain": [
       "164.0562744140625"
      ]
     },
     "execution_count": 36,
     "metadata": {},
     "output_type": "execute_result"
    }
   ],
   "source": [
    "loss_valD = modelD.evaluate(X_test_D, y_test_D)\n",
    "loss_valD"
   ]
  },
  {
   "cell_type": "code",
   "execution_count": 37,
   "metadata": {},
   "outputs": [],
   "source": [
    "y_hat_D = modelD.predict(X_test_D)"
   ]
  },
  {
   "cell_type": "code",
   "execution_count": 38,
   "metadata": {},
   "outputs": [
    {
     "name": "stdout",
     "output_type": "stream",
     "text": [
      "Mean Squared Error for normalized predictors with 3 dense layer network = 164.0562752235191\n"
     ]
    }
   ],
   "source": [
    "mseD = mean_squared_error(y_test_D,y_hat_D)\n",
    "print(\"Mean Squared Error for normalized predictors with 3 dense layer network = {}\".format(mseD))"
   ]
  },
  {
   "cell_type": "code",
   "execution_count": 39,
   "metadata": {},
   "outputs": [],
   "source": [
    "mse_lst_D = []\n",
    "for i in range(50):\n",
    "    X_train_D, X_test_D, y_train_D, y_test_D = train_test_split(predictors_norm, target, test_size=0.3, random_state=6)\n",
    "    modelD = regression_model_modified()\n",
    "    modelD.fit(X_train_D,y_train_D,epochs = 50, verbose = 0)\n",
    "    \n",
    "    y_hat_D = modelD.predict(X_test_D)\n",
    "    mseD = mean_squared_error(y_test_D,y_hat_D)\n",
    "    mse_lst_D.append(mseD)"
   ]
  },
  {
   "cell_type": "code",
   "execution_count": 40,
   "metadata": {},
   "outputs": [
    {
     "name": "stdout",
     "output_type": "stream",
     "text": [
      "For Mean Squared Errors with 3 dense layer network, Mean = 149.01359089335833, Standard Deviation = 17.708613505377365\n"
     ]
    }
   ],
   "source": [
    "mean_D = np.mean(mse_lst_D)\n",
    "standard_deviation_D = np.std(mse_lst_D)\n",
    "\n",
    "print(\"For Mean Squared Errors with 3 dense layer network, Mean = {}, Standard Deviation = {}\".format(mean_D,standard_deviation_D))"
   ]
  },
  {
   "cell_type": "code",
   "execution_count": 41,
   "metadata": {},
   "outputs": [
    {
     "name": "stdout",
     "output_type": "stream",
     "text": [
      "The mean of the mean squared errors have decreased by 65.1596073992916% relative to 1 dense layer network.\n"
     ]
    }
   ],
   "source": [
    "mean_change_percentage2 = ((mean_B - mean_D)/mean_B)*100\n",
    "print(\"The mean of the mean squared errors have decreased by {}% relative to 1 dense layer network.\".format(mean_change_percentage2))"
   ]
  }
 ],
 "metadata": {
  "kernelspec": {
   "display_name": "Python 3",
   "language": "python",
   "name": "python3"
  },
  "language_info": {
   "codemirror_mode": {
    "name": "ipython",
    "version": 3
   },
   "file_extension": ".py",
   "mimetype": "text/x-python",
   "name": "python",
   "nbconvert_exporter": "python",
   "pygments_lexer": "ipython3",
   "version": "3.8.3"
  }
 },
 "nbformat": 4,
 "nbformat_minor": 4
}
