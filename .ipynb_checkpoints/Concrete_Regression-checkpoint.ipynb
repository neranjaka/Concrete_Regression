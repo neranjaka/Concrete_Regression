{
 "cells": [
  {
   "cell_type": "code",
   "execution_count": 33,
   "metadata": {},
   "outputs": [],
   "source": [
    "import keras\n",
    "import numpy as np\n",
    "import pandas as pd\n",
    "\n",
    "from keras.models import Sequential\n",
    "from keras.layers import Dense\n",
    "\n",
    "from sklearn.model_selection import train_test_split\n",
    "from sklearn.metrics import mean_squared_error"
   ]
  },
  {
   "cell_type": "code",
   "execution_count": 34,
   "metadata": {},
   "outputs": [
    {
     "data": {
      "text/html": [
       "<div>\n",
       "<style scoped>\n",
       "    .dataframe tbody tr th:only-of-type {\n",
       "        vertical-align: middle;\n",
       "    }\n",
       "\n",
       "    .dataframe tbody tr th {\n",
       "        vertical-align: top;\n",
       "    }\n",
       "\n",
       "    .dataframe thead th {\n",
       "        text-align: right;\n",
       "    }\n",
       "</style>\n",
       "<table border=\"1\" class=\"dataframe\">\n",
       "  <thead>\n",
       "    <tr style=\"text-align: right;\">\n",
       "      <th></th>\n",
       "      <th>Cement</th>\n",
       "      <th>Blast Furnace Slag</th>\n",
       "      <th>Fly Ash</th>\n",
       "      <th>Water</th>\n",
       "      <th>Superplasticizer</th>\n",
       "      <th>Coarse Aggregate</th>\n",
       "      <th>Fine Aggregate</th>\n",
       "      <th>Age</th>\n",
       "      <th>Strength</th>\n",
       "    </tr>\n",
       "  </thead>\n",
       "  <tbody>\n",
       "    <tr>\n",
       "      <th>0</th>\n",
       "      <td>540.0</td>\n",
       "      <td>0.0</td>\n",
       "      <td>0.0</td>\n",
       "      <td>162.0</td>\n",
       "      <td>2.5</td>\n",
       "      <td>1040.0</td>\n",
       "      <td>676.0</td>\n",
       "      <td>28</td>\n",
       "      <td>79.99</td>\n",
       "    </tr>\n",
       "    <tr>\n",
       "      <th>1</th>\n",
       "      <td>540.0</td>\n",
       "      <td>0.0</td>\n",
       "      <td>0.0</td>\n",
       "      <td>162.0</td>\n",
       "      <td>2.5</td>\n",
       "      <td>1055.0</td>\n",
       "      <td>676.0</td>\n",
       "      <td>28</td>\n",
       "      <td>61.89</td>\n",
       "    </tr>\n",
       "    <tr>\n",
       "      <th>2</th>\n",
       "      <td>332.5</td>\n",
       "      <td>142.5</td>\n",
       "      <td>0.0</td>\n",
       "      <td>228.0</td>\n",
       "      <td>0.0</td>\n",
       "      <td>932.0</td>\n",
       "      <td>594.0</td>\n",
       "      <td>270</td>\n",
       "      <td>40.27</td>\n",
       "    </tr>\n",
       "    <tr>\n",
       "      <th>3</th>\n",
       "      <td>332.5</td>\n",
       "      <td>142.5</td>\n",
       "      <td>0.0</td>\n",
       "      <td>228.0</td>\n",
       "      <td>0.0</td>\n",
       "      <td>932.0</td>\n",
       "      <td>594.0</td>\n",
       "      <td>365</td>\n",
       "      <td>41.05</td>\n",
       "    </tr>\n",
       "    <tr>\n",
       "      <th>4</th>\n",
       "      <td>198.6</td>\n",
       "      <td>132.4</td>\n",
       "      <td>0.0</td>\n",
       "      <td>192.0</td>\n",
       "      <td>0.0</td>\n",
       "      <td>978.4</td>\n",
       "      <td>825.5</td>\n",
       "      <td>360</td>\n",
       "      <td>44.30</td>\n",
       "    </tr>\n",
       "  </tbody>\n",
       "</table>\n",
       "</div>"
      ],
      "text/plain": [
       "   Cement  Blast Furnace Slag  Fly Ash  Water  Superplasticizer  \\\n",
       "0   540.0                 0.0      0.0  162.0               2.5   \n",
       "1   540.0                 0.0      0.0  162.0               2.5   \n",
       "2   332.5               142.5      0.0  228.0               0.0   \n",
       "3   332.5               142.5      0.0  228.0               0.0   \n",
       "4   198.6               132.4      0.0  192.0               0.0   \n",
       "\n",
       "   Coarse Aggregate  Fine Aggregate  Age  Strength  \n",
       "0            1040.0           676.0   28     79.99  \n",
       "1            1055.0           676.0   28     61.89  \n",
       "2             932.0           594.0  270     40.27  \n",
       "3             932.0           594.0  365     41.05  \n",
       "4             978.4           825.5  360     44.30  "
      ]
     },
     "execution_count": 34,
     "metadata": {},
     "output_type": "execute_result"
    }
   ],
   "source": [
    "concrete_data = pd.read_csv('concrete_data.csv')\n",
    "concrete_data.head()"
   ]
  },
  {
   "cell_type": "code",
   "execution_count": 35,
   "metadata": {},
   "outputs": [
    {
     "data": {
      "text/plain": [
       "(1030, 9)"
      ]
     },
     "execution_count": 35,
     "metadata": {},
     "output_type": "execute_result"
    }
   ],
   "source": [
    "concrete_data.shape"
   ]
  },
  {
   "cell_type": "code",
   "execution_count": 36,
   "metadata": {},
   "outputs": [
    {
     "data": {
      "text/html": [
       "<div>\n",
       "<style scoped>\n",
       "    .dataframe tbody tr th:only-of-type {\n",
       "        vertical-align: middle;\n",
       "    }\n",
       "\n",
       "    .dataframe tbody tr th {\n",
       "        vertical-align: top;\n",
       "    }\n",
       "\n",
       "    .dataframe thead th {\n",
       "        text-align: right;\n",
       "    }\n",
       "</style>\n",
       "<table border=\"1\" class=\"dataframe\">\n",
       "  <thead>\n",
       "    <tr style=\"text-align: right;\">\n",
       "      <th></th>\n",
       "      <th>Cement</th>\n",
       "      <th>Blast Furnace Slag</th>\n",
       "      <th>Fly Ash</th>\n",
       "      <th>Water</th>\n",
       "      <th>Superplasticizer</th>\n",
       "      <th>Coarse Aggregate</th>\n",
       "      <th>Fine Aggregate</th>\n",
       "      <th>Age</th>\n",
       "      <th>Strength</th>\n",
       "    </tr>\n",
       "  </thead>\n",
       "  <tbody>\n",
       "    <tr>\n",
       "      <th>count</th>\n",
       "      <td>1030.000000</td>\n",
       "      <td>1030.000000</td>\n",
       "      <td>1030.000000</td>\n",
       "      <td>1030.000000</td>\n",
       "      <td>1030.000000</td>\n",
       "      <td>1030.000000</td>\n",
       "      <td>1030.000000</td>\n",
       "      <td>1030.000000</td>\n",
       "      <td>1030.000000</td>\n",
       "    </tr>\n",
       "    <tr>\n",
       "      <th>mean</th>\n",
       "      <td>281.167864</td>\n",
       "      <td>73.895825</td>\n",
       "      <td>54.188350</td>\n",
       "      <td>181.567282</td>\n",
       "      <td>6.204660</td>\n",
       "      <td>972.918932</td>\n",
       "      <td>773.580485</td>\n",
       "      <td>45.662136</td>\n",
       "      <td>35.817961</td>\n",
       "    </tr>\n",
       "    <tr>\n",
       "      <th>std</th>\n",
       "      <td>104.506364</td>\n",
       "      <td>86.279342</td>\n",
       "      <td>63.997004</td>\n",
       "      <td>21.354219</td>\n",
       "      <td>5.973841</td>\n",
       "      <td>77.753954</td>\n",
       "      <td>80.175980</td>\n",
       "      <td>63.169912</td>\n",
       "      <td>16.705742</td>\n",
       "    </tr>\n",
       "    <tr>\n",
       "      <th>min</th>\n",
       "      <td>102.000000</td>\n",
       "      <td>0.000000</td>\n",
       "      <td>0.000000</td>\n",
       "      <td>121.800000</td>\n",
       "      <td>0.000000</td>\n",
       "      <td>801.000000</td>\n",
       "      <td>594.000000</td>\n",
       "      <td>1.000000</td>\n",
       "      <td>2.330000</td>\n",
       "    </tr>\n",
       "    <tr>\n",
       "      <th>25%</th>\n",
       "      <td>192.375000</td>\n",
       "      <td>0.000000</td>\n",
       "      <td>0.000000</td>\n",
       "      <td>164.900000</td>\n",
       "      <td>0.000000</td>\n",
       "      <td>932.000000</td>\n",
       "      <td>730.950000</td>\n",
       "      <td>7.000000</td>\n",
       "      <td>23.710000</td>\n",
       "    </tr>\n",
       "    <tr>\n",
       "      <th>50%</th>\n",
       "      <td>272.900000</td>\n",
       "      <td>22.000000</td>\n",
       "      <td>0.000000</td>\n",
       "      <td>185.000000</td>\n",
       "      <td>6.400000</td>\n",
       "      <td>968.000000</td>\n",
       "      <td>779.500000</td>\n",
       "      <td>28.000000</td>\n",
       "      <td>34.445000</td>\n",
       "    </tr>\n",
       "    <tr>\n",
       "      <th>75%</th>\n",
       "      <td>350.000000</td>\n",
       "      <td>142.950000</td>\n",
       "      <td>118.300000</td>\n",
       "      <td>192.000000</td>\n",
       "      <td>10.200000</td>\n",
       "      <td>1029.400000</td>\n",
       "      <td>824.000000</td>\n",
       "      <td>56.000000</td>\n",
       "      <td>46.135000</td>\n",
       "    </tr>\n",
       "    <tr>\n",
       "      <th>max</th>\n",
       "      <td>540.000000</td>\n",
       "      <td>359.400000</td>\n",
       "      <td>200.100000</td>\n",
       "      <td>247.000000</td>\n",
       "      <td>32.200000</td>\n",
       "      <td>1145.000000</td>\n",
       "      <td>992.600000</td>\n",
       "      <td>365.000000</td>\n",
       "      <td>82.600000</td>\n",
       "    </tr>\n",
       "  </tbody>\n",
       "</table>\n",
       "</div>"
      ],
      "text/plain": [
       "            Cement  Blast Furnace Slag      Fly Ash        Water  \\\n",
       "count  1030.000000         1030.000000  1030.000000  1030.000000   \n",
       "mean    281.167864           73.895825    54.188350   181.567282   \n",
       "std     104.506364           86.279342    63.997004    21.354219   \n",
       "min     102.000000            0.000000     0.000000   121.800000   \n",
       "25%     192.375000            0.000000     0.000000   164.900000   \n",
       "50%     272.900000           22.000000     0.000000   185.000000   \n",
       "75%     350.000000          142.950000   118.300000   192.000000   \n",
       "max     540.000000          359.400000   200.100000   247.000000   \n",
       "\n",
       "       Superplasticizer  Coarse Aggregate  Fine Aggregate          Age  \\\n",
       "count       1030.000000       1030.000000     1030.000000  1030.000000   \n",
       "mean           6.204660        972.918932      773.580485    45.662136   \n",
       "std            5.973841         77.753954       80.175980    63.169912   \n",
       "min            0.000000        801.000000      594.000000     1.000000   \n",
       "25%            0.000000        932.000000      730.950000     7.000000   \n",
       "50%            6.400000        968.000000      779.500000    28.000000   \n",
       "75%           10.200000       1029.400000      824.000000    56.000000   \n",
       "max           32.200000       1145.000000      992.600000   365.000000   \n",
       "\n",
       "          Strength  \n",
       "count  1030.000000  \n",
       "mean     35.817961  \n",
       "std      16.705742  \n",
       "min       2.330000  \n",
       "25%      23.710000  \n",
       "50%      34.445000  \n",
       "75%      46.135000  \n",
       "max      82.600000  "
      ]
     },
     "execution_count": 36,
     "metadata": {},
     "output_type": "execute_result"
    }
   ],
   "source": [
    "concrete_data.describe()"
   ]
  },
  {
   "cell_type": "code",
   "execution_count": 37,
   "metadata": {},
   "outputs": [],
   "source": [
    "concrete_data_columns = concrete_data.columns\n",
    "predictors = concrete_data[concrete_data_columns[concrete_data_columns != 'Strength']] \n",
    "target = concrete_data['Strength']"
   ]
  },
  {
   "cell_type": "code",
   "execution_count": 38,
   "metadata": {},
   "outputs": [
    {
     "data": {
      "text/html": [
       "<div>\n",
       "<style scoped>\n",
       "    .dataframe tbody tr th:only-of-type {\n",
       "        vertical-align: middle;\n",
       "    }\n",
       "\n",
       "    .dataframe tbody tr th {\n",
       "        vertical-align: top;\n",
       "    }\n",
       "\n",
       "    .dataframe thead th {\n",
       "        text-align: right;\n",
       "    }\n",
       "</style>\n",
       "<table border=\"1\" class=\"dataframe\">\n",
       "  <thead>\n",
       "    <tr style=\"text-align: right;\">\n",
       "      <th></th>\n",
       "      <th>Cement</th>\n",
       "      <th>Blast Furnace Slag</th>\n",
       "      <th>Fly Ash</th>\n",
       "      <th>Water</th>\n",
       "      <th>Superplasticizer</th>\n",
       "      <th>Coarse Aggregate</th>\n",
       "      <th>Fine Aggregate</th>\n",
       "      <th>Age</th>\n",
       "    </tr>\n",
       "  </thead>\n",
       "  <tbody>\n",
       "    <tr>\n",
       "      <th>0</th>\n",
       "      <td>540.0</td>\n",
       "      <td>0.0</td>\n",
       "      <td>0.0</td>\n",
       "      <td>162.0</td>\n",
       "      <td>2.5</td>\n",
       "      <td>1040.0</td>\n",
       "      <td>676.0</td>\n",
       "      <td>28</td>\n",
       "    </tr>\n",
       "    <tr>\n",
       "      <th>1</th>\n",
       "      <td>540.0</td>\n",
       "      <td>0.0</td>\n",
       "      <td>0.0</td>\n",
       "      <td>162.0</td>\n",
       "      <td>2.5</td>\n",
       "      <td>1055.0</td>\n",
       "      <td>676.0</td>\n",
       "      <td>28</td>\n",
       "    </tr>\n",
       "    <tr>\n",
       "      <th>2</th>\n",
       "      <td>332.5</td>\n",
       "      <td>142.5</td>\n",
       "      <td>0.0</td>\n",
       "      <td>228.0</td>\n",
       "      <td>0.0</td>\n",
       "      <td>932.0</td>\n",
       "      <td>594.0</td>\n",
       "      <td>270</td>\n",
       "    </tr>\n",
       "    <tr>\n",
       "      <th>3</th>\n",
       "      <td>332.5</td>\n",
       "      <td>142.5</td>\n",
       "      <td>0.0</td>\n",
       "      <td>228.0</td>\n",
       "      <td>0.0</td>\n",
       "      <td>932.0</td>\n",
       "      <td>594.0</td>\n",
       "      <td>365</td>\n",
       "    </tr>\n",
       "    <tr>\n",
       "      <th>4</th>\n",
       "      <td>198.6</td>\n",
       "      <td>132.4</td>\n",
       "      <td>0.0</td>\n",
       "      <td>192.0</td>\n",
       "      <td>0.0</td>\n",
       "      <td>978.4</td>\n",
       "      <td>825.5</td>\n",
       "      <td>360</td>\n",
       "    </tr>\n",
       "  </tbody>\n",
       "</table>\n",
       "</div>"
      ],
      "text/plain": [
       "   Cement  Blast Furnace Slag  Fly Ash  Water  Superplasticizer  \\\n",
       "0   540.0                 0.0      0.0  162.0               2.5   \n",
       "1   540.0                 0.0      0.0  162.0               2.5   \n",
       "2   332.5               142.5      0.0  228.0               0.0   \n",
       "3   332.5               142.5      0.0  228.0               0.0   \n",
       "4   198.6               132.4      0.0  192.0               0.0   \n",
       "\n",
       "   Coarse Aggregate  Fine Aggregate  Age  \n",
       "0            1040.0           676.0   28  \n",
       "1            1055.0           676.0   28  \n",
       "2             932.0           594.0  270  \n",
       "3             932.0           594.0  365  \n",
       "4             978.4           825.5  360  "
      ]
     },
     "execution_count": 38,
     "metadata": {},
     "output_type": "execute_result"
    }
   ],
   "source": [
    "predictors.head()"
   ]
  },
  {
   "cell_type": "code",
   "execution_count": 39,
   "metadata": {},
   "outputs": [
    {
     "data": {
      "text/plain": [
       "0    79.99\n",
       "1    61.89\n",
       "2    40.27\n",
       "3    41.05\n",
       "4    44.30\n",
       "Name: Strength, dtype: float64"
      ]
     },
     "execution_count": 39,
     "metadata": {},
     "output_type": "execute_result"
    }
   ],
   "source": [
    "target.head()"
   ]
  },
  {
   "cell_type": "code",
   "execution_count": 40,
   "metadata": {},
   "outputs": [
    {
     "data": {
      "text/plain": [
       "8"
      ]
     },
     "execution_count": 40,
     "metadata": {},
     "output_type": "execute_result"
    }
   ],
   "source": [
    "n_cols = predictors.shape[1]\n",
    "n_cols"
   ]
  },
  {
   "cell_type": "code",
   "execution_count": 41,
   "metadata": {},
   "outputs": [],
   "source": [
    "def regression_model():\n",
    "    # creation of the model\n",
    "    model = Sequential()\n",
    "    model.add(Dense(10, activation = 'relu', input_shape = (n_cols,)))\n",
    "    model.add(Dense(1))\n",
    "    \n",
    "    #compile the model\n",
    "    model.compile(optimizer = 'adam', loss = 'mean_squared_error')\n",
    "    return model"
   ]
  },
  {
   "cell_type": "code",
   "execution_count": 42,
   "metadata": {},
   "outputs": [],
   "source": [
    "X_train, X_test, y_train, y_test = train_test_split(predictors, target, test_size=0.3, random_state=1)"
   ]
  },
  {
   "cell_type": "code",
   "execution_count": 43,
   "metadata": {},
   "outputs": [
    {
     "name": "stdout",
     "output_type": "stream",
     "text": [
      "Epoch 1/50\n",
      "23/23 [==============================] - 0s 0s/step - loss: 162994.5156\n",
      "Epoch 2/50\n",
      "23/23 [==============================] - 0s 0s/step - loss: 62966.2969\n",
      "Epoch 3/50\n",
      "23/23 [==============================] - 0s 679us/step - loss: 18110.4746\n",
      "Epoch 4/50\n",
      "23/23 [==============================] - 0s 940us/step - loss: 6467.7559\n",
      "Epoch 5/50\n",
      "23/23 [==============================] - 0s 0s/step - loss: 5087.2158\n",
      "Epoch 6/50\n",
      "23/23 [==============================] - 0s 679us/step - loss: 4743.8252\n",
      "Epoch 7/50\n",
      "23/23 [==============================] - 0s 679us/step - loss: 4414.9917\n",
      "Epoch 8/50\n",
      "23/23 [==============================] - 0s 679us/step - loss: 4102.5806\n",
      "Epoch 9/50\n",
      "23/23 [==============================] - 0s 0s/step - loss: 3803.3672\n",
      "Epoch 10/50\n",
      "23/23 [==============================] - 0s 679us/step - loss: 3522.6584\n",
      "Epoch 11/50\n",
      "23/23 [==============================] - 0s 679us/step - loss: 3260.4604\n",
      "Epoch 12/50\n",
      "23/23 [==============================] - 0s 679us/step - loss: 3025.0156\n",
      "Epoch 13/50\n",
      "23/23 [==============================] - 0s 283us/step - loss: 2793.0327\n",
      "Epoch 14/50\n",
      "23/23 [==============================] - 0s 679us/step - loss: 2581.4458\n",
      "Epoch 15/50\n",
      "23/23 [==============================] - 0s 679us/step - loss: 2383.3123\n",
      "Epoch 16/50\n",
      "23/23 [==============================] - 0s 0s/step - loss: 2207.9080\n",
      "Epoch 17/50\n",
      "23/23 [==============================] - 0s 0s/step - loss: 2038.1742\n",
      "Epoch 18/50\n",
      "23/23 [==============================] - 0s 679us/step - loss: 1886.0337\n",
      "Epoch 19/50\n",
      "23/23 [==============================] - 0s 679us/step - loss: 1748.8573\n",
      "Epoch 20/50\n",
      "23/23 [==============================] - 0s 679us/step - loss: 1621.9009\n",
      "Epoch 21/50\n",
      "23/23 [==============================] - 0s 283us/step - loss: 1506.2495\n",
      "Epoch 22/50\n",
      "23/23 [==============================] - 0s 679us/step - loss: 1404.7410\n",
      "Epoch 23/50\n",
      "23/23 [==============================] - 0s 0s/step - loss: 1311.9661\n",
      "Epoch 24/50\n",
      "23/23 [==============================] - 0s 0s/step - loss: 1233.5385\n",
      "Epoch 25/50\n",
      "23/23 [==============================] - 0s 679us/step - loss: 1160.9802\n",
      "Epoch 26/50\n",
      "23/23 [==============================] - 0s 679us/step - loss: 1098.3470\n",
      "Epoch 27/50\n",
      "23/23 [==============================] - 0s 679us/step - loss: 1043.5684\n",
      "Epoch 28/50\n",
      "23/23 [==============================] - 0s 0s/step - loss: 989.3337\n",
      "Epoch 29/50\n",
      "23/23 [==============================] - 0s 962us/step - loss: 941.4682\n",
      "Epoch 30/50\n",
      "23/23 [==============================] - 0s 680us/step - loss: 899.5736\n",
      "Epoch 31/50\n",
      "23/23 [==============================] - 0s 0s/step - loss: 860.3403\n",
      "Epoch 32/50\n",
      "23/23 [==============================] - 0s 679us/step - loss: 823.9951\n",
      "Epoch 33/50\n",
      "23/23 [==============================] - 0s 679us/step - loss: 792.4265\n",
      "Epoch 34/50\n",
      "23/23 [==============================] - 0s 679us/step - loss: 761.7845\n",
      "Epoch 35/50\n",
      "23/23 [==============================] - 0s 679us/step - loss: 733.4474\n",
      "Epoch 36/50\n",
      "23/23 [==============================] - 0s 0s/step - loss: 708.4025\n",
      "Epoch 37/50\n",
      "23/23 [==============================] - 0s 283us/step - loss: 683.6173\n",
      "Epoch 38/50\n",
      "23/23 [==============================] - 0s 680us/step - loss: 658.6661\n",
      "Epoch 39/50\n",
      "23/23 [==============================] - 0s 0s/step - loss: 636.2845\n",
      "Epoch 40/50\n",
      "23/23 [==============================] - 0s 679us/step - loss: 616.2546\n",
      "Epoch 41/50\n",
      "23/23 [==============================] - 0s 679us/step - loss: 595.5162\n",
      "Epoch 42/50\n",
      "23/23 [==============================] - 0s 679us/step - loss: 573.9532\n",
      "Epoch 43/50\n",
      "23/23 [==============================] - 0s 0s/step - loss: 555.0651\n",
      "Epoch 44/50\n",
      "23/23 [==============================] - 0s 0s/step - loss: 536.9356\n",
      "Epoch 45/50\n",
      "23/23 [==============================] - 0s 962us/step - loss: 519.1515\n",
      "Epoch 46/50\n",
      "23/23 [==============================] - 0s 0s/step - loss: 499.9427\n",
      "Epoch 47/50\n",
      "23/23 [==============================] - 0s 679us/step - loss: 482.1500\n",
      "Epoch 48/50\n",
      "23/23 [==============================] - 0s 440us/step - loss: 464.8512\n",
      "Epoch 49/50\n",
      "23/23 [==============================] - 0s 439us/step - loss: 447.5367\n",
      "Epoch 50/50\n",
      "23/23 [==============================] - 0s 219us/step - loss: 430.8869\n"
     ]
    },
    {
     "data": {
      "text/plain": [
       "<tensorflow.python.keras.callbacks.History at 0x16aa6549940>"
      ]
     },
     "execution_count": 43,
     "metadata": {},
     "output_type": "execute_result"
    }
   ],
   "source": [
    "# build model for part A\n",
    "modelA = regression_model()\n",
    "epochs = 50\n",
    "modelA.fit(X_train,y_train,epochs = epochs, verbose = 1)"
   ]
  },
  {
   "cell_type": "code",
   "execution_count": 44,
   "metadata": {},
   "outputs": [
    {
     "name": "stdout",
     "output_type": "stream",
     "text": [
      "10/10 [==============================] - 0s 584us/step - loss: 433.2711\n"
     ]
    },
    {
     "data": {
      "text/plain": [
       "433.2710876464844"
      ]
     },
     "execution_count": 44,
     "metadata": {},
     "output_type": "execute_result"
    }
   ],
   "source": [
    "loss_val = modelA.evaluate(X_test, y_test)\n",
    "loss_val"
   ]
  },
  {
   "cell_type": "code",
   "execution_count": 45,
   "metadata": {},
   "outputs": [],
   "source": [
    "y_hat = modelA.predict(X_test)"
   ]
  },
  {
   "cell_type": "code",
   "execution_count": 46,
   "metadata": {},
   "outputs": [
    {
     "name": "stdout",
     "output_type": "stream",
     "text": [
      "Mean Squared Error = 433.27100276075424\n"
     ]
    }
   ],
   "source": [
    "mse = mean_squared_error(y_test,y_hat)\n",
    "print(\"Mean Squared Error = {}\".format(mse))"
   ]
  },
  {
   "cell_type": "code",
   "execution_count": 47,
   "metadata": {},
   "outputs": [],
   "source": [
    "mse_lst = []\n",
    "for i in range(50):\n",
    "    X_train, X_test, y_train, y_test = train_test_split(predictors, target, test_size=0.3, random_state=1)\n",
    "    modelA = regression_model()\n",
    "    modelA.fit(X_train,y_train,epochs = 50, verbose = 0)\n",
    "    \n",
    "    y_hat = modelA.predict(X_test)\n",
    "    mse = mean_squared_error(y_test,y_hat)\n",
    "    mse_lst.append(mse)"
   ]
  },
  {
   "cell_type": "code",
   "execution_count": 48,
   "metadata": {},
   "outputs": [
    {
     "name": "stdout",
     "output_type": "stream",
     "text": [
      "Mean = 330.4674422873948, Standard Deviation = 386.78368176040675\n"
     ]
    }
   ],
   "source": [
    "mean = np.mean(mse_lst)\n",
    "standard_deviation = np.std(mse_lst)\n",
    "\n",
    "print(\"Mean = {}, Standard Deviation = {}\".format(mean,standard_deviation))"
   ]
  },
  {
   "cell_type": "markdown",
   "metadata": {},
   "source": [
    "## Prediction with Normalized Data *(Part B)*\n",
    "Now we try to do carry out the same experiment as before but using Normalized predictors. "
   ]
  },
  {
   "cell_type": "code",
   "execution_count": 70,
   "metadata": {},
   "outputs": [
    {
     "data": {
      "text/html": [
       "<div>\n",
       "<style scoped>\n",
       "    .dataframe tbody tr th:only-of-type {\n",
       "        vertical-align: middle;\n",
       "    }\n",
       "\n",
       "    .dataframe tbody tr th {\n",
       "        vertical-align: top;\n",
       "    }\n",
       "\n",
       "    .dataframe thead th {\n",
       "        text-align: right;\n",
       "    }\n",
       "</style>\n",
       "<table border=\"1\" class=\"dataframe\">\n",
       "  <thead>\n",
       "    <tr style=\"text-align: right;\">\n",
       "      <th></th>\n",
       "      <th>Cement</th>\n",
       "      <th>Blast Furnace Slag</th>\n",
       "      <th>Fly Ash</th>\n",
       "      <th>Water</th>\n",
       "      <th>Superplasticizer</th>\n",
       "      <th>Coarse Aggregate</th>\n",
       "      <th>Fine Aggregate</th>\n",
       "      <th>Age</th>\n",
       "    </tr>\n",
       "  </thead>\n",
       "  <tbody>\n",
       "    <tr>\n",
       "      <th>0</th>\n",
       "      <td>2.476712</td>\n",
       "      <td>-0.856472</td>\n",
       "      <td>-0.846733</td>\n",
       "      <td>-0.916319</td>\n",
       "      <td>-0.620147</td>\n",
       "      <td>0.862735</td>\n",
       "      <td>-1.217079</td>\n",
       "      <td>-0.279597</td>\n",
       "    </tr>\n",
       "    <tr>\n",
       "      <th>1</th>\n",
       "      <td>2.476712</td>\n",
       "      <td>-0.856472</td>\n",
       "      <td>-0.846733</td>\n",
       "      <td>-0.916319</td>\n",
       "      <td>-0.620147</td>\n",
       "      <td>1.055651</td>\n",
       "      <td>-1.217079</td>\n",
       "      <td>-0.279597</td>\n",
       "    </tr>\n",
       "    <tr>\n",
       "      <th>2</th>\n",
       "      <td>0.491187</td>\n",
       "      <td>0.795140</td>\n",
       "      <td>-0.846733</td>\n",
       "      <td>2.174405</td>\n",
       "      <td>-1.038638</td>\n",
       "      <td>-0.526262</td>\n",
       "      <td>-2.239829</td>\n",
       "      <td>3.551340</td>\n",
       "    </tr>\n",
       "    <tr>\n",
       "      <th>3</th>\n",
       "      <td>0.491187</td>\n",
       "      <td>0.795140</td>\n",
       "      <td>-0.846733</td>\n",
       "      <td>2.174405</td>\n",
       "      <td>-1.038638</td>\n",
       "      <td>-0.526262</td>\n",
       "      <td>-2.239829</td>\n",
       "      <td>5.055221</td>\n",
       "    </tr>\n",
       "    <tr>\n",
       "      <th>4</th>\n",
       "      <td>-0.790075</td>\n",
       "      <td>0.678079</td>\n",
       "      <td>-0.846733</td>\n",
       "      <td>0.488555</td>\n",
       "      <td>-1.038638</td>\n",
       "      <td>0.070492</td>\n",
       "      <td>0.647569</td>\n",
       "      <td>4.976069</td>\n",
       "    </tr>\n",
       "  </tbody>\n",
       "</table>\n",
       "</div>"
      ],
      "text/plain": [
       "     Cement  Blast Furnace Slag   Fly Ash     Water  Superplasticizer  \\\n",
       "0  2.476712           -0.856472 -0.846733 -0.916319         -0.620147   \n",
       "1  2.476712           -0.856472 -0.846733 -0.916319         -0.620147   \n",
       "2  0.491187            0.795140 -0.846733  2.174405         -1.038638   \n",
       "3  0.491187            0.795140 -0.846733  2.174405         -1.038638   \n",
       "4 -0.790075            0.678079 -0.846733  0.488555         -1.038638   \n",
       "\n",
       "   Coarse Aggregate  Fine Aggregate       Age  \n",
       "0          0.862735       -1.217079 -0.279597  \n",
       "1          1.055651       -1.217079 -0.279597  \n",
       "2         -0.526262       -2.239829  3.551340  \n",
       "3         -0.526262       -2.239829  5.055221  \n",
       "4          0.070492        0.647569  4.976069  "
      ]
     },
     "execution_count": 70,
     "metadata": {},
     "output_type": "execute_result"
    }
   ],
   "source": [
    "# Normalizing Predictors and printing the first five rows.\n",
    "predictors_norm = (predictors- predictors.mean())/predictors.std()\n",
    "predictors_norm.head()"
   ]
  },
  {
   "cell_type": "code",
   "execution_count": 71,
   "metadata": {},
   "outputs": [],
   "source": [
    "# Splitting the normalized data set for training and testing\n",
    "X_train_norm, X_test_norm, y_train_norm, y_test_norm = train_test_split(predictors_norm, target, test_size=0.3, random_state=1)"
   ]
  },
  {
   "cell_type": "code",
   "execution_count": 72,
   "metadata": {},
   "outputs": [
    {
     "name": "stdout",
     "output_type": "stream",
     "text": [
      "Epoch 1/50\n",
      "23/23 [==============================] - 0s 607us/step - loss: 1581.1168\n",
      "Epoch 2/50\n",
      "23/23 [==============================] - 0s 622us/step - loss: 1565.6385\n",
      "Epoch 3/50\n",
      "23/23 [==============================] - 0s 592us/step - loss: 1551.0098\n",
      "Epoch 4/50\n",
      "23/23 [==============================] - 0s 641us/step - loss: 1536.7532\n",
      "Epoch 5/50\n",
      "23/23 [==============================] - 0s 622us/step - loss: 1522.8907\n",
      "Epoch 6/50\n",
      "23/23 [==============================] - 0s 625us/step - loss: 1508.4889\n",
      "Epoch 7/50\n",
      "23/23 [==============================] - 0s 477us/step - loss: 1494.1078\n",
      "Epoch 8/50\n",
      "23/23 [==============================] - 0s 488us/step - loss: 1479.2119\n",
      "Epoch 9/50\n",
      "23/23 [==============================] - 0s 461us/step - loss: 1463.5127\n",
      "Epoch 10/50\n",
      "23/23 [==============================] - 0s 450us/step - loss: 1447.3763\n",
      "Epoch 11/50\n",
      "23/23 [==============================] - 0s 519us/step - loss: 1430.1254\n",
      "Epoch 12/50\n",
      "23/23 [==============================] - 0s 499us/step - loss: 1411.7705\n",
      "Epoch 13/50\n",
      "23/23 [==============================] - 0s 512us/step - loss: 1391.8101\n",
      "Epoch 14/50\n",
      "23/23 [==============================] - 0s 480us/step - loss: 1371.2645\n",
      "Epoch 15/50\n",
      "23/23 [==============================] - 0s 440us/step - loss: 1349.3995\n",
      "Epoch 16/50\n",
      "23/23 [==============================] - 0s 501us/step - loss: 1326.2654\n",
      "Epoch 17/50\n",
      "23/23 [==============================] - 0s 457us/step - loss: 1302.3232\n",
      "Epoch 18/50\n",
      "23/23 [==============================] - 0s 507us/step - loss: 1277.4115\n",
      "Epoch 19/50\n",
      "23/23 [==============================] - 0s 463us/step - loss: 1251.9634\n",
      "Epoch 20/50\n",
      "23/23 [==============================] - 0s 506us/step - loss: 1225.3704\n",
      "Epoch 21/50\n",
      "23/23 [==============================] - 0s 525us/step - loss: 1199.0524\n",
      "Epoch 22/50\n",
      "23/23 [==============================] - 0s 520us/step - loss: 1171.4805\n",
      "Epoch 23/50\n",
      "23/23 [==============================] - 0s 478us/step - loss: 1144.1439\n",
      "Epoch 24/50\n",
      "23/23 [==============================] - 0s 457us/step - loss: 1116.3243\n",
      "Epoch 25/50\n",
      "23/23 [==============================] - 0s 514us/step - loss: 1088.2832\n",
      "Epoch 26/50\n",
      "23/23 [==============================] - 0s 498us/step - loss: 1060.2051\n",
      "Epoch 27/50\n",
      "23/23 [==============================] - 0s 517us/step - loss: 1032.8922\n",
      "Epoch 28/50\n",
      "23/23 [==============================] - 0s 477us/step - loss: 1004.5772\n",
      "Epoch 29/50\n",
      "23/23 [==============================] - 0s 480us/step - loss: 976.9698\n",
      "Epoch 30/50\n",
      "23/23 [==============================] - 0s 471us/step - loss: 949.8936\n",
      "Epoch 31/50\n",
      "23/23 [==============================] - 0s 434us/step - loss: 922.9014\n",
      "Epoch 32/50\n",
      "23/23 [==============================] - 0s 477us/step - loss: 896.7758\n",
      "Epoch 33/50\n",
      "23/23 [==============================] - 0s 476us/step - loss: 870.3511\n",
      "Epoch 34/50\n",
      "23/23 [==============================] - 0s 460us/step - loss: 844.6454\n",
      "Epoch 35/50\n",
      "23/23 [==============================] - 0s 464us/step - loss: 819.5262\n",
      "Epoch 36/50\n",
      "23/23 [==============================] - 0s 498us/step - loss: 794.8239\n",
      "Epoch 37/50\n",
      "23/23 [==============================] - 0s 477us/step - loss: 771.0974\n",
      "Epoch 38/50\n",
      "23/23 [==============================] - 0s 520us/step - loss: 747.1516\n",
      "Epoch 39/50\n",
      "23/23 [==============================] - 0s 482us/step - loss: 724.2836\n",
      "Epoch 40/50\n",
      "23/23 [==============================] - 0s 477us/step - loss: 702.2648\n",
      "Epoch 41/50\n",
      "23/23 [==============================] - 0s 525us/step - loss: 680.6506\n",
      "Epoch 42/50\n",
      "23/23 [==============================] - 0s 460us/step - loss: 659.5485\n",
      "Epoch 43/50\n",
      "23/23 [==============================] - 0s 563us/step - loss: 639.1091\n",
      "Epoch 44/50\n",
      "23/23 [==============================] - 0s 470us/step - loss: 619.0565\n",
      "Epoch 45/50\n",
      "23/23 [==============================] - 0s 390us/step - loss: 599.6303\n",
      "Epoch 46/50\n",
      "23/23 [==============================] - 0s 434us/step - loss: 580.7202\n",
      "Epoch 47/50\n",
      "23/23 [==============================] - 0s 477us/step - loss: 562.4446\n",
      "Epoch 48/50\n",
      "23/23 [==============================] - 0s 460us/step - loss: 544.5059\n",
      "Epoch 49/50\n",
      "23/23 [==============================] - 0s 477us/step - loss: 527.3290\n",
      "Epoch 50/50\n",
      "23/23 [==============================] - 0s 477us/step - loss: 510.3586\n"
     ]
    },
    {
     "data": {
      "text/plain": [
       "<tensorflow.python.keras.callbacks.History at 0x16ab1954d90>"
      ]
     },
     "execution_count": 72,
     "metadata": {},
     "output_type": "execute_result"
    }
   ],
   "source": [
    "#Build model for Part B and training it\n",
    "modelB = regression_model()\n",
    "epochs = 50\n",
    "modelB.fit(X_train_norm,y_train_norm,epochs = epochs, verbose = 1)"
   ]
  },
  {
   "cell_type": "code",
   "execution_count": 73,
   "metadata": {},
   "outputs": [
    {
     "name": "stdout",
     "output_type": "stream",
     "text": [
      "10/10 [==============================] - 0s 698us/step - loss: 527.2676\n"
     ]
    },
    {
     "data": {
      "text/plain": [
       "527.267578125"
      ]
     },
     "execution_count": 73,
     "metadata": {},
     "output_type": "execute_result"
    }
   ],
   "source": [
    "# Evaluate the model on the test data set\n",
    "loss_valB = modelB.evaluate(X_test_norm, y_test_norm)\n",
    "loss_valB"
   ]
  },
  {
   "cell_type": "code",
   "execution_count": 74,
   "metadata": {},
   "outputs": [],
   "source": [
    "y_hat_norm = modelB.predict(X_test_norm)"
   ]
  },
  {
   "cell_type": "code",
   "execution_count": 75,
   "metadata": {},
   "outputs": [
    {
     "name": "stdout",
     "output_type": "stream",
     "text": [
      "Mean Squared Error for normalized predictors = 527.2675680364156\n"
     ]
    }
   ],
   "source": [
    "mseB = mean_squared_error(y_test_norm,y_hat_norm)\n",
    "print(\"Mean Squared Error for normalized predictors = {}\".format(mseB))"
   ]
  },
  {
   "cell_type": "code",
   "execution_count": 76,
   "metadata": {},
   "outputs": [],
   "source": [
    "mse_lst_B = []\n",
    "for i in range(50):\n",
    "    X_train_norm, X_test_norm, y_train_norm, y_test_norm = train_test_split(predictors_norm, target, test_size=0.3, random_state=1)\n",
    "    modelB = regression_model()\n",
    "    modelB.fit(X_train_norm,y_train_norm,epochs = 50, verbose = 0)\n",
    "    \n",
    "    y_hat_norm = modelB.predict(X_test_norm)\n",
    "    mseB = mean_squared_error(y_test_norm,y_hat_norm)\n",
    "    mse_lst_B.append(mseB)"
   ]
  },
  {
   "cell_type": "code",
   "execution_count": 77,
   "metadata": {},
   "outputs": [
    {
     "name": "stdout",
     "output_type": "stream",
     "text": [
      "For Mean Squared Errors, Mean = 361.9125070321076, Standard Deviation = 76.98207545760808\n"
     ]
    }
   ],
   "source": [
    "mean_B = np.mean(mse_lst_B)\n",
    "standard_deviation_B = np.std(mse_lst_B)\n",
    "\n",
    "print(\"For Mean Squared Errors, Mean = {}, Standard Deviation = {}\".format(mean_B,standard_deviation_B))"
   ]
  },
  {
   "cell_type": "code",
   "execution_count": null,
   "metadata": {},
   "outputs": [],
   "source": []
  }
 ],
 "metadata": {
  "kernelspec": {
   "display_name": "Python 3",
   "language": "python",
   "name": "python3"
  },
  "language_info": {
   "codemirror_mode": {
    "name": "ipython",
    "version": 3
   },
   "file_extension": ".py",
   "mimetype": "text/x-python",
   "name": "python",
   "nbconvert_exporter": "python",
   "pygments_lexer": "ipython3",
   "version": "3.8.3"
  }
 },
 "nbformat": 4,
 "nbformat_minor": 4
}
