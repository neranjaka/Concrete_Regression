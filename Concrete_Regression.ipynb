{
 "cells": [
  {
   "cell_type": "markdown",
   "metadata": {},
   "source": [
    "## Import necessary libraries"
   ]
  },
  {
   "cell_type": "code",
   "execution_count": 1,
   "metadata": {},
   "outputs": [],
   "source": [
    "import keras\n",
    "import numpy as np\n",
    "import pandas as pd\n",
    "\n",
    "from keras.models import Sequential\n",
    "from keras.layers import Dense\n",
    "\n",
    "from sklearn.model_selection import train_test_split\n",
    "from sklearn.metrics import mean_squared_error"
   ]
  },
  {
   "cell_type": "markdown",
   "metadata": {},
   "source": [
    "## Read the dataset\n",
    "Read data set using *Pandas* into a *pandas* dataframe."
   ]
  },
  {
   "cell_type": "code",
   "execution_count": 2,
   "metadata": {},
   "outputs": [
    {
     "data": {
      "text/html": [
       "<div>\n",
       "<style scoped>\n",
       "    .dataframe tbody tr th:only-of-type {\n",
       "        vertical-align: middle;\n",
       "    }\n",
       "\n",
       "    .dataframe tbody tr th {\n",
       "        vertical-align: top;\n",
       "    }\n",
       "\n",
       "    .dataframe thead th {\n",
       "        text-align: right;\n",
       "    }\n",
       "</style>\n",
       "<table border=\"1\" class=\"dataframe\">\n",
       "  <thead>\n",
       "    <tr style=\"text-align: right;\">\n",
       "      <th></th>\n",
       "      <th>Cement</th>\n",
       "      <th>Blast Furnace Slag</th>\n",
       "      <th>Fly Ash</th>\n",
       "      <th>Water</th>\n",
       "      <th>Superplasticizer</th>\n",
       "      <th>Coarse Aggregate</th>\n",
       "      <th>Fine Aggregate</th>\n",
       "      <th>Age</th>\n",
       "      <th>Strength</th>\n",
       "    </tr>\n",
       "  </thead>\n",
       "  <tbody>\n",
       "    <tr>\n",
       "      <th>0</th>\n",
       "      <td>540.0</td>\n",
       "      <td>0.0</td>\n",
       "      <td>0.0</td>\n",
       "      <td>162.0</td>\n",
       "      <td>2.5</td>\n",
       "      <td>1040.0</td>\n",
       "      <td>676.0</td>\n",
       "      <td>28</td>\n",
       "      <td>79.99</td>\n",
       "    </tr>\n",
       "    <tr>\n",
       "      <th>1</th>\n",
       "      <td>540.0</td>\n",
       "      <td>0.0</td>\n",
       "      <td>0.0</td>\n",
       "      <td>162.0</td>\n",
       "      <td>2.5</td>\n",
       "      <td>1055.0</td>\n",
       "      <td>676.0</td>\n",
       "      <td>28</td>\n",
       "      <td>61.89</td>\n",
       "    </tr>\n",
       "    <tr>\n",
       "      <th>2</th>\n",
       "      <td>332.5</td>\n",
       "      <td>142.5</td>\n",
       "      <td>0.0</td>\n",
       "      <td>228.0</td>\n",
       "      <td>0.0</td>\n",
       "      <td>932.0</td>\n",
       "      <td>594.0</td>\n",
       "      <td>270</td>\n",
       "      <td>40.27</td>\n",
       "    </tr>\n",
       "    <tr>\n",
       "      <th>3</th>\n",
       "      <td>332.5</td>\n",
       "      <td>142.5</td>\n",
       "      <td>0.0</td>\n",
       "      <td>228.0</td>\n",
       "      <td>0.0</td>\n",
       "      <td>932.0</td>\n",
       "      <td>594.0</td>\n",
       "      <td>365</td>\n",
       "      <td>41.05</td>\n",
       "    </tr>\n",
       "    <tr>\n",
       "      <th>4</th>\n",
       "      <td>198.6</td>\n",
       "      <td>132.4</td>\n",
       "      <td>0.0</td>\n",
       "      <td>192.0</td>\n",
       "      <td>0.0</td>\n",
       "      <td>978.4</td>\n",
       "      <td>825.5</td>\n",
       "      <td>360</td>\n",
       "      <td>44.30</td>\n",
       "    </tr>\n",
       "  </tbody>\n",
       "</table>\n",
       "</div>"
      ],
      "text/plain": [
       "   Cement  Blast Furnace Slag  Fly Ash  Water  Superplasticizer  \\\n",
       "0   540.0                 0.0      0.0  162.0               2.5   \n",
       "1   540.0                 0.0      0.0  162.0               2.5   \n",
       "2   332.5               142.5      0.0  228.0               0.0   \n",
       "3   332.5               142.5      0.0  228.0               0.0   \n",
       "4   198.6               132.4      0.0  192.0               0.0   \n",
       "\n",
       "   Coarse Aggregate  Fine Aggregate  Age  Strength  \n",
       "0            1040.0           676.0   28     79.99  \n",
       "1            1055.0           676.0   28     61.89  \n",
       "2             932.0           594.0  270     40.27  \n",
       "3             932.0           594.0  365     41.05  \n",
       "4             978.4           825.5  360     44.30  "
      ]
     },
     "execution_count": 2,
     "metadata": {},
     "output_type": "execute_result"
    }
   ],
   "source": [
    "concrete_data = pd.read_csv('concrete_data.csv')\n",
    "concrete_data.head() # print the top 5 rows of the dataset"
   ]
  },
  {
   "cell_type": "code",
   "execution_count": 3,
   "metadata": {},
   "outputs": [
    {
     "data": {
      "text/plain": [
       "(1030, 9)"
      ]
     },
     "execution_count": 3,
     "metadata": {},
     "output_type": "execute_result"
    }
   ],
   "source": [
    "concrete_data.shape # examining the shape"
   ]
  },
  {
   "cell_type": "code",
   "execution_count": 4,
   "metadata": {},
   "outputs": [
    {
     "data": {
      "text/html": [
       "<div>\n",
       "<style scoped>\n",
       "    .dataframe tbody tr th:only-of-type {\n",
       "        vertical-align: middle;\n",
       "    }\n",
       "\n",
       "    .dataframe tbody tr th {\n",
       "        vertical-align: top;\n",
       "    }\n",
       "\n",
       "    .dataframe thead th {\n",
       "        text-align: right;\n",
       "    }\n",
       "</style>\n",
       "<table border=\"1\" class=\"dataframe\">\n",
       "  <thead>\n",
       "    <tr style=\"text-align: right;\">\n",
       "      <th></th>\n",
       "      <th>Cement</th>\n",
       "      <th>Blast Furnace Slag</th>\n",
       "      <th>Fly Ash</th>\n",
       "      <th>Water</th>\n",
       "      <th>Superplasticizer</th>\n",
       "      <th>Coarse Aggregate</th>\n",
       "      <th>Fine Aggregate</th>\n",
       "      <th>Age</th>\n",
       "      <th>Strength</th>\n",
       "    </tr>\n",
       "  </thead>\n",
       "  <tbody>\n",
       "    <tr>\n",
       "      <th>count</th>\n",
       "      <td>1030.000000</td>\n",
       "      <td>1030.000000</td>\n",
       "      <td>1030.000000</td>\n",
       "      <td>1030.000000</td>\n",
       "      <td>1030.000000</td>\n",
       "      <td>1030.000000</td>\n",
       "      <td>1030.000000</td>\n",
       "      <td>1030.000000</td>\n",
       "      <td>1030.000000</td>\n",
       "    </tr>\n",
       "    <tr>\n",
       "      <th>mean</th>\n",
       "      <td>281.167864</td>\n",
       "      <td>73.895825</td>\n",
       "      <td>54.188350</td>\n",
       "      <td>181.567282</td>\n",
       "      <td>6.204660</td>\n",
       "      <td>972.918932</td>\n",
       "      <td>773.580485</td>\n",
       "      <td>45.662136</td>\n",
       "      <td>35.817961</td>\n",
       "    </tr>\n",
       "    <tr>\n",
       "      <th>std</th>\n",
       "      <td>104.506364</td>\n",
       "      <td>86.279342</td>\n",
       "      <td>63.997004</td>\n",
       "      <td>21.354219</td>\n",
       "      <td>5.973841</td>\n",
       "      <td>77.753954</td>\n",
       "      <td>80.175980</td>\n",
       "      <td>63.169912</td>\n",
       "      <td>16.705742</td>\n",
       "    </tr>\n",
       "    <tr>\n",
       "      <th>min</th>\n",
       "      <td>102.000000</td>\n",
       "      <td>0.000000</td>\n",
       "      <td>0.000000</td>\n",
       "      <td>121.800000</td>\n",
       "      <td>0.000000</td>\n",
       "      <td>801.000000</td>\n",
       "      <td>594.000000</td>\n",
       "      <td>1.000000</td>\n",
       "      <td>2.330000</td>\n",
       "    </tr>\n",
       "    <tr>\n",
       "      <th>25%</th>\n",
       "      <td>192.375000</td>\n",
       "      <td>0.000000</td>\n",
       "      <td>0.000000</td>\n",
       "      <td>164.900000</td>\n",
       "      <td>0.000000</td>\n",
       "      <td>932.000000</td>\n",
       "      <td>730.950000</td>\n",
       "      <td>7.000000</td>\n",
       "      <td>23.710000</td>\n",
       "    </tr>\n",
       "    <tr>\n",
       "      <th>50%</th>\n",
       "      <td>272.900000</td>\n",
       "      <td>22.000000</td>\n",
       "      <td>0.000000</td>\n",
       "      <td>185.000000</td>\n",
       "      <td>6.400000</td>\n",
       "      <td>968.000000</td>\n",
       "      <td>779.500000</td>\n",
       "      <td>28.000000</td>\n",
       "      <td>34.445000</td>\n",
       "    </tr>\n",
       "    <tr>\n",
       "      <th>75%</th>\n",
       "      <td>350.000000</td>\n",
       "      <td>142.950000</td>\n",
       "      <td>118.300000</td>\n",
       "      <td>192.000000</td>\n",
       "      <td>10.200000</td>\n",
       "      <td>1029.400000</td>\n",
       "      <td>824.000000</td>\n",
       "      <td>56.000000</td>\n",
       "      <td>46.135000</td>\n",
       "    </tr>\n",
       "    <tr>\n",
       "      <th>max</th>\n",
       "      <td>540.000000</td>\n",
       "      <td>359.400000</td>\n",
       "      <td>200.100000</td>\n",
       "      <td>247.000000</td>\n",
       "      <td>32.200000</td>\n",
       "      <td>1145.000000</td>\n",
       "      <td>992.600000</td>\n",
       "      <td>365.000000</td>\n",
       "      <td>82.600000</td>\n",
       "    </tr>\n",
       "  </tbody>\n",
       "</table>\n",
       "</div>"
      ],
      "text/plain": [
       "            Cement  Blast Furnace Slag      Fly Ash        Water  \\\n",
       "count  1030.000000         1030.000000  1030.000000  1030.000000   \n",
       "mean    281.167864           73.895825    54.188350   181.567282   \n",
       "std     104.506364           86.279342    63.997004    21.354219   \n",
       "min     102.000000            0.000000     0.000000   121.800000   \n",
       "25%     192.375000            0.000000     0.000000   164.900000   \n",
       "50%     272.900000           22.000000     0.000000   185.000000   \n",
       "75%     350.000000          142.950000   118.300000   192.000000   \n",
       "max     540.000000          359.400000   200.100000   247.000000   \n",
       "\n",
       "       Superplasticizer  Coarse Aggregate  Fine Aggregate          Age  \\\n",
       "count       1030.000000       1030.000000     1030.000000  1030.000000   \n",
       "mean           6.204660        972.918932      773.580485    45.662136   \n",
       "std            5.973841         77.753954       80.175980    63.169912   \n",
       "min            0.000000        801.000000      594.000000     1.000000   \n",
       "25%            0.000000        932.000000      730.950000     7.000000   \n",
       "50%            6.400000        968.000000      779.500000    28.000000   \n",
       "75%           10.200000       1029.400000      824.000000    56.000000   \n",
       "max           32.200000       1145.000000      992.600000   365.000000   \n",
       "\n",
       "          Strength  \n",
       "count  1030.000000  \n",
       "mean     35.817961  \n",
       "std      16.705742  \n",
       "min       2.330000  \n",
       "25%      23.710000  \n",
       "50%      34.445000  \n",
       "75%      46.135000  \n",
       "max      82.600000  "
      ]
     },
     "execution_count": 4,
     "metadata": {},
     "output_type": "execute_result"
    }
   ],
   "source": [
    "concrete_data.describe() # get a concise idea of the dataset"
   ]
  },
  {
   "cell_type": "code",
   "execution_count": 5,
   "metadata": {},
   "outputs": [],
   "source": [
    "concrete_data_columns = concrete_data.columns\n",
    "predictors = concrete_data[concrete_data_columns[concrete_data_columns != 'Strength']] # Select all the columns but \"Strength\" as predictors\n",
    "target = concrete_data['Strength'] # Select \"Strength\" as labels"
   ]
  },
  {
   "cell_type": "code",
   "execution_count": 6,
   "metadata": {},
   "outputs": [
    {
     "data": {
      "text/html": [
       "<div>\n",
       "<style scoped>\n",
       "    .dataframe tbody tr th:only-of-type {\n",
       "        vertical-align: middle;\n",
       "    }\n",
       "\n",
       "    .dataframe tbody tr th {\n",
       "        vertical-align: top;\n",
       "    }\n",
       "\n",
       "    .dataframe thead th {\n",
       "        text-align: right;\n",
       "    }\n",
       "</style>\n",
       "<table border=\"1\" class=\"dataframe\">\n",
       "  <thead>\n",
       "    <tr style=\"text-align: right;\">\n",
       "      <th></th>\n",
       "      <th>Cement</th>\n",
       "      <th>Blast Furnace Slag</th>\n",
       "      <th>Fly Ash</th>\n",
       "      <th>Water</th>\n",
       "      <th>Superplasticizer</th>\n",
       "      <th>Coarse Aggregate</th>\n",
       "      <th>Fine Aggregate</th>\n",
       "      <th>Age</th>\n",
       "    </tr>\n",
       "  </thead>\n",
       "  <tbody>\n",
       "    <tr>\n",
       "      <th>0</th>\n",
       "      <td>540.0</td>\n",
       "      <td>0.0</td>\n",
       "      <td>0.0</td>\n",
       "      <td>162.0</td>\n",
       "      <td>2.5</td>\n",
       "      <td>1040.0</td>\n",
       "      <td>676.0</td>\n",
       "      <td>28</td>\n",
       "    </tr>\n",
       "    <tr>\n",
       "      <th>1</th>\n",
       "      <td>540.0</td>\n",
       "      <td>0.0</td>\n",
       "      <td>0.0</td>\n",
       "      <td>162.0</td>\n",
       "      <td>2.5</td>\n",
       "      <td>1055.0</td>\n",
       "      <td>676.0</td>\n",
       "      <td>28</td>\n",
       "    </tr>\n",
       "    <tr>\n",
       "      <th>2</th>\n",
       "      <td>332.5</td>\n",
       "      <td>142.5</td>\n",
       "      <td>0.0</td>\n",
       "      <td>228.0</td>\n",
       "      <td>0.0</td>\n",
       "      <td>932.0</td>\n",
       "      <td>594.0</td>\n",
       "      <td>270</td>\n",
       "    </tr>\n",
       "    <tr>\n",
       "      <th>3</th>\n",
       "      <td>332.5</td>\n",
       "      <td>142.5</td>\n",
       "      <td>0.0</td>\n",
       "      <td>228.0</td>\n",
       "      <td>0.0</td>\n",
       "      <td>932.0</td>\n",
       "      <td>594.0</td>\n",
       "      <td>365</td>\n",
       "    </tr>\n",
       "    <tr>\n",
       "      <th>4</th>\n",
       "      <td>198.6</td>\n",
       "      <td>132.4</td>\n",
       "      <td>0.0</td>\n",
       "      <td>192.0</td>\n",
       "      <td>0.0</td>\n",
       "      <td>978.4</td>\n",
       "      <td>825.5</td>\n",
       "      <td>360</td>\n",
       "    </tr>\n",
       "  </tbody>\n",
       "</table>\n",
       "</div>"
      ],
      "text/plain": [
       "   Cement  Blast Furnace Slag  Fly Ash  Water  Superplasticizer  \\\n",
       "0   540.0                 0.0      0.0  162.0               2.5   \n",
       "1   540.0                 0.0      0.0  162.0               2.5   \n",
       "2   332.5               142.5      0.0  228.0               0.0   \n",
       "3   332.5               142.5      0.0  228.0               0.0   \n",
       "4   198.6               132.4      0.0  192.0               0.0   \n",
       "\n",
       "   Coarse Aggregate  Fine Aggregate  Age  \n",
       "0            1040.0           676.0   28  \n",
       "1            1055.0           676.0   28  \n",
       "2             932.0           594.0  270  \n",
       "3             932.0           594.0  365  \n",
       "4             978.4           825.5  360  "
      ]
     },
     "execution_count": 6,
     "metadata": {},
     "output_type": "execute_result"
    }
   ],
   "source": [
    "predictors.head()"
   ]
  },
  {
   "cell_type": "code",
   "execution_count": 7,
   "metadata": {},
   "outputs": [
    {
     "data": {
      "text/plain": [
       "0    79.99\n",
       "1    61.89\n",
       "2    40.27\n",
       "3    41.05\n",
       "4    44.30\n",
       "Name: Strength, dtype: float64"
      ]
     },
     "execution_count": 7,
     "metadata": {},
     "output_type": "execute_result"
    }
   ],
   "source": [
    "target.head()"
   ]
  },
  {
   "cell_type": "code",
   "execution_count": 8,
   "metadata": {},
   "outputs": [
    {
     "data": {
      "text/plain": [
       "8"
      ]
     },
     "execution_count": 8,
     "metadata": {},
     "output_type": "execute_result"
    }
   ],
   "source": [
    "n_cols = predictors.shape[1]\n",
    "n_cols"
   ]
  },
  {
   "cell_type": "markdown",
   "metadata": {},
   "source": [
    "## Build Nural Network model."
   ]
  },
  {
   "cell_type": "code",
   "execution_count": 9,
   "metadata": {},
   "outputs": [],
   "source": [
    "def regression_model():\n",
    "    # creation of the model\n",
    "    model = Sequential()\n",
    "    model.add(Dense(10, activation = 'relu', input_shape = (n_cols,)))\n",
    "    model.add(Dense(1))\n",
    "    \n",
    "    # compile the model\n",
    "    model.compile(optimizer = 'adam', loss = 'mean_squared_error')\n",
    "    return model"
   ]
  },
  {
   "cell_type": "code",
   "execution_count": 10,
   "metadata": {},
   "outputs": [],
   "source": [
    "# Splitting the data set for training and testing\n",
    "X_train, X_test, y_train, y_test = train_test_split(predictors, target, test_size=0.3, random_state=6)"
   ]
  },
  {
   "cell_type": "code",
   "execution_count": 11,
   "metadata": {},
   "outputs": [
    {
     "name": "stdout",
     "output_type": "stream",
     "text": [
      "Epoch 1/50\n",
      "23/23 [==============================] - 0s 529us/step - loss: 81052.4609\n",
      "Epoch 2/50\n",
      "23/23 [==============================] - 0s 568us/step - loss: 34170.3320\n",
      "Epoch 3/50\n",
      "23/23 [==============================] - 0s 518us/step - loss: 14167.9648\n",
      "Epoch 4/50\n",
      "23/23 [==============================] - 0s 524us/step - loss: 5965.4536\n",
      "Epoch 5/50\n",
      "23/23 [==============================] - 0s 538us/step - loss: 2492.6882\n",
      "Epoch 6/50\n",
      "23/23 [==============================] - 0s 531us/step - loss: 1105.1610\n",
      "Epoch 7/50\n",
      "23/23 [==============================] - 0s 434us/step - loss: 626.5839\n",
      "Epoch 8/50\n",
      "23/23 [==============================] - 0s 477us/step - loss: 473.4532\n",
      "Epoch 9/50\n",
      "23/23 [==============================] - 0s 520us/step - loss: 430.5730\n",
      "Epoch 10/50\n",
      "23/23 [==============================] - 0s 434us/step - loss: 420.2724\n",
      "Epoch 11/50\n",
      "23/23 [==============================] - 0s 434us/step - loss: 412.3698\n",
      "Epoch 12/50\n",
      "23/23 [==============================] - 0s 466us/step - loss: 406.1861\n",
      "Epoch 13/50\n",
      "23/23 [==============================] - 0s 519us/step - loss: 400.5979\n",
      "Epoch 14/50\n",
      "23/23 [==============================] - 0s 520us/step - loss: 394.7005\n",
      "Epoch 15/50\n",
      "23/23 [==============================] - 0s 434us/step - loss: 389.1781\n",
      "Epoch 16/50\n",
      "23/23 [==============================] - 0s 390us/step - loss: 382.9573\n",
      "Epoch 17/50\n",
      "23/23 [==============================] - 0s 457us/step - loss: 377.6276\n",
      "Epoch 18/50\n",
      "23/23 [==============================] - 0s 524us/step - loss: 371.9179\n",
      "Epoch 19/50\n",
      "23/23 [==============================] - 0s 477us/step - loss: 366.3317\n",
      "Epoch 20/50\n",
      "23/23 [==============================] - 0s 425us/step - loss: 360.6999\n",
      "Epoch 21/50\n",
      "23/23 [==============================] - 0s 434us/step - loss: 355.1864\n",
      "Epoch 22/50\n",
      "23/23 [==============================] - 0s 477us/step - loss: 349.7793\n",
      "Epoch 23/50\n",
      "23/23 [==============================] - 0s 434us/step - loss: 344.9802\n",
      "Epoch 24/50\n",
      "23/23 [==============================] - 0s 434us/step - loss: 339.2010\n",
      "Epoch 25/50\n",
      "23/23 [==============================] - 0s 477us/step - loss: 333.9809\n",
      "Epoch 26/50\n",
      "23/23 [==============================] - 0s 477us/step - loss: 329.0263\n",
      "Epoch 27/50\n",
      "23/23 [==============================] - 0s 479us/step - loss: 323.9673\n",
      "Epoch 28/50\n",
      "23/23 [==============================] - 0s 434us/step - loss: 319.0725\n",
      "Epoch 29/50\n",
      "23/23 [==============================] - 0s 477us/step - loss: 314.4540\n",
      "Epoch 30/50\n",
      "23/23 [==============================] - 0s 477us/step - loss: 310.5295\n",
      "Epoch 31/50\n",
      "23/23 [==============================] - 0s 432us/step - loss: 304.9930\n",
      "Epoch 32/50\n",
      "23/23 [==============================] - 0s 390us/step - loss: 300.6218\n",
      "Epoch 33/50\n",
      "23/23 [==============================] - 0s 481us/step - loss: 296.1464\n",
      "Epoch 34/50\n",
      "23/23 [==============================] - 0s 434us/step - loss: 291.5960\n",
      "Epoch 35/50\n",
      "23/23 [==============================] - 0s 444us/step - loss: 287.4601\n",
      "Epoch 36/50\n",
      "23/23 [==============================] - 0s 477us/step - loss: 283.4239\n",
      "Epoch 37/50\n",
      "23/23 [==============================] - 0s 432us/step - loss: 279.0931\n",
      "Epoch 38/50\n",
      "23/23 [==============================] - 0s 477us/step - loss: 275.2733\n",
      "Epoch 39/50\n",
      "23/23 [==============================] - 0s 441us/step - loss: 271.2697\n",
      "Epoch 40/50\n",
      "23/23 [==============================] - 0s 521us/step - loss: 267.5455\n",
      "Epoch 41/50\n",
      "23/23 [==============================] - 0s 527us/step - loss: 263.5308\n",
      "Epoch 42/50\n",
      "23/23 [==============================] - 0s 498us/step - loss: 260.0623\n",
      "Epoch 43/50\n",
      "23/23 [==============================] - 0s 476us/step - loss: 256.4900\n",
      "Epoch 44/50\n",
      "23/23 [==============================] - 0s 415us/step - loss: 252.6234\n",
      "Epoch 45/50\n",
      "23/23 [==============================] - 0s 477us/step - loss: 249.6488\n",
      "Epoch 46/50\n",
      "23/23 [==============================] - 0s 476us/step - loss: 245.8446\n",
      "Epoch 47/50\n",
      "23/23 [==============================] - 0s 464us/step - loss: 242.5488\n",
      "Epoch 48/50\n",
      "23/23 [==============================] - 0s 413us/step - loss: 239.2231\n",
      "Epoch 49/50\n",
      "23/23 [==============================] - 0s 478us/step - loss: 236.2313\n",
      "Epoch 50/50\n",
      "23/23 [==============================] - 0s 472us/step - loss: 232.7880\n"
     ]
    },
    {
     "data": {
      "text/plain": [
       "<tensorflow.python.keras.callbacks.History at 0x219bf44f040>"
      ]
     },
     "execution_count": 11,
     "metadata": {},
     "output_type": "execute_result"
    }
   ],
   "source": [
    "# build model for part A\n",
    "modelA = regression_model()\n",
    "epochs = 50\n",
    "modelA.fit(X_train,y_train,epochs = epochs, verbose = 1)"
   ]
  },
  {
   "cell_type": "code",
   "execution_count": 12,
   "metadata": {},
   "outputs": [
    {
     "name": "stdout",
     "output_type": "stream",
     "text": [
      "10/10 [==============================] - 0s 499us/step - loss: 232.5498\n"
     ]
    },
    {
     "data": {
      "text/plain": [
       "232.5497589111328"
      ]
     },
     "execution_count": 12,
     "metadata": {},
     "output_type": "execute_result"
    }
   ],
   "source": [
    "loss_val = modelA.evaluate(X_test, y_test)\n",
    "loss_val"
   ]
  },
  {
   "cell_type": "code",
   "execution_count": 13,
   "metadata": {},
   "outputs": [],
   "source": [
    "y_hat = modelA.predict(X_test)"
   ]
  },
  {
   "cell_type": "code",
   "execution_count": 14,
   "metadata": {},
   "outputs": [
    {
     "name": "stdout",
     "output_type": "stream",
     "text": [
      "Mean Squared Error = 232.5497357160545\n"
     ]
    }
   ],
   "source": [
    "mse = mean_squared_error(y_test,y_hat)\n",
    "print(\"Mean Squared Error = {}\".format(mse))"
   ]
  },
  {
   "cell_type": "code",
   "execution_count": 15,
   "metadata": {},
   "outputs": [],
   "source": [
    "mse_lst = []\n",
    "for i in range(50):\n",
    "    X_train, X_test, y_train, y_test = train_test_split(predictors, target, test_size=0.3, random_state=6)\n",
    "    modelA = regression_model()\n",
    "    modelA.fit(X_train,y_train,epochs = 50, verbose = 0)\n",
    "    \n",
    "    y_hat = modelA.predict(X_test)\n",
    "    mse = mean_squared_error(y_test,y_hat)\n",
    "    mse_lst.append(mse)"
   ]
  },
  {
   "cell_type": "code",
   "execution_count": 16,
   "metadata": {},
   "outputs": [
    {
     "name": "stdout",
     "output_type": "stream",
     "text": [
      "Mean = 330.3023493284185, Standard Deviation = 243.10311470418853\n"
     ]
    }
   ],
   "source": [
    "mean = np.mean(mse_lst)\n",
    "standard_deviation = np.std(mse_lst)\n",
    "\n",
    "print(\"Mean = {}, Standard Deviation = {}\".format(mean,standard_deviation))"
   ]
  },
  {
   "cell_type": "markdown",
   "metadata": {},
   "source": [
    "## Prediction with Normalized Data *(Part B)*\n",
    "Now we try to do carry out the same experiment as before but using Normalized predictors. "
   ]
  },
  {
   "cell_type": "code",
   "execution_count": 17,
   "metadata": {},
   "outputs": [
    {
     "data": {
      "text/html": [
       "<div>\n",
       "<style scoped>\n",
       "    .dataframe tbody tr th:only-of-type {\n",
       "        vertical-align: middle;\n",
       "    }\n",
       "\n",
       "    .dataframe tbody tr th {\n",
       "        vertical-align: top;\n",
       "    }\n",
       "\n",
       "    .dataframe thead th {\n",
       "        text-align: right;\n",
       "    }\n",
       "</style>\n",
       "<table border=\"1\" class=\"dataframe\">\n",
       "  <thead>\n",
       "    <tr style=\"text-align: right;\">\n",
       "      <th></th>\n",
       "      <th>Cement</th>\n",
       "      <th>Blast Furnace Slag</th>\n",
       "      <th>Fly Ash</th>\n",
       "      <th>Water</th>\n",
       "      <th>Superplasticizer</th>\n",
       "      <th>Coarse Aggregate</th>\n",
       "      <th>Fine Aggregate</th>\n",
       "      <th>Age</th>\n",
       "    </tr>\n",
       "  </thead>\n",
       "  <tbody>\n",
       "    <tr>\n",
       "      <th>0</th>\n",
       "      <td>2.476712</td>\n",
       "      <td>-0.856472</td>\n",
       "      <td>-0.846733</td>\n",
       "      <td>-0.916319</td>\n",
       "      <td>-0.620147</td>\n",
       "      <td>0.862735</td>\n",
       "      <td>-1.217079</td>\n",
       "      <td>-0.279597</td>\n",
       "    </tr>\n",
       "    <tr>\n",
       "      <th>1</th>\n",
       "      <td>2.476712</td>\n",
       "      <td>-0.856472</td>\n",
       "      <td>-0.846733</td>\n",
       "      <td>-0.916319</td>\n",
       "      <td>-0.620147</td>\n",
       "      <td>1.055651</td>\n",
       "      <td>-1.217079</td>\n",
       "      <td>-0.279597</td>\n",
       "    </tr>\n",
       "    <tr>\n",
       "      <th>2</th>\n",
       "      <td>0.491187</td>\n",
       "      <td>0.795140</td>\n",
       "      <td>-0.846733</td>\n",
       "      <td>2.174405</td>\n",
       "      <td>-1.038638</td>\n",
       "      <td>-0.526262</td>\n",
       "      <td>-2.239829</td>\n",
       "      <td>3.551340</td>\n",
       "    </tr>\n",
       "    <tr>\n",
       "      <th>3</th>\n",
       "      <td>0.491187</td>\n",
       "      <td>0.795140</td>\n",
       "      <td>-0.846733</td>\n",
       "      <td>2.174405</td>\n",
       "      <td>-1.038638</td>\n",
       "      <td>-0.526262</td>\n",
       "      <td>-2.239829</td>\n",
       "      <td>5.055221</td>\n",
       "    </tr>\n",
       "    <tr>\n",
       "      <th>4</th>\n",
       "      <td>-0.790075</td>\n",
       "      <td>0.678079</td>\n",
       "      <td>-0.846733</td>\n",
       "      <td>0.488555</td>\n",
       "      <td>-1.038638</td>\n",
       "      <td>0.070492</td>\n",
       "      <td>0.647569</td>\n",
       "      <td>4.976069</td>\n",
       "    </tr>\n",
       "  </tbody>\n",
       "</table>\n",
       "</div>"
      ],
      "text/plain": [
       "     Cement  Blast Furnace Slag   Fly Ash     Water  Superplasticizer  \\\n",
       "0  2.476712           -0.856472 -0.846733 -0.916319         -0.620147   \n",
       "1  2.476712           -0.856472 -0.846733 -0.916319         -0.620147   \n",
       "2  0.491187            0.795140 -0.846733  2.174405         -1.038638   \n",
       "3  0.491187            0.795140 -0.846733  2.174405         -1.038638   \n",
       "4 -0.790075            0.678079 -0.846733  0.488555         -1.038638   \n",
       "\n",
       "   Coarse Aggregate  Fine Aggregate       Age  \n",
       "0          0.862735       -1.217079 -0.279597  \n",
       "1          1.055651       -1.217079 -0.279597  \n",
       "2         -0.526262       -2.239829  3.551340  \n",
       "3         -0.526262       -2.239829  5.055221  \n",
       "4          0.070492        0.647569  4.976069  "
      ]
     },
     "execution_count": 17,
     "metadata": {},
     "output_type": "execute_result"
    }
   ],
   "source": [
    "# Normalizing Predictors and printing the first five rows.\n",
    "predictors_norm = (predictors- predictors.mean())/predictors.std()\n",
    "predictors_norm.head()"
   ]
  },
  {
   "cell_type": "code",
   "execution_count": 18,
   "metadata": {},
   "outputs": [],
   "source": [
    "# Splitting the normalized data set for training and testing\n",
    "X_train_norm, X_test_norm, y_train_norm, y_test_norm = train_test_split(predictors_norm, target, test_size=0.3, random_state=6)"
   ]
  },
  {
   "cell_type": "code",
   "execution_count": 19,
   "metadata": {},
   "outputs": [
    {
     "name": "stdout",
     "output_type": "stream",
     "text": [
      "Epoch 1/50\n",
      "23/23 [==============================] - 0s 606us/step - loss: 1508.1011\n",
      "Epoch 2/50\n",
      "23/23 [==============================] - 0s 530us/step - loss: 1493.1910\n",
      "Epoch 3/50\n",
      "23/23 [==============================] - 0s 563us/step - loss: 1478.9307\n",
      "Epoch 4/50\n",
      "23/23 [==============================] - 0s 517us/step - loss: 1464.7008\n",
      "Epoch 5/50\n",
      "23/23 [==============================] - 0s 520us/step - loss: 1450.9595\n",
      "Epoch 6/50\n",
      "23/23 [==============================] - 0s 488us/step - loss: 1436.8165\n",
      "Epoch 7/50\n",
      "23/23 [==============================] - 0s 477us/step - loss: 1422.3386\n",
      "Epoch 8/50\n",
      "23/23 [==============================] - 0s 476us/step - loss: 1406.9640\n",
      "Epoch 9/50\n",
      "23/23 [==============================] - 0s 416us/step - loss: 1391.0005\n",
      "Epoch 10/50\n",
      "23/23 [==============================] - 0s 435us/step - loss: 1373.8406\n",
      "Epoch 11/50\n",
      "23/23 [==============================] - 0s 474us/step - loss: 1355.6327\n",
      "Epoch 12/50\n",
      "23/23 [==============================] - 0s 527us/step - loss: 1336.4563\n",
      "Epoch 13/50\n",
      "23/23 [==============================] - 0s 477us/step - loss: 1315.9788\n",
      "Epoch 14/50\n",
      "23/23 [==============================] - 0s 420us/step - loss: 1294.3033\n",
      "Epoch 15/50\n",
      "23/23 [==============================] - 0s 510us/step - loss: 1271.3805\n",
      "Epoch 16/50\n",
      "23/23 [==============================] - 0s 478us/step - loss: 1246.9373\n",
      "Epoch 17/50\n",
      "23/23 [==============================] - 0s 461us/step - loss: 1221.3971\n",
      "Epoch 18/50\n",
      "23/23 [==============================] - 0s 454us/step - loss: 1194.4641\n",
      "Epoch 19/50\n",
      "23/23 [==============================] - 0s 474us/step - loss: 1166.4244\n",
      "Epoch 20/50\n",
      "23/23 [==============================] - 0s 444us/step - loss: 1136.6444\n",
      "Epoch 21/50\n",
      "23/23 [==============================] - 0s 477us/step - loss: 1105.9924\n",
      "Epoch 22/50\n",
      "23/23 [==============================] - 0s 467us/step - loss: 1074.1327\n",
      "Epoch 23/50\n",
      "23/23 [==============================] - 0s 474us/step - loss: 1041.7317\n",
      "Epoch 24/50\n",
      "23/23 [==============================] - 0s 477us/step - loss: 1008.4125\n",
      "Epoch 25/50\n",
      "23/23 [==============================] - 0s 478us/step - loss: 974.8383\n",
      "Epoch 26/50\n",
      "23/23 [==============================] - 0s 453us/step - loss: 940.2218\n",
      "Epoch 27/50\n",
      "23/23 [==============================] - 0s 501us/step - loss: 906.2674\n",
      "Epoch 28/50\n",
      "23/23 [==============================] - 0s 508us/step - loss: 871.5613\n",
      "Epoch 29/50\n",
      "23/23 [==============================] - 0s 477us/step - loss: 837.8789\n",
      "Epoch 30/50\n",
      "23/23 [==============================] - 0s 480us/step - loss: 803.4688\n",
      "Epoch 31/50\n",
      "23/23 [==============================] - 0s 518us/step - loss: 769.9877\n",
      "Epoch 32/50\n",
      "23/23 [==============================] - 0s 521us/step - loss: 737.0415\n",
      "Epoch 33/50\n",
      "23/23 [==============================] - 0s 477us/step - loss: 704.5609\n",
      "Epoch 34/50\n",
      "23/23 [==============================] - 0s 520us/step - loss: 672.5391\n",
      "Epoch 35/50\n",
      "23/23 [==============================] - 0s 479us/step - loss: 642.1103\n",
      "Epoch 36/50\n",
      "23/23 [==============================] - 0s 467us/step - loss: 612.3579\n",
      "Epoch 37/50\n",
      "23/23 [==============================] - 0s 505us/step - loss: 583.3490\n",
      "Epoch 38/50\n",
      "23/23 [==============================] - 0s 497us/step - loss: 555.8269\n",
      "Epoch 39/50\n",
      "23/23 [==============================] - 0s 476us/step - loss: 529.1419\n",
      "Epoch 40/50\n",
      "23/23 [==============================] - 0s 466us/step - loss: 504.0471\n",
      "Epoch 41/50\n",
      "23/23 [==============================] - 0s 510us/step - loss: 479.8993\n",
      "Epoch 42/50\n",
      "23/23 [==============================] - 0s 489us/step - loss: 456.7677\n",
      "Epoch 43/50\n",
      "23/23 [==============================] - 0s 476us/step - loss: 435.0895\n",
      "Epoch 44/50\n",
      "23/23 [==============================] - 0s 434us/step - loss: 414.6813\n",
      "Epoch 45/50\n",
      "23/23 [==============================] - 0s 469us/step - loss: 395.4059\n",
      "Epoch 46/50\n",
      "23/23 [==============================] - 0s 452us/step - loss: 377.2008\n",
      "Epoch 47/50\n",
      "23/23 [==============================] - 0s 478us/step - loss: 360.2924\n",
      "Epoch 48/50\n",
      "23/23 [==============================] - 0s 462us/step - loss: 344.7458\n",
      "Epoch 49/50\n",
      "23/23 [==============================] - 0s 466us/step - loss: 330.1006\n",
      "Epoch 50/50\n",
      "23/23 [==============================] - 0s 526us/step - loss: 316.6370\n"
     ]
    },
    {
     "data": {
      "text/plain": [
       "<tensorflow.python.keras.callbacks.History at 0x219c380f0d0>"
      ]
     },
     "execution_count": 19,
     "metadata": {},
     "output_type": "execute_result"
    }
   ],
   "source": [
    "#Build model for Part B and training it\n",
    "modelB = regression_model()\n",
    "epochs = 50\n",
    "modelB.fit(X_train_norm,y_train_norm,epochs = epochs, verbose = 1)"
   ]
  },
  {
   "cell_type": "code",
   "execution_count": 20,
   "metadata": {},
   "outputs": [
    {
     "name": "stdout",
     "output_type": "stream",
     "text": [
      "10/10 [==============================] - 0s 498us/step - loss: 396.0337\n"
     ]
    },
    {
     "data": {
      "text/plain": [
       "396.03369140625"
      ]
     },
     "execution_count": 20,
     "metadata": {},
     "output_type": "execute_result"
    }
   ],
   "source": [
    "# Evaluate the model on the test data set\n",
    "loss_valB = modelB.evaluate(X_test_norm, y_test_norm)\n",
    "loss_valB"
   ]
  },
  {
   "cell_type": "code",
   "execution_count": 21,
   "metadata": {},
   "outputs": [],
   "source": [
    "y_hat_norm = modelB.predict(X_test_norm)"
   ]
  },
  {
   "cell_type": "code",
   "execution_count": 22,
   "metadata": {},
   "outputs": [
    {
     "name": "stdout",
     "output_type": "stream",
     "text": [
      "Mean Squared Error for normalized predictors = 396.03369389125874\n"
     ]
    }
   ],
   "source": [
    "mseB = mean_squared_error(y_test_norm,y_hat_norm)\n",
    "print(\"Mean Squared Error for normalized predictors = {}\".format(mseB))"
   ]
  },
  {
   "cell_type": "code",
   "execution_count": 23,
   "metadata": {},
   "outputs": [],
   "source": [
    "mse_lst_B = []\n",
    "for i in range(50):\n",
    "    X_train_norm, X_test_norm, y_train_norm, y_test_norm = train_test_split(predictors_norm, target, test_size=0.3, random_state=6)\n",
    "    modelB = regression_model()\n",
    "    modelB.fit(X_train_norm,y_train_norm,epochs = 50, verbose = 0)\n",
    "    \n",
    "    y_hat_norm = modelB.predict(X_test_norm)\n",
    "    mseB = mean_squared_error(y_test_norm,y_hat_norm)\n",
    "    mse_lst_B.append(mseB)"
   ]
  },
  {
   "cell_type": "code",
   "execution_count": 24,
   "metadata": {},
   "outputs": [
    {
     "name": "stdout",
     "output_type": "stream",
     "text": [
      "For Mean Squared Errors, Mean = 445.42275387560346, Standard Deviation = 141.38700075478198\n"
     ]
    }
   ],
   "source": [
    "mean_B = np.mean(mse_lst_B)\n",
    "standard_deviation_B = np.std(mse_lst_B)\n",
    "\n",
    "print(\"For Mean Squared Errors, Mean = {}, Standard Deviation = {}\".format(mean_B,standard_deviation_B))"
   ]
  },
  {
   "cell_type": "markdown",
   "metadata": {},
   "source": [
    "## Increasing the number of training epochs *(Part C)*\n",
    "Now we increase the number of training epochs to 100.\n",
    "Training and prediction is carryied out using the normalized data in this section."
   ]
  },
  {
   "cell_type": "code",
   "execution_count": 25,
   "metadata": {},
   "outputs": [],
   "source": [
    "# Splitting the normalized data set for training and testing\n",
    "X_train_C, X_test_C, y_train_C, y_test_C = train_test_split(predictors_norm, target, test_size=0.3, random_state=6)"
   ]
  },
  {
   "cell_type": "code",
   "execution_count": 26,
   "metadata": {},
   "outputs": [
    {
     "name": "stdout",
     "output_type": "stream",
     "text": [
      "Epoch 1/100\n",
      "23/23 [==============================] - 0s 564us/step - loss: 1451.3171\n",
      "Epoch 2/100\n",
      "23/23 [==============================] - 0s 563us/step - loss: 1432.8965\n",
      "Epoch 3/100\n",
      "23/23 [==============================] - 0s 520us/step - loss: 1414.3542\n",
      "Epoch 4/100\n",
      "23/23 [==============================] - 0s 476us/step - loss: 1395.6086\n",
      "Epoch 5/100\n",
      "23/23 [==============================] - 0s 455us/step - loss: 1376.5370\n",
      "Epoch 6/100\n",
      "23/23 [==============================] - 0s 437us/step - loss: 1356.7404\n",
      "Epoch 7/100\n",
      "23/23 [==============================] - 0s 476us/step - loss: 1336.6530\n",
      "Epoch 8/100\n",
      "23/23 [==============================] - 0s 520us/step - loss: 1315.8175\n",
      "Epoch 9/100\n",
      "23/23 [==============================] - 0s 435us/step - loss: 1294.2225\n",
      "Epoch 10/100\n",
      "23/23 [==============================] - 0s 477us/step - loss: 1272.0018\n",
      "Epoch 11/100\n",
      "23/23 [==============================] - 0s 434us/step - loss: 1249.2023\n",
      "Epoch 12/100\n",
      "23/23 [==============================] - 0s 518us/step - loss: 1225.8887\n",
      "Epoch 13/100\n",
      "23/23 [==============================] - 0s 435us/step - loss: 1201.3722\n",
      "Epoch 14/100\n",
      "23/23 [==============================] - 0s 456us/step - loss: 1176.3451\n",
      "Epoch 15/100\n",
      "23/23 [==============================] - 0s 479us/step - loss: 1150.7152\n",
      "Epoch 16/100\n",
      "23/23 [==============================] - 0s 434us/step - loss: 1124.0569\n",
      "Epoch 17/100\n",
      "23/23 [==============================] - 0s 420us/step - loss: 1096.7637\n",
      "Epoch 18/100\n",
      "23/23 [==============================] - 0s 477us/step - loss: 1068.9563\n",
      "Epoch 19/100\n",
      "23/23 [==============================] - 0s 477us/step - loss: 1040.4696\n",
      "Epoch 20/100\n",
      "23/23 [==============================] - 0s 476us/step - loss: 1011.5972\n",
      "Epoch 21/100\n",
      "23/23 [==============================] - 0s 413us/step - loss: 982.3738\n",
      "Epoch 22/100\n",
      "23/23 [==============================] - 0s 476us/step - loss: 952.7269\n",
      "Epoch 23/100\n",
      "23/23 [==============================] - 0s 485us/step - loss: 922.6104\n",
      "Epoch 24/100\n",
      "23/23 [==============================] - 0s 434us/step - loss: 892.2133\n",
      "Epoch 25/100\n",
      "23/23 [==============================] - 0s 443us/step - loss: 861.6636\n",
      "Epoch 26/100\n",
      "23/23 [==============================] - 0s 519us/step - loss: 830.9689\n",
      "Epoch 27/100\n",
      "23/23 [==============================] - 0s 453us/step - loss: 800.0229\n",
      "Epoch 28/100\n",
      "23/23 [==============================] - 0s 432us/step - loss: 769.3034\n",
      "Epoch 29/100\n",
      "23/23 [==============================] - 0s 435us/step - loss: 738.2711\n",
      "Epoch 30/100\n",
      "23/23 [==============================] - 0s 563us/step - loss: 707.6598\n",
      "Epoch 31/100\n",
      "23/23 [==============================] - 0s 505us/step - loss: 677.5664\n",
      "Epoch 32/100\n",
      "23/23 [==============================] - 0s 476us/step - loss: 647.9365\n",
      "Epoch 33/100\n",
      "23/23 [==============================] - 0s 447us/step - loss: 619.2272\n",
      "Epoch 34/100\n",
      "23/23 [==============================] - 0s 434us/step - loss: 590.7510\n",
      "Epoch 35/100\n",
      "23/23 [==============================] - 0s 476us/step - loss: 563.5881\n",
      "Epoch 36/100\n",
      "23/23 [==============================] - 0s 433us/step - loss: 537.1493\n",
      "Epoch 37/100\n",
      "23/23 [==============================] - 0s 438us/step - loss: 511.7316\n",
      "Epoch 38/100\n",
      "23/23 [==============================] - 0s 491us/step - loss: 488.0022\n",
      "Epoch 39/100\n",
      "23/23 [==============================] - 0s 484us/step - loss: 464.7224\n",
      "Epoch 40/100\n",
      "23/23 [==============================] - 0s 476us/step - loss: 442.7968\n",
      "Epoch 41/100\n",
      "23/23 [==============================] - 0s 434us/step - loss: 422.1373\n",
      "Epoch 42/100\n",
      "23/23 [==============================] - 0s 477us/step - loss: 402.5590\n",
      "Epoch 43/100\n",
      "23/23 [==============================] - 0s 474us/step - loss: 384.2095\n",
      "Epoch 44/100\n",
      "23/23 [==============================] - 0s 459us/step - loss: 367.1480\n",
      "Epoch 45/100\n",
      "23/23 [==============================] - 0s 477us/step - loss: 351.4942\n",
      "Epoch 46/100\n",
      "23/23 [==============================] - 0s 435us/step - loss: 336.6844\n",
      "Epoch 47/100\n",
      "23/23 [==============================] - 0s 476us/step - loss: 323.0886\n",
      "Epoch 48/100\n",
      "23/23 [==============================] - 0s 503us/step - loss: 310.4717\n",
      "Epoch 49/100\n",
      "23/23 [==============================] - 0s 477us/step - loss: 298.8861\n",
      "Epoch 50/100\n",
      "23/23 [==============================] - 0s 478us/step - loss: 287.9085\n",
      "Epoch 51/100\n",
      "23/23 [==============================] - 0s 432us/step - loss: 278.2656\n",
      "Epoch 52/100\n",
      "23/23 [==============================] - 0s 476us/step - loss: 268.9609\n",
      "Epoch 53/100\n",
      "23/23 [==============================] - 0s 476us/step - loss: 260.6963\n",
      "Epoch 54/100\n",
      "23/23 [==============================] - 0s 434us/step - loss: 253.0703\n",
      "Epoch 55/100\n",
      "23/23 [==============================] - 0s 517us/step - loss: 246.2625\n",
      "Epoch 56/100\n",
      "23/23 [==============================] - 0s 478us/step - loss: 239.9001\n",
      "Epoch 57/100\n",
      "23/23 [==============================] - 0s 434us/step - loss: 234.0162\n",
      "Epoch 58/100\n",
      "23/23 [==============================] - 0s 390us/step - loss: 228.7655\n",
      "Epoch 59/100\n",
      "23/23 [==============================] - 0s 443us/step - loss: 223.8515\n",
      "Epoch 60/100\n",
      "23/23 [==============================] - 0s 475us/step - loss: 219.3916\n",
      "Epoch 61/100\n",
      "23/23 [==============================] - 0s 437us/step - loss: 215.2817\n",
      "Epoch 62/100\n",
      "23/23 [==============================] - 0s 428us/step - loss: 211.5129\n",
      "Epoch 63/100\n",
      "23/23 [==============================] - 0s 434us/step - loss: 208.0748\n",
      "Epoch 64/100\n",
      "23/23 [==============================] - 0s 476us/step - loss: 204.8012\n",
      "Epoch 65/100\n",
      "23/23 [==============================] - 0s 390us/step - loss: 201.8256\n",
      "Epoch 66/100\n",
      "23/23 [==============================] - 0s 434us/step - loss: 198.9702\n",
      "Epoch 67/100\n",
      "23/23 [==============================] - 0s 434us/step - loss: 196.2550\n",
      "Epoch 68/100\n",
      "23/23 [==============================] - 0s 432us/step - loss: 193.9305\n",
      "Epoch 69/100\n",
      "23/23 [==============================] - 0s 477us/step - loss: 191.5772\n",
      "Epoch 70/100\n",
      "23/23 [==============================] - 0s 476us/step - loss: 189.3912\n",
      "Epoch 71/100\n",
      "23/23 [==============================] - 0s 434us/step - loss: 187.3152\n",
      "Epoch 72/100\n",
      "23/23 [==============================] - 0s 434us/step - loss: 185.3303\n",
      "Epoch 73/100\n",
      "23/23 [==============================] - 0s 473us/step - loss: 183.5448\n",
      "Epoch 74/100\n",
      "23/23 [==============================] - 0s 424us/step - loss: 181.7178\n",
      "Epoch 75/100\n",
      "23/23 [==============================] - 0s 434us/step - loss: 180.0747\n",
      "Epoch 76/100\n",
      "23/23 [==============================] - 0s 440us/step - loss: 178.4419\n",
      "Epoch 77/100\n",
      "23/23 [==============================] - 0s 499us/step - loss: 176.9342\n",
      "Epoch 78/100\n",
      "23/23 [==============================] - 0s 477us/step - loss: 175.5099\n",
      "Epoch 79/100\n",
      "23/23 [==============================] - 0s 477us/step - loss: 174.1039\n",
      "Epoch 80/100\n",
      "23/23 [==============================] - 0s 477us/step - loss: 172.7919\n",
      "Epoch 81/100\n",
      "23/23 [==============================] - 0s 385us/step - loss: 171.4815\n",
      "Epoch 82/100\n",
      "23/23 [==============================] - 0s 536us/step - loss: 170.2255\n",
      "Epoch 83/100\n",
      "23/23 [==============================] - 0s 477us/step - loss: 169.0955\n",
      "Epoch 84/100\n",
      "23/23 [==============================] - 0s 472us/step - loss: 167.9809\n",
      "Epoch 85/100\n",
      "23/23 [==============================] - 0s 432us/step - loss: 166.8940\n",
      "Epoch 86/100\n",
      "23/23 [==============================] - 0s 434us/step - loss: 165.8222\n",
      "Epoch 87/100\n",
      "23/23 [==============================] - 0s 476us/step - loss: 164.8155\n",
      "Epoch 88/100\n",
      "23/23 [==============================] - 0s 390us/step - loss: 163.8024\n",
      "Epoch 89/100\n",
      "23/23 [==============================] - 0s 410us/step - loss: 162.9080\n",
      "Epoch 90/100\n",
      "23/23 [==============================] - 0s 522us/step - loss: 162.0644\n",
      "Epoch 91/100\n",
      "23/23 [==============================] - 0s 418us/step - loss: 161.1672\n",
      "Epoch 92/100\n",
      "23/23 [==============================] - 0s 390us/step - loss: 160.3160\n",
      "Epoch 93/100\n",
      "23/23 [==============================] - 0s 477us/step - loss: 159.3998\n",
      "Epoch 94/100\n",
      "23/23 [==============================] - 0s 434us/step - loss: 158.6237\n",
      "Epoch 95/100\n",
      "23/23 [==============================] - 0s 421us/step - loss: 157.7771\n",
      "Epoch 96/100\n",
      "23/23 [==============================] - 0s 390us/step - loss: 156.9993\n",
      "Epoch 97/100\n",
      "23/23 [==============================] - 0s 476us/step - loss: 156.2243\n",
      "Epoch 98/100\n",
      "23/23 [==============================] - 0s 434us/step - loss: 155.3968\n",
      "Epoch 99/100\n",
      "23/23 [==============================] - 0s 476us/step - loss: 154.5791\n",
      "Epoch 100/100\n",
      "23/23 [==============================] - 0s 476us/step - loss: 153.8258\n"
     ]
    },
    {
     "data": {
      "text/plain": [
       "<tensorflow.python.keras.callbacks.History at 0x219c4ffb850>"
      ]
     },
     "execution_count": 26,
     "metadata": {},
     "output_type": "execute_result"
    }
   ],
   "source": [
    "#Build model for Part C and training it\n",
    "modelC = regression_model()\n",
    "epochs = 100\n",
    "modelC.fit(X_train_C,y_train_C,epochs = epochs, verbose = 1)"
   ]
  },
  {
   "cell_type": "code",
   "execution_count": 27,
   "metadata": {},
   "outputs": [
    {
     "name": "stdout",
     "output_type": "stream",
     "text": [
      " 1/10 [==>...........................] - ETA: 0s - loss: 209.6974WARNING:tensorflow:Callbacks method `on_test_batch_end` is slow compared to the batch time (batch time: 0.0000s vs `on_test_batch_end` time: 0.0010s). Check your callbacks.\n",
      "10/10 [==============================] - 0s 494us/step - loss: 200.7316\n"
     ]
    },
    {
     "data": {
      "text/plain": [
       "200.73162841796875"
      ]
     },
     "execution_count": 27,
     "metadata": {},
     "output_type": "execute_result"
    }
   ],
   "source": [
    "loss_valC = modelC.evaluate(X_test_C, y_test_C)\n",
    "loss_valC"
   ]
  },
  {
   "cell_type": "code",
   "execution_count": 28,
   "metadata": {},
   "outputs": [],
   "source": [
    "y_hat_C = modelC.predict(X_test_C)"
   ]
  },
  {
   "cell_type": "code",
   "execution_count": 29,
   "metadata": {},
   "outputs": [
    {
     "name": "stdout",
     "output_type": "stream",
     "text": [
      "Mean Squared Error for normalized predictors with 100 epoch training = 200.73162955610542\n"
     ]
    }
   ],
   "source": [
    "mseC = mean_squared_error(y_test_C,y_hat_C)\n",
    "print(\"Mean Squared Error for normalized predictors with 100 epoch training = {}\".format(mseC))"
   ]
  },
  {
   "cell_type": "code",
   "execution_count": 30,
   "metadata": {},
   "outputs": [],
   "source": [
    "mse_lst_C = []\n",
    "for i in range(50):\n",
    "    X_train_C, X_test_C, y_train_C, y_test_C = train_test_split(predictors_norm, target, test_size=0.3, random_state=6)\n",
    "    modelC = regression_model()\n",
    "    modelC.fit(X_train_C,y_train_C,epochs = 100, verbose = 0)\n",
    "    \n",
    "    y_hat_C = modelC.predict(X_test_C)\n",
    "    mseC = mean_squared_error(y_test_C,y_hat_C)\n",
    "    mse_lst_C.append(mseC)"
   ]
  },
  {
   "cell_type": "code",
   "execution_count": 31,
   "metadata": {},
   "outputs": [
    {
     "name": "stdout",
     "output_type": "stream",
     "text": [
      "For Mean Squared Errors with 100 epochs for training, Mean = 201.08234377506793, Standard Deviation = 27.707768031021075\n"
     ]
    }
   ],
   "source": [
    "mean_C = np.mean(mse_lst_C)\n",
    "standard_deviation_C = np.std(mse_lst_C)\n",
    "\n",
    "print(\"For Mean Squared Errors with 100 epochs for training, Mean = {}, Standard Deviation = {}\".format(mean_C,standard_deviation_C))"
   ]
  },
  {
   "cell_type": "code",
   "execution_count": 32,
   "metadata": {},
   "outputs": [
    {
     "name": "stdout",
     "output_type": "stream",
     "text": [
      "The mean of the mean squared errors have decreased by 54.85584379660459% relative to 50 epoch training.\n"
     ]
    }
   ],
   "source": [
    "mean_change_percentage = ((mean_B - mean_C)/mean_B)*100\n",
    "print(\"The mean of the mean squared errors have decreased by {}% relative to 50 epoch training.\".format(mean_change_percentage))"
   ]
  },
  {
   "cell_type": "markdown",
   "metadata": {},
   "source": [
    "## Increasing the number of hidden layers of the neural network. *(Part D)*\n",
    "Now we modify the neural network used by *(Part B)* to have *3* hidden layers."
   ]
  },
  {
   "cell_type": "code",
   "execution_count": 33,
   "metadata": {},
   "outputs": [],
   "source": [
    "def regression_model_modified():\n",
    "    # creation of the model\n",
    "    model = Sequential()\n",
    "    model.add(Dense(10, activation = 'relu', input_shape = (n_cols,)))\n",
    "    model.add(Dense(10, activation = 'relu'))\n",
    "    model.add(Dense(10, activation = 'relu'))\n",
    "    model.add(Dense(1))\n",
    "    \n",
    "    # compile the model\n",
    "    model.compile(optimizer = 'adam', loss = 'mean_squared_error')\n",
    "    return model"
   ]
  },
  {
   "cell_type": "code",
   "execution_count": 34,
   "metadata": {},
   "outputs": [],
   "source": [
    "# Splitting the normalized data set for training and testing\n",
    "X_train_D, X_test_D, y_train_D, y_test_D = train_test_split(predictors_norm, target, test_size=0.3, random_state=6)"
   ]
  },
  {
   "cell_type": "code",
   "execution_count": 35,
   "metadata": {},
   "outputs": [
    {
     "name": "stdout",
     "output_type": "stream",
     "text": [
      "Epoch 1/50\n",
      "23/23 [==============================] - 0s 693us/step - loss: 1489.6614\n",
      "Epoch 2/50\n",
      "23/23 [==============================] - 0s 650us/step - loss: 1467.8922\n",
      "Epoch 3/50\n",
      "23/23 [==============================] - 0s 607us/step - loss: 1441.6536\n",
      "Epoch 4/50\n",
      "23/23 [==============================] - 0s 594us/step - loss: 1404.1188\n",
      "Epoch 5/50\n",
      "23/23 [==============================] - 0s 522us/step - loss: 1345.2203\n",
      "Epoch 6/50\n",
      "23/23 [==============================] - 0s 564us/step - loss: 1251.9962\n",
      "Epoch 7/50\n",
      "23/23 [==============================] - 0s 607us/step - loss: 1110.1765\n",
      "Epoch 8/50\n",
      "23/23 [==============================] - 0s 607us/step - loss: 913.6481\n",
      "Epoch 9/50\n",
      "23/23 [==============================] - 0s 560us/step - loss: 673.7018\n",
      "Epoch 10/50\n",
      "23/23 [==============================] - 0s 564us/step - loss: 433.5979\n",
      "Epoch 11/50\n",
      "23/23 [==============================] - 0s 694us/step - loss: 277.6902\n",
      "Epoch 12/50\n",
      "23/23 [==============================] - 0s 607us/step - loss: 221.3675\n",
      "Epoch 13/50\n",
      "23/23 [==============================] - 0s 607us/step - loss: 204.3478\n",
      "Epoch 14/50\n",
      "23/23 [==============================] - 0s 589us/step - loss: 194.2941\n",
      "Epoch 15/50\n",
      "23/23 [==============================] - 0s 548us/step - loss: 186.5907\n",
      "Epoch 16/50\n",
      "23/23 [==============================] - 0s 608us/step - loss: 180.4732\n",
      "Epoch 17/50\n",
      "23/23 [==============================] - 0s 562us/step - loss: 175.0873\n",
      "Epoch 18/50\n",
      "23/23 [==============================] - 0s 607us/step - loss: 170.6533\n",
      "Epoch 19/50\n",
      "23/23 [==============================] - 0s 565us/step - loss: 166.5054\n",
      "Epoch 20/50\n",
      "23/23 [==============================] - 0s 650us/step - loss: 162.6870\n",
      "Epoch 21/50\n",
      "23/23 [==============================] - 0s 564us/step - loss: 159.2203\n",
      "Epoch 22/50\n",
      "23/23 [==============================] - 0s 636us/step - loss: 155.6921\n",
      "Epoch 23/50\n",
      "23/23 [==============================] - 0s 648us/step - loss: 152.9474\n",
      "Epoch 24/50\n",
      "23/23 [==============================] - 0s 650us/step - loss: 149.9469\n",
      "Epoch 25/50\n",
      "23/23 [==============================] - 0s 781us/step - loss: 147.4290\n",
      "Epoch 26/50\n",
      "23/23 [==============================] - 0s 650us/step - loss: 145.5471\n",
      "Epoch 27/50\n",
      "23/23 [==============================] - 0s 652us/step - loss: 142.9238\n",
      "Epoch 28/50\n",
      "23/23 [==============================] - 0s 581us/step - loss: 140.9891\n",
      "Epoch 29/50\n",
      "23/23 [==============================] - 0s 650us/step - loss: 138.4399\n",
      "Epoch 30/50\n",
      "23/23 [==============================] - 0s 608us/step - loss: 136.4623\n",
      "Epoch 31/50\n",
      "23/23 [==============================] - 0s 588us/step - loss: 134.7348\n",
      "Epoch 32/50\n",
      "23/23 [==============================] - 0s 564us/step - loss: 132.9886\n",
      "Epoch 33/50\n",
      "23/23 [==============================] - 0s 606us/step - loss: 131.8378\n",
      "Epoch 34/50\n",
      "23/23 [==============================] - 0s 650us/step - loss: 130.1093\n",
      "Epoch 35/50\n",
      "23/23 [==============================] - 0s 671us/step - loss: 128.6587\n",
      "Epoch 36/50\n",
      "23/23 [==============================] - 0s 608us/step - loss: 127.5572\n",
      "Epoch 37/50\n",
      "23/23 [==============================] - 0s 606us/step - loss: 126.1126\n",
      "Epoch 38/50\n",
      "23/23 [==============================] - 0s 694us/step - loss: 125.2524\n",
      "Epoch 39/50\n",
      "23/23 [==============================] - 0s 650us/step - loss: 124.0739\n",
      "Epoch 40/50\n",
      "23/23 [==============================] - 0s 688us/step - loss: 122.9316\n",
      "Epoch 41/50\n",
      "23/23 [==============================] - 0s 604us/step - loss: 121.6685\n",
      "Epoch 42/50\n",
      "23/23 [==============================] - 0s 607us/step - loss: 120.8330\n",
      "Epoch 43/50\n",
      "23/23 [==============================] - 0s 620us/step - loss: 119.6633\n",
      "Epoch 44/50\n",
      "23/23 [==============================] - 0s 651us/step - loss: 118.9940\n",
      "Epoch 45/50\n",
      "23/23 [==============================] - 0s 693us/step - loss: 118.0910\n",
      "Epoch 46/50\n",
      "23/23 [==============================] - 0s 588us/step - loss: 117.3698\n",
      "Epoch 47/50\n",
      "23/23 [==============================] - 0s 649us/step - loss: 116.9548\n",
      "Epoch 48/50\n",
      "23/23 [==============================] - 0s 693us/step - loss: 116.0900\n",
      "Epoch 49/50\n",
      "23/23 [==============================] - 0s 648us/step - loss: 115.5311\n",
      "Epoch 50/50\n",
      "23/23 [==============================] - 0s 608us/step - loss: 114.6717\n"
     ]
    },
    {
     "data": {
      "text/plain": [
       "<tensorflow.python.keras.callbacks.History at 0x219c8fb8460>"
      ]
     },
     "execution_count": 35,
     "metadata": {},
     "output_type": "execute_result"
    }
   ],
   "source": [
    "# Build model for Part D and training it\n",
    "modelD = regression_model_modified()\n",
    "epochs = 50\n",
    "modelD.fit(X_train_D,y_train_D,epochs = epochs, verbose = 1)"
   ]
  },
  {
   "cell_type": "code",
   "execution_count": 36,
   "metadata": {},
   "outputs": [
    {
     "name": "stdout",
     "output_type": "stream",
     "text": [
      "10/10 [==============================] - 0s 497us/step - loss: 148.2058\n"
     ]
    },
    {
     "data": {
      "text/plain": [
       "148.20582580566406"
      ]
     },
     "execution_count": 36,
     "metadata": {},
     "output_type": "execute_result"
    }
   ],
   "source": [
    "loss_valD = modelD.evaluate(X_test_D, y_test_D)\n",
    "loss_valD"
   ]
  },
  {
   "cell_type": "code",
   "execution_count": 37,
   "metadata": {},
   "outputs": [],
   "source": [
    "y_hat_D = modelD.predict(X_test_D)"
   ]
  },
  {
   "cell_type": "code",
   "execution_count": 38,
   "metadata": {},
   "outputs": [
    {
     "name": "stdout",
     "output_type": "stream",
     "text": [
      "Mean Squared Error for normalized predictors with 3 dense layer network = 148.2058237577754\n"
     ]
    }
   ],
   "source": [
    "mseD = mean_squared_error(y_test_D,y_hat_D)\n",
    "print(\"Mean Squared Error for normalized predictors with 3 dense layer network = {}\".format(mseD))"
   ]
  },
  {
   "cell_type": "code",
   "execution_count": 39,
   "metadata": {},
   "outputs": [],
   "source": [
    "mse_lst_D = []\n",
    "for i in range(50):\n",
    "    X_train_D, X_test_D, y_train_D, y_test_D = train_test_split(predictors_norm, target, test_size=0.3, random_state=6)\n",
    "    modelD = regression_model_modified()\n",
    "    modelD.fit(X_train_D,y_train_D,epochs = 50, verbose = 0)\n",
    "    \n",
    "    y_hat_D = modelD.predict(X_test_D)\n",
    "    mseD = mean_squared_error(y_test_D,y_hat_D)\n",
    "    mse_lst_D.append(mseD)"
   ]
  },
  {
   "cell_type": "code",
   "execution_count": 40,
   "metadata": {},
   "outputs": [
    {
     "name": "stdout",
     "output_type": "stream",
     "text": [
      "For Mean Squared Errors with 3 dense layer network, Mean = 154.3119661981013, Standard Deviation = 16.81874039445358\n"
     ]
    }
   ],
   "source": [
    "mean_D = np.mean(mse_lst_D)\n",
    "standard_deviation_D = np.std(mse_lst_D)\n",
    "\n",
    "print(\"For Mean Squared Errors with 3 dense layer network, Mean = {}, Standard Deviation = {}\".format(mean_D,standard_deviation_D))"
   ]
  },
  {
   "cell_type": "code",
   "execution_count": 41,
   "metadata": {},
   "outputs": [
    {
     "name": "stdout",
     "output_type": "stream",
     "text": [
      "The mean of the mean squared errors have decreased by 65.3560657026522% relative to 1 dense layer network.\n"
     ]
    }
   ],
   "source": [
    "mean_change_percentage2 = ((mean_B - mean_D)/mean_B)*100\n",
    "print(\"The mean of the mean squared errors have decreased by {}% relative to 1 dense layer network.\".format(mean_change_percentage2))"
   ]
  },
  {
   "cell_type": "markdown",
   "metadata": {},
   "source": [
    "## Further Investigations\n",
    "Now we apply 3-Dense layer network with 100 epochs."
   ]
  },
  {
   "cell_type": "code",
   "execution_count": 43,
   "metadata": {},
   "outputs": [],
   "source": [
    "# Splitting the normalized data set for training and testing\n",
    "X_train_E, X_test_E, y_train_E, y_test_E = train_test_split(predictors_norm, target, test_size=0.3, random_state=6)"
   ]
  },
  {
   "cell_type": "code",
   "execution_count": 44,
   "metadata": {},
   "outputs": [
    {
     "name": "stdout",
     "output_type": "stream",
     "text": [
      "Epoch 1/100\n",
      "23/23 [==============================] - 0s 704us/step - loss: 1438.3512\n",
      "Epoch 2/100\n",
      "23/23 [==============================] - 0s 650us/step - loss: 1405.4460\n",
      "Epoch 3/100\n",
      "23/23 [==============================] - 0s 638us/step - loss: 1365.5732\n",
      "Epoch 4/100\n",
      "23/23 [==============================] - 0s 639us/step - loss: 1314.2388\n",
      "Epoch 5/100\n",
      "23/23 [==============================] - 0s 563us/step - loss: 1243.0520\n",
      "Epoch 6/100\n",
      "23/23 [==============================] - 0s 554us/step - loss: 1143.2705\n",
      "Epoch 7/100\n",
      "23/23 [==============================] - 0s 610us/step - loss: 1005.2378\n",
      "Epoch 8/100\n",
      "23/23 [==============================] - 0s 597us/step - loss: 832.5052\n",
      "Epoch 9/100\n",
      "23/23 [==============================] - 0s 596us/step - loss: 628.6957\n",
      "Epoch 10/100\n",
      "23/23 [==============================] - 0s 631us/step - loss: 436.6092\n",
      "Epoch 11/100\n",
      "23/23 [==============================] - 0s 617us/step - loss: 298.7817\n",
      "Epoch 12/100\n",
      "23/23 [==============================] - 0s 583us/step - loss: 234.8508\n",
      "Epoch 13/100\n",
      "23/23 [==============================] - 0s 606us/step - loss: 210.4871\n",
      "Epoch 14/100\n",
      "23/23 [==============================] - 0s 610us/step - loss: 199.4295\n",
      "Epoch 15/100\n",
      "23/23 [==============================] - 0s 563us/step - loss: 192.4503\n",
      "Epoch 16/100\n",
      "23/23 [==============================] - 0s 621us/step - loss: 187.7182\n",
      "Epoch 17/100\n",
      "23/23 [==============================] - 0s 607us/step - loss: 182.9834\n",
      "Epoch 18/100\n",
      "23/23 [==============================] - 0s 547us/step - loss: 179.0112\n",
      "Epoch 19/100\n",
      "23/23 [==============================] - 0s 564us/step - loss: 175.2697\n",
      "Epoch 20/100\n",
      "23/23 [==============================] - 0s 564us/step - loss: 172.4643\n",
      "Epoch 21/100\n",
      "23/23 [==============================] - 0s 587us/step - loss: 169.0511\n",
      "Epoch 22/100\n",
      "23/23 [==============================] - 0s 564us/step - loss: 166.4211\n",
      "Epoch 23/100\n",
      "23/23 [==============================] - 0s 505us/step - loss: 163.7446\n",
      "Epoch 24/100\n",
      "23/23 [==============================] - 0s 564us/step - loss: 161.2152\n",
      "Epoch 25/100\n",
      "23/23 [==============================] - 0s 477us/step - loss: 158.9250\n",
      "Epoch 26/100\n",
      "23/23 [==============================] - 0s 571us/step - loss: 156.8877\n",
      "Epoch 27/100\n",
      "23/23 [==============================] - 0s 520us/step - loss: 154.6969\n",
      "Epoch 28/100\n",
      "23/23 [==============================] - ETA: 0s - loss: 144.348 - 0s 520us/step - loss: 152.8074\n",
      "Epoch 29/100\n",
      "23/23 [==============================] - 0s 563us/step - loss: 150.6386\n",
      "Epoch 30/100\n",
      "23/23 [==============================] - 0s 477us/step - loss: 148.9825\n",
      "Epoch 31/100\n",
      "23/23 [==============================] - 0s 520us/step - loss: 147.2485\n",
      "Epoch 32/100\n",
      "23/23 [==============================] - 0s 520us/step - loss: 145.3955\n",
      "Epoch 33/100\n",
      "23/23 [==============================] - 0s 607us/step - loss: 143.5024\n",
      "Epoch 34/100\n",
      "23/23 [==============================] - 0s 607us/step - loss: 141.6827\n",
      "Epoch 35/100\n",
      "23/23 [==============================] - 0s 520us/step - loss: 140.1302\n",
      "Epoch 36/100\n",
      "23/23 [==============================] - 0s 564us/step - loss: 138.4204\n",
      "Epoch 37/100\n",
      "23/23 [==============================] - 0s 520us/step - loss: 136.9818\n",
      "Epoch 38/100\n",
      "23/23 [==============================] - 0s 542us/step - loss: 135.7864\n",
      "Epoch 39/100\n",
      "23/23 [==============================] - 0s 521us/step - loss: 134.3922\n",
      "Epoch 40/100\n",
      "23/23 [==============================] - 0s 607us/step - loss: 132.9618\n",
      "Epoch 41/100\n",
      "23/23 [==============================] - 0s 565us/step - loss: 131.7899\n",
      "Epoch 42/100\n",
      "23/23 [==============================] - 0s 565us/step - loss: 130.5607\n",
      "Epoch 43/100\n",
      "23/23 [==============================] - 0s 607us/step - loss: 129.5857\n",
      "Epoch 44/100\n",
      "23/23 [==============================] - 0s 603us/step - loss: 128.1593\n",
      "Epoch 45/100\n",
      "23/23 [==============================] - 0s 587us/step - loss: 127.2358\n",
      "Epoch 46/100\n",
      "23/23 [==============================] - 0s 564us/step - loss: 126.5429\n",
      "Epoch 47/100\n",
      "23/23 [==============================] - 0s 560us/step - loss: 126.4592\n",
      "Epoch 48/100\n",
      "23/23 [==============================] - 0s 520us/step - loss: 124.7622\n",
      "Epoch 49/100\n",
      "23/23 [==============================] - 0s 607us/step - loss: 123.6915\n",
      "Epoch 50/100\n",
      "23/23 [==============================] - 0s 564us/step - loss: 122.4434\n",
      "Epoch 51/100\n",
      "23/23 [==============================] - 0s 521us/step - loss: 121.5779\n",
      "Epoch 52/100\n",
      "23/23 [==============================] - 0s 564us/step - loss: 120.7600\n",
      "Epoch 53/100\n",
      "23/23 [==============================] - 0s 564us/step - loss: 120.3361\n",
      "Epoch 54/100\n",
      "23/23 [==============================] - 0s 564us/step - loss: 118.8362\n",
      "Epoch 55/100\n",
      "23/23 [==============================] - 0s 520us/step - loss: 118.0301\n",
      "Epoch 56/100\n",
      "23/23 [==============================] - 0s 521us/step - loss: 117.3226\n",
      "Epoch 57/100\n",
      "23/23 [==============================] - 0s 520us/step - loss: 116.8422\n",
      "Epoch 58/100\n",
      "23/23 [==============================] - 0s 520us/step - loss: 116.3652\n",
      "Epoch 59/100\n",
      "23/23 [==============================] - 0s 477us/step - loss: 115.5675\n",
      "Epoch 60/100\n",
      "23/23 [==============================] - 0s 537us/step - loss: 114.4299\n",
      "Epoch 61/100\n",
      "23/23 [==============================] - 0s 564us/step - loss: 114.1530\n",
      "Epoch 62/100\n",
      "23/23 [==============================] - 0s 564us/step - loss: 113.5311\n",
      "Epoch 63/100\n",
      "23/23 [==============================] - 0s 607us/step - loss: 112.4013\n",
      "Epoch 64/100\n",
      "23/23 [==============================] - 0s 520us/step - loss: 111.9202\n",
      "Epoch 65/100\n",
      "23/23 [==============================] - 0s 520us/step - loss: 111.5700\n",
      "Epoch 66/100\n",
      "23/23 [==============================] - 0s 520us/step - loss: 110.8353\n",
      "Epoch 67/100\n",
      "23/23 [==============================] - 0s 520us/step - loss: 110.2843\n",
      "Epoch 68/100\n",
      "23/23 [==============================] - 0s 520us/step - loss: 109.8205\n",
      "Epoch 69/100\n",
      "23/23 [==============================] - 0s 477us/step - loss: 109.5589\n",
      "Epoch 70/100\n",
      "23/23 [==============================] - 0s 585us/step - loss: 108.9968\n",
      "Epoch 71/100\n",
      "23/23 [==============================] - 0s 564us/step - loss: 108.6935\n",
      "Epoch 72/100\n",
      "23/23 [==============================] - 0s 523us/step - loss: 108.0543\n",
      "Epoch 73/100\n",
      "23/23 [==============================] - 0s 520us/step - loss: 107.4761\n",
      "Epoch 74/100\n",
      "23/23 [==============================] - 0s 521us/step - loss: 107.1058\n",
      "Epoch 75/100\n",
      "23/23 [==============================] - 0s 477us/step - loss: 106.8530\n",
      "Epoch 76/100\n",
      "23/23 [==============================] - 0s 594us/step - loss: 106.2860\n",
      "Epoch 77/100\n",
      "23/23 [==============================] - 0s 562us/step - loss: 106.1341\n",
      "Epoch 78/100\n",
      "23/23 [==============================] - 0s 477us/step - loss: 105.4060\n",
      "Epoch 79/100\n",
      "23/23 [==============================] - 0s 520us/step - loss: 105.0834\n",
      "Epoch 80/100\n",
      "23/23 [==============================] - 0s 565us/step - loss: 104.5594\n",
      "Epoch 81/100\n",
      "23/23 [==============================] - 0s 547us/step - loss: 104.4934\n",
      "Epoch 82/100\n",
      "23/23 [==============================] - 0s 562us/step - loss: 104.1549\n",
      "Epoch 83/100\n",
      "23/23 [==============================] - 0s 520us/step - loss: 103.6823\n",
      "Epoch 84/100\n",
      "23/23 [==============================] - 0s 564us/step - loss: 103.4056\n",
      "Epoch 85/100\n",
      "23/23 [==============================] - 0s 562us/step - loss: 103.1909\n",
      "Epoch 86/100\n",
      "23/23 [==============================] - 0s 564us/step - loss: 102.9682\n",
      "Epoch 87/100\n",
      "23/23 [==============================] - 0s 541us/step - loss: 102.5058\n",
      "Epoch 88/100\n",
      "23/23 [==============================] - 0s 562us/step - loss: 102.5255\n",
      "Epoch 89/100\n",
      "23/23 [==============================] - 0s 556us/step - loss: 102.0469\n",
      "Epoch 90/100\n",
      "23/23 [==============================] - 0s 563us/step - loss: 102.1229\n",
      "Epoch 91/100\n",
      "23/23 [==============================] - 0s 528us/step - loss: 101.5841\n",
      "Epoch 92/100\n",
      "23/23 [==============================] - 0s 592us/step - loss: 101.1300\n",
      "Epoch 93/100\n",
      "23/23 [==============================] - 0s 607us/step - loss: 100.8324\n",
      "Epoch 94/100\n",
      "23/23 [==============================] - 0s 520us/step - loss: 100.9940\n",
      "Epoch 95/100\n",
      "23/23 [==============================] - 0s 606us/step - loss: 100.2999\n",
      "Epoch 96/100\n",
      "23/23 [==============================] - 0s 564us/step - loss: 100.0294\n",
      "Epoch 97/100\n"
     ]
    },
    {
     "name": "stdout",
     "output_type": "stream",
     "text": [
      "23/23 [==============================] - 0s 544us/step - loss: 99.8539\n",
      "Epoch 98/100\n",
      "23/23 [==============================] - 0s 528us/step - loss: 99.9144\n",
      "Epoch 99/100\n",
      "23/23 [==============================] - 0s 564us/step - loss: 99.2889\n",
      "Epoch 100/100\n",
      "23/23 [==============================] - 0s 520us/step - loss: 99.3616\n"
     ]
    },
    {
     "data": {
      "text/plain": [
       "<tensorflow.python.keras.callbacks.History at 0x219c79006a0>"
      ]
     },
     "execution_count": 44,
     "metadata": {},
     "output_type": "execute_result"
    }
   ],
   "source": [
    "# Build model and training it\n",
    "modelE = regression_model_modified()\n",
    "epochs = 100\n",
    "modelE.fit(X_train_E,y_train_E,epochs = epochs, verbose = 1)"
   ]
  },
  {
   "cell_type": "code",
   "execution_count": 45,
   "metadata": {},
   "outputs": [
    {
     "name": "stdout",
     "output_type": "stream",
     "text": [
      "Mean Squared Error for normalized predictors with 3 dense layer network = 138.7850215808957\n"
     ]
    }
   ],
   "source": [
    "y_hat_E = modelE.predict(X_test_E)\n",
    "mseE = mean_squared_error(y_test_E,y_hat_E)\n",
    "print(\"Mean Squared Error for normalized predictors with 3 dense layer network = {}\".format(mseE))"
   ]
  },
  {
   "cell_type": "code",
   "execution_count": 46,
   "metadata": {},
   "outputs": [],
   "source": [
    "mse_lst_E = []\n",
    "for i in range(50):\n",
    "    X_train_E, X_test_E, y_train_E, y_test_E = train_test_split(predictors_norm, target, test_size=0.3, random_state=6)\n",
    "    modelE = regression_model_modified()\n",
    "    modelE.fit(X_train_E,y_train_E,epochs = 100, verbose = 0)\n",
    "    \n",
    "    y_hat_E = modelE.predict(X_test_E)\n",
    "    mseE = mean_squared_error(y_test_E,y_hat_E)\n",
    "    mse_lst_E.append(mseE)"
   ]
  },
  {
   "cell_type": "code",
   "execution_count": 47,
   "metadata": {},
   "outputs": [
    {
     "name": "stdout",
     "output_type": "stream",
     "text": [
      "For Mean Squared Errors with 3 dense layer network, Mean = 105.31749071213788, Standard Deviation = 27.66130794090474\n"
     ]
    }
   ],
   "source": [
    "mean_E = np.mean(mse_lst_E)\n",
    "standard_deviation_E = np.std(mse_lst_E)\n",
    "\n",
    "print(\"For Mean Squared Errors with 3 dense layer network, Mean = {}, Standard Deviation = {}\".format(mean_E,standard_deviation_E))"
   ]
  },
  {
   "cell_type": "code",
   "execution_count": 48,
   "metadata": {},
   "outputs": [
    {
     "name": "stdout",
     "output_type": "stream",
     "text": [
      "The mean of the mean squared errors have decreased by 76.355610530496% relative to 1 dense layer network.\n"
     ]
    }
   ],
   "source": [
    "mean_change_percentageE = ((mean_B - mean_E)/mean_B)*100\n",
    "print(\"The mean of the mean squared errors have decreased by {}% relative to 1 dense layer network.\".format(mean_change_percentageE))"
   ]
  },
  {
   "cell_type": "markdown",
   "metadata": {},
   "source": [
    "## Change the model of the Neural Net\n",
    "Let's change the number of dense layers to have 8 layers (this is equal to the number of predictors)"
   ]
  },
  {
   "cell_type": "code",
   "execution_count": 58,
   "metadata": {},
   "outputs": [],
   "source": [
    "def regression_model_extended():\n",
    "    # creation of the model\n",
    "    model = Sequential()\n",
    "    model.add(Dense(10, activation = 'relu', input_shape = (n_cols,)))\n",
    "    model.add(Dense(10, activation = 'relu'))\n",
    "    model.add(Dense(10, activation = 'relu'))\n",
    "    model.add(Dense(10, activation = 'relu'))\n",
    "    model.add(Dense(10, activation = 'relu'))\n",
    "    model.add(Dense(10, activation = 'relu'))\n",
    "    model.add(Dense(10, activation = 'relu'))\n",
    "    model.add(Dense(10, activation = 'relu'))\n",
    "    model.add(Dense(1))\n",
    "    \n",
    "    # compile the model\n",
    "    model.compile(optimizer = 'adam', loss = 'mean_squared_error')\n",
    "    return model"
   ]
  },
  {
   "cell_type": "code",
   "execution_count": 59,
   "metadata": {},
   "outputs": [],
   "source": [
    "X_train_F, X_test_F, y_train_F, y_test_F = train_test_split(predictors_norm, target, test_size=0.3, random_state=6)"
   ]
  },
  {
   "cell_type": "code",
   "execution_count": 60,
   "metadata": {},
   "outputs": [
    {
     "name": "stdout",
     "output_type": "stream",
     "text": [
      "Epoch 1/100\n",
      "23/23 [==============================] - 0s 824us/step - loss: 1483.8362\n",
      "Epoch 2/100\n",
      "23/23 [==============================] - 0s 781us/step - loss: 1467.6604\n",
      "Epoch 3/100\n",
      "23/23 [==============================] - 0s 823us/step - loss: 1425.6283\n",
      "Epoch 4/100\n",
      "23/23 [==============================] - 0s 842us/step - loss: 1320.0350\n",
      "Epoch 5/100\n",
      "23/23 [==============================] - 0s 941us/step - loss: 1045.3440\n",
      "Epoch 6/100\n",
      "23/23 [==============================] - 0s 813us/step - loss: 523.6176\n",
      "Epoch 7/100\n",
      "23/23 [==============================] - 0s 912us/step - loss: 278.0930\n",
      "Epoch 8/100\n",
      "23/23 [==============================] - 0s 804us/step - loss: 227.1349\n",
      "Epoch 9/100\n",
      "23/23 [==============================] - 0s 782us/step - loss: 203.6758\n",
      "Epoch 10/100\n",
      "23/23 [==============================] - 0s 820us/step - loss: 188.7895\n",
      "Epoch 11/100\n",
      "23/23 [==============================] - 0s 798us/step - loss: 177.4289\n",
      "Epoch 12/100\n",
      "23/23 [==============================] - 0s 795us/step - loss: 167.9201\n",
      "Epoch 13/100\n",
      "23/23 [==============================] - 0s 879us/step - loss: 160.8988\n",
      "Epoch 14/100\n",
      "23/23 [==============================] - 0s 867us/step - loss: 156.3663\n",
      "Epoch 15/100\n",
      "23/23 [==============================] - 0s 849us/step - loss: 150.3892\n",
      "Epoch 16/100\n",
      "23/23 [==============================] - 0s 867us/step - loss: 142.9187\n",
      "Epoch 17/100\n",
      "23/23 [==============================] - 0s 922us/step - loss: 137.7156\n",
      "Epoch 18/100\n",
      "23/23 [==============================] - 0s 917us/step - loss: 131.1017\n",
      "Epoch 19/100\n",
      "23/23 [==============================] - 0s 954us/step - loss: 126.0014\n",
      "Epoch 20/100\n",
      "23/23 [==============================] - 0s 912us/step - loss: 121.7961\n",
      "Epoch 21/100\n",
      "23/23 [==============================] - 0s 824us/step - loss: 116.4092\n",
      "Epoch 22/100\n",
      "23/23 [==============================] - 0s 894us/step - loss: 109.6861\n",
      "Epoch 23/100\n",
      "23/23 [==============================] - 0s 911us/step - loss: 104.0441\n",
      "Epoch 24/100\n",
      "23/23 [==============================] - 0s 824us/step - loss: 99.8635\n",
      "Epoch 25/100\n",
      "23/23 [==============================] - 0s 781us/step - loss: 94.8937\n",
      "Epoch 26/100\n",
      "23/23 [==============================] - 0s 741us/step - loss: 93.7280\n",
      "Epoch 27/100\n",
      "23/23 [==============================] - 0s 781us/step - loss: 90.8302\n",
      "Epoch 28/100\n",
      "23/23 [==============================] - 0s 824us/step - loss: 87.1189\n",
      "Epoch 29/100\n",
      "23/23 [==============================] - 0s 872us/step - loss: 83.5352\n",
      "Epoch 30/100\n",
      "23/23 [==============================] - 0s 694us/step - loss: 81.8945\n",
      "Epoch 31/100\n",
      "23/23 [==============================] - 0s 737us/step - loss: 79.2801\n",
      "Epoch 32/100\n",
      "23/23 [==============================] - 0s 695us/step - loss: 77.9069\n",
      "Epoch 33/100\n",
      "23/23 [==============================] - 0s 835us/step - loss: 74.7518\n",
      "Epoch 34/100\n",
      "23/23 [==============================] - 0s 737us/step - loss: 73.4945\n",
      "Epoch 35/100\n",
      "23/23 [==============================] - 0s 694us/step - loss: 71.9315\n",
      "Epoch 36/100\n",
      "23/23 [==============================] - 0s 737us/step - loss: 70.4421\n",
      "Epoch 37/100\n",
      "23/23 [==============================] - 0s 737us/step - loss: 68.3190\n",
      "Epoch 38/100\n",
      "23/23 [==============================] - 0s 738us/step - loss: 66.8743\n",
      "Epoch 39/100\n",
      "23/23 [==============================] - 0s 739us/step - loss: 65.3082\n",
      "Epoch 40/100\n",
      "23/23 [==============================] - 0s 721us/step - loss: 64.7797\n",
      "Epoch 41/100\n",
      "23/23 [==============================] - 0s 824us/step - loss: 63.2198\n",
      "Epoch 42/100\n",
      "23/23 [==============================] - 0s 737us/step - loss: 62.4972\n",
      "Epoch 43/100\n",
      "23/23 [==============================] - 0s 832us/step - loss: 61.0615\n",
      "Epoch 44/100\n",
      "23/23 [==============================] - 0s 779us/step - loss: 60.7798\n",
      "Epoch 45/100\n",
      "23/23 [==============================] - 0s 781us/step - loss: 59.2721\n",
      "Epoch 46/100\n",
      "23/23 [==============================] - 0s 867us/step - loss: 58.5672\n",
      "Epoch 47/100\n",
      "23/23 [==============================] - 0s 780us/step - loss: 58.1892\n",
      "Epoch 48/100\n",
      "23/23 [==============================] - 0s 822us/step - loss: 57.9258\n",
      "Epoch 49/100\n",
      "23/23 [==============================] - 0s 867us/step - loss: 57.0201\n",
      "Epoch 50/100\n",
      "23/23 [==============================] - 0s 607us/step - loss: 55.0801\n",
      "Epoch 51/100\n",
      "23/23 [==============================] - 0s 737us/step - loss: 55.4747\n",
      "Epoch 52/100\n",
      "23/23 [==============================] - 0s 698us/step - loss: 55.9148\n",
      "Epoch 53/100\n",
      "23/23 [==============================] - 0s 825us/step - loss: 56.4405\n",
      "Epoch 54/100\n",
      "23/23 [==============================] - 0s 737us/step - loss: 53.7105\n",
      "Epoch 55/100\n",
      "23/23 [==============================] - 0s 821us/step - loss: 52.4994\n",
      "Epoch 56/100\n",
      "23/23 [==============================] - 0s 824us/step - loss: 55.4734\n",
      "Epoch 57/100\n",
      "23/23 [==============================] - 0s 756us/step - loss: 52.2244\n",
      "Epoch 58/100\n",
      "23/23 [==============================] - 0s 736us/step - loss: 51.1510\n",
      "Epoch 59/100\n",
      "23/23 [==============================] - 0s 737us/step - loss: 50.9525\n",
      "Epoch 60/100\n",
      "23/23 [==============================] - 0s 735us/step - loss: 49.3825\n",
      "Epoch 61/100\n",
      "23/23 [==============================] - 0s 800us/step - loss: 49.7567\n",
      "Epoch 62/100\n",
      "23/23 [==============================] - 0s 694us/step - loss: 48.6695\n",
      "Epoch 63/100\n",
      "23/23 [==============================] - 0s 694us/step - loss: 49.5574\n",
      "Epoch 64/100\n",
      "23/23 [==============================] - 0s 694us/step - loss: 47.8722\n",
      "Epoch 65/100\n",
      "23/23 [==============================] - 0s 737us/step - loss: 47.3479\n",
      "Epoch 66/100\n",
      "23/23 [==============================] - 0s 694us/step - loss: 47.0929\n",
      "Epoch 67/100\n",
      "23/23 [==============================] - 0s 737us/step - loss: 47.2784\n",
      "Epoch 68/100\n",
      "23/23 [==============================] - 0s 694us/step - loss: 46.4334\n",
      "Epoch 69/100\n",
      "23/23 [==============================] - 0s 737us/step - loss: 46.6624\n",
      "Epoch 70/100\n",
      "23/23 [==============================] - 0s 737us/step - loss: 46.6492\n",
      "Epoch 71/100\n",
      "23/23 [==============================] - 0s 710us/step - loss: 46.4924\n",
      "Epoch 72/100\n",
      "23/23 [==============================] - 0s 694us/step - loss: 44.2966\n",
      "Epoch 73/100\n",
      "23/23 [==============================] - 0s 728us/step - loss: 44.8608\n",
      "Epoch 74/100\n",
      "23/23 [==============================] - 0s 736us/step - loss: 43.6098\n",
      "Epoch 75/100\n",
      "23/23 [==============================] - 0s 650us/step - loss: 43.7977\n",
      "Epoch 76/100\n",
      "23/23 [==============================] - 0s 693us/step - loss: 43.4901\n",
      "Epoch 77/100\n",
      "23/23 [==============================] - 0s 737us/step - loss: 42.8076\n",
      "Epoch 78/100\n",
      "23/23 [==============================] - 0s 738us/step - loss: 43.2191\n",
      "Epoch 79/100\n",
      "23/23 [==============================] - 0s 781us/step - loss: 42.2877\n",
      "Epoch 80/100\n",
      "23/23 [==============================] - 0s 694us/step - loss: 42.5224\n",
      "Epoch 81/100\n",
      "23/23 [==============================] - 0s 737us/step - loss: 41.3784\n",
      "Epoch 82/100\n",
      "23/23 [==============================] - 0s 694us/step - loss: 41.9874\n",
      "Epoch 83/100\n",
      "23/23 [==============================] - 0s 650us/step - loss: 40.8869\n",
      "Epoch 84/100\n",
      "23/23 [==============================] - 0s 694us/step - loss: 40.6832\n",
      "Epoch 85/100\n",
      "23/23 [==============================] - 0s 758us/step - loss: 41.8478\n",
      "Epoch 86/100\n",
      "23/23 [==============================] - 0s 693us/step - loss: 40.5451\n",
      "Epoch 87/100\n",
      "23/23 [==============================] - 0s 606us/step - loss: 39.3000\n",
      "Epoch 88/100\n",
      "23/23 [==============================] - 0s 651us/step - loss: 39.5494\n",
      "Epoch 89/100\n",
      "23/23 [==============================] - 0s 693us/step - loss: 38.9466\n",
      "Epoch 90/100\n",
      "23/23 [==============================] - 0s 650us/step - loss: 38.7436\n",
      "Epoch 91/100\n",
      "23/23 [==============================] - 0s 693us/step - loss: 39.2502\n",
      "Epoch 92/100\n",
      "23/23 [==============================] - 0s 693us/step - loss: 38.8557\n",
      "Epoch 93/100\n",
      "23/23 [==============================] - 0s 694us/step - loss: 38.9722\n",
      "Epoch 94/100\n",
      "23/23 [==============================] - 0s 736us/step - loss: 37.2701\n",
      "Epoch 95/100\n",
      "23/23 [==============================] - 0s 694us/step - loss: 37.3422\n",
      "Epoch 96/100\n",
      "23/23 [==============================] - 0s 781us/step - loss: 37.5537\n",
      "Epoch 97/100\n",
      "23/23 [==============================] - 0s 694us/step - loss: 36.8285\n",
      "Epoch 98/100\n",
      "23/23 [==============================] - 0s 737us/step - loss: 37.2505\n",
      "Epoch 99/100\n",
      "23/23 [==============================] - 0s 737us/step - loss: 36.6047\n",
      "Epoch 100/100\n",
      "23/23 [==============================] - 0s 695us/step - loss: 35.7070\n"
     ]
    },
    {
     "data": {
      "text/plain": [
       "<tensorflow.python.keras.callbacks.History at 0x219d2ba5a30>"
      ]
     },
     "execution_count": 60,
     "metadata": {},
     "output_type": "execute_result"
    }
   ],
   "source": [
    "modelF = regression_model_extended()\n",
    "epochs = 100\n",
    "modelF.fit(X_train_F,y_train_F,epochs = epochs, verbose = 1)"
   ]
  },
  {
   "cell_type": "code",
   "execution_count": 61,
   "metadata": {},
   "outputs": [
    {
     "name": "stdout",
     "output_type": "stream",
     "text": [
      "Mean Squared Error for normalized predictors with 8 dense layer network = 61.38841544246362\n"
     ]
    }
   ],
   "source": [
    "y_hat_F = modelF.predict(X_test_F)\n",
    "mseF = mean_squared_error(y_test_F,y_hat_F)\n",
    "print(\"Mean Squared Error for normalized predictors with 8 dense layer network = {}\".format(mseF))"
   ]
  },
  {
   "cell_type": "code",
   "execution_count": 62,
   "metadata": {},
   "outputs": [],
   "source": [
    "mse_lst_F = []\n",
    "for i in range(50):\n",
    "    X_train_F, X_test_F, y_train_F, y_test_F = train_test_split(predictors_norm, target, test_size=0.3, random_state=6)\n",
    "    modelF = regression_model_extended()\n",
    "    modelF.fit(X_train_F,y_train_F,epochs = 100, verbose = 0)\n",
    "    \n",
    "    y_hat_F = modelF.predict(X_test_F)\n",
    "    mseF = mean_squared_error(y_test_F,y_hat_F)\n",
    "    mse_lst_F.append(mseF)"
   ]
  },
  {
   "cell_type": "code",
   "execution_count": 63,
   "metadata": {},
   "outputs": [
    {
     "name": "stdout",
     "output_type": "stream",
     "text": [
      "For Mean Squared Errors with 8 dense layer network, Mean = 62.063197842532425, Standard Deviation = 44.2444575464683\n"
     ]
    }
   ],
   "source": [
    "mean_F = np.mean(mse_lst_F)\n",
    "standard_deviation_F = np.std(mse_lst_F)\n",
    "\n",
    "print(\"For Mean Squared Errors with 8 dense layer network, Mean = {}, Standard Deviation = {}\".format(mean_F,standard_deviation_F))"
   ]
  },
  {
   "cell_type": "markdown",
   "metadata": {},
   "source": [
    "## Remark\n",
    "It is noticed that *Mean* of the *MSE* has further gone down compared to the Experiment E but the *Standard Deviation* has increased. Further quantitative examinations into this phenomena will be presented."
   ]
  },
  {
   "cell_type": "code",
   "execution_count": 65,
   "metadata": {},
   "outputs": [
    {
     "name": "stdout",
     "output_type": "stream",
     "text": [
      "The mean of the mean squared errors have decreased by 86.06645096090774% relative to 1 dense layer network.\n"
     ]
    }
   ],
   "source": [
    "mean_change_percentageF = ((mean_B - mean_F)/mean_B)*100\n",
    "print(\"The mean of the mean squared errors have decreased by {}% relative to 1 dense layer network.\".format(mean_change_percentageF))"
   ]
  },
  {
   "cell_type": "markdown",
   "metadata": {},
   "source": [
    "## Let's add Dropout layers"
   ]
  },
  {
   "cell_type": "code",
   "execution_count": 69,
   "metadata": {},
   "outputs": [],
   "source": [
    "from keras.layers import Dropout"
   ]
  },
  {
   "cell_type": "code",
   "execution_count": 94,
   "metadata": {},
   "outputs": [],
   "source": [
    "def regression_model_extended_withDO():\n",
    "    # creation of the model\n",
    "    model = Sequential()\n",
    "    model.add(Dense(10, activation = 'relu', input_shape = (n_cols,)))\n",
    "    \n",
    "    model.add(Dense(10, activation = 'relu'))\n",
    "    model.add(Dense(10, activation = 'relu'))\n",
    "    model.add(Dense(10, activation = 'relu'))\n",
    "    model.add(Dropout(0.5))\n",
    "    model.add(Dense(10, activation = 'relu'))    \n",
    "    model.add(Dense(10, activation = 'relu'))\n",
    "    model.add(Dense(10, activation = 'relu'))\n",
    "    model.add(Dense(10, activation = 'relu'))\n",
    "    model.add(Dense(1))\n",
    "    \n",
    "    # compile the model\n",
    "    model.compile(optimizer = 'adam', loss = 'mean_squared_error')\n",
    "    return model"
   ]
  },
  {
   "cell_type": "code",
   "execution_count": 95,
   "metadata": {},
   "outputs": [],
   "source": [
    "X_train_G, X_test_G, y_train_G, y_test_G = train_test_split(predictors_norm, target, test_size=0.3, random_state=6)"
   ]
  },
  {
   "cell_type": "code",
   "execution_count": 96,
   "metadata": {},
   "outputs": [
    {
     "name": "stdout",
     "output_type": "stream",
     "text": [
      "Epoch 1/100\n",
      "23/23 [==============================] - 0s 870us/step - loss: 1468.0793\n",
      "Epoch 2/100\n",
      "23/23 [==============================] - 0s 825us/step - loss: 1406.8043\n",
      "Epoch 3/100\n",
      "23/23 [==============================] - 0s 915us/step - loss: 1226.6046\n",
      "Epoch 4/100\n",
      "23/23 [==============================] - 0s 910us/step - loss: 838.5945\n",
      "Epoch 5/100\n",
      "23/23 [==============================] - 0s 861us/step - loss: 577.5496\n",
      "Epoch 6/100\n",
      "23/23 [==============================] - 0s 937us/step - loss: 448.8082\n",
      "Epoch 7/100\n",
      "23/23 [==============================] - 0s 865us/step - loss: 358.7987\n",
      "Epoch 8/100\n",
      "23/23 [==============================] - 0s 870us/step - loss: 347.3331\n",
      "Epoch 9/100\n",
      "23/23 [==============================] - 0s 811us/step - loss: 299.1593\n",
      "Epoch 10/100\n",
      "23/23 [==============================] - 0s 833us/step - loss: 292.1153\n",
      "Epoch 11/100\n",
      "23/23 [==============================] - 0s 824us/step - loss: 262.5059\n",
      "Epoch 12/100\n",
      "23/23 [==============================] - 0s 865us/step - loss: 238.4841\n",
      "Epoch 13/100\n",
      "23/23 [==============================] - 0s 835us/step - loss: 223.7409\n",
      "Epoch 14/100\n",
      "23/23 [==============================] - 0s 782us/step - loss: 226.2494\n",
      "Epoch 15/100\n",
      "23/23 [==============================] - 0s 868us/step - loss: 200.3706\n",
      "Epoch 16/100\n",
      "23/23 [==============================] - 0s 857us/step - loss: 209.9692\n",
      "Epoch 17/100\n",
      "23/23 [==============================] - 0s 842us/step - loss: 189.7124\n",
      "Epoch 18/100\n",
      "23/23 [==============================] - 0s 881us/step - loss: 184.3059\n",
      "Epoch 19/100\n",
      "23/23 [==============================] - 0s 844us/step - loss: 168.1239\n",
      "Epoch 20/100\n",
      "23/23 [==============================] - 0s 812us/step - loss: 154.5733\n",
      "Epoch 21/100\n",
      "23/23 [==============================] - 0s 856us/step - loss: 151.5708\n",
      "Epoch 22/100\n",
      "23/23 [==============================] - 0s 804us/step - loss: 135.3335\n",
      "Epoch 23/100\n",
      "23/23 [==============================] - 0s 769us/step - loss: 132.3464\n",
      "Epoch 24/100\n",
      "23/23 [==============================] - 0s 916us/step - loss: 123.1214\n",
      "Epoch 25/100\n",
      "23/23 [==============================] - 0s 799us/step - loss: 133.1944\n",
      "Epoch 26/100\n",
      "23/23 [==============================] - 0s 733us/step - loss: 142.8667\n",
      "Epoch 27/100\n",
      "23/23 [==============================] - 0s 733us/step - loss: 125.9215\n",
      "Epoch 28/100\n",
      "23/23 [==============================] - 0s 747us/step - loss: 119.3928\n",
      "Epoch 29/100\n",
      "23/23 [==============================] - 0s 827us/step - loss: 109.2327\n",
      "Epoch 30/100\n",
      "23/23 [==============================] - 0s 806us/step - loss: 107.9809\n",
      "Epoch 31/100\n",
      "23/23 [==============================] - 0s 777us/step - loss: 97.1649\n",
      "Epoch 32/100\n",
      "23/23 [==============================] - 0s 768us/step - loss: 99.8683\n",
      "Epoch 33/100\n",
      "23/23 [==============================] - 0s 816us/step - loss: 98.2826\n",
      "Epoch 34/100\n",
      "23/23 [==============================] - 0s 801us/step - loss: 90.5323\n",
      "Epoch 35/100\n",
      "23/23 [==============================] - 0s 774us/step - loss: 85.4813\n",
      "Epoch 36/100\n",
      "23/23 [==============================] - 0s 737us/step - loss: 92.6611\n",
      "Epoch 37/100\n",
      "23/23 [==============================] - 0s 741us/step - loss: 83.5030\n",
      "Epoch 38/100\n",
      "23/23 [==============================] - 0s 743us/step - loss: 80.4140\n",
      "Epoch 39/100\n",
      "23/23 [==============================] - 0s 815us/step - loss: 79.6912\n",
      "Epoch 40/100\n",
      "23/23 [==============================] - 0s 786us/step - loss: 78.4705\n",
      "Epoch 41/100\n",
      "23/23 [==============================] - 0s 730us/step - loss: 73.5553\n",
      "Epoch 42/100\n",
      "23/23 [==============================] - 0s 822us/step - loss: 71.7684\n",
      "Epoch 43/100\n",
      "23/23 [==============================] - 0s 785us/step - loss: 74.5206\n",
      "Epoch 44/100\n",
      "23/23 [==============================] - 0s 782us/step - loss: 68.5056\n",
      "Epoch 45/100\n",
      "23/23 [==============================] - ETA: 0s - loss: 107.293 - 0s 825us/step - loss: 71.0555\n",
      "Epoch 46/100\n",
      "23/23 [==============================] - 0s 797us/step - loss: 71.2622\n",
      "Epoch 47/100\n",
      "23/23 [==============================] - 0s 734us/step - loss: 63.1178\n",
      "Epoch 48/100\n",
      "23/23 [==============================] - 0s 788us/step - loss: 66.3879\n",
      "Epoch 49/100\n",
      "23/23 [==============================] - 0s 797us/step - loss: 62.8346\n",
      "Epoch 50/100\n",
      "23/23 [==============================] - 0s 940us/step - loss: 64.7801\n",
      "Epoch 51/100\n",
      "23/23 [==============================] - 0s 824us/step - loss: 60.9049\n",
      "Epoch 52/100\n",
      "23/23 [==============================] - 0s 981us/step - loss: 60.5651\n",
      "Epoch 53/100\n",
      "23/23 [==============================] - 0s 813us/step - loss: 63.2950\n",
      "Epoch 54/100\n",
      "23/23 [==============================] - 0s 867us/step - loss: 64.5321\n",
      "Epoch 55/100\n",
      "23/23 [==============================] - 0s 784us/step - loss: 64.7470\n",
      "Epoch 56/100\n",
      "23/23 [==============================] - 0s 768us/step - loss: 56.8755\n",
      "Epoch 57/100\n",
      "23/23 [==============================] - 0s 720us/step - loss: 59.4208\n",
      "Epoch 58/100\n",
      "23/23 [==============================] - 0s 762us/step - loss: 62.2346\n",
      "Epoch 59/100\n",
      "23/23 [==============================] - 0s 772us/step - loss: 58.0052\n",
      "Epoch 60/100\n",
      "23/23 [==============================] - 0s 774us/step - loss: 57.6240\n",
      "Epoch 61/100\n",
      "23/23 [==============================] - 0s 778us/step - loss: 56.7342\n",
      "Epoch 62/100\n",
      "23/23 [==============================] - 0s 779us/step - loss: 56.1754\n",
      "Epoch 63/100\n",
      "23/23 [==============================] - 0s 805us/step - loss: 55.8407\n",
      "Epoch 64/100\n",
      "23/23 [==============================] - 0s 772us/step - loss: 59.0835\n",
      "Epoch 65/100\n",
      "23/23 [==============================] - 0s 780us/step - loss: 58.5407\n",
      "Epoch 66/100\n",
      "23/23 [==============================] - 0s 738us/step - loss: 63.7322\n",
      "Epoch 67/100\n",
      "23/23 [==============================] - 0s 739us/step - loss: 54.9256\n",
      "Epoch 68/100\n",
      "23/23 [==============================] - 0s 731us/step - loss: 51.1511\n",
      "Epoch 69/100\n",
      "23/23 [==============================] - 0s 733us/step - loss: 56.5710\n",
      "Epoch 70/100\n",
      "23/23 [==============================] - 0s 694us/step - loss: 56.4023\n",
      "Epoch 71/100\n",
      "23/23 [==============================] - 0s 788us/step - loss: 54.2800\n",
      "Epoch 72/100\n",
      "23/23 [==============================] - 0s 750us/step - loss: 55.5906\n",
      "Epoch 73/100\n",
      "23/23 [==============================] - 0s 748us/step - loss: 56.5194\n",
      "Epoch 74/100\n",
      "23/23 [==============================] - 0s 783us/step - loss: 58.2152\n",
      "Epoch 75/100\n",
      "23/23 [==============================] - 0s 817us/step - loss: 58.8200\n",
      "Epoch 76/100\n",
      "23/23 [==============================] - 0s 737us/step - loss: 51.3332\n",
      "Epoch 77/100\n",
      "23/23 [==============================] - 0s 810us/step - loss: 54.2767\n",
      "Epoch 78/100\n",
      "23/23 [==============================] - 0s 779us/step - loss: 59.3597\n",
      "Epoch 79/100\n",
      "23/23 [==============================] - 0s 775us/step - loss: 52.0084\n",
      "Epoch 80/100\n",
      "23/23 [==============================] - 0s 796us/step - loss: 52.7831\n",
      "Epoch 81/100\n",
      "23/23 [==============================] - 0s 737us/step - loss: 52.9196\n",
      "Epoch 82/100\n",
      "23/23 [==============================] - 0s 695us/step - loss: 49.8626\n",
      "Epoch 83/100\n",
      "23/23 [==============================] - 0s 737us/step - loss: 51.1498\n",
      "Epoch 84/100\n",
      "23/23 [==============================] - 0s 725us/step - loss: 46.3781\n",
      "Epoch 85/100\n",
      "23/23 [==============================] - 0s 731us/step - loss: 53.4525\n",
      "Epoch 86/100\n",
      "23/23 [==============================] - 0s 773us/step - loss: 49.8509\n",
      "Epoch 87/100\n",
      "23/23 [==============================] - 0s 692us/step - loss: 53.7423\n",
      "Epoch 88/100\n",
      "23/23 [==============================] - 0s 703us/step - loss: 49.7172\n",
      "Epoch 89/100\n",
      "23/23 [==============================] - 0s 694us/step - loss: 50.6397\n",
      "Epoch 90/100\n",
      "23/23 [==============================] - 0s 759us/step - loss: 46.5680\n",
      "Epoch 91/100\n",
      "23/23 [==============================] - 0s 812us/step - loss: 48.8172\n",
      "Epoch 92/100\n",
      "23/23 [==============================] - 0s 816us/step - loss: 50.0814\n",
      "Epoch 93/100\n",
      "23/23 [==============================] - 0s 727us/step - loss: 47.0269\n",
      "Epoch 94/100\n",
      "23/23 [==============================] - 0s 738us/step - loss: 47.4457\n",
      "Epoch 95/100\n",
      "23/23 [==============================] - 0s 782us/step - loss: 49.0971\n",
      "Epoch 96/100\n",
      "23/23 [==============================] - 0s 744us/step - loss: 44.9677\n",
      "Epoch 97/100\n",
      "23/23 [==============================] - 0s 766us/step - loss: 47.9505\n"
     ]
    },
    {
     "name": "stdout",
     "output_type": "stream",
     "text": [
      "Epoch 98/100\n",
      "23/23 [==============================] - 0s 767us/step - loss: 49.8606\n",
      "Epoch 99/100\n",
      "23/23 [==============================] - 0s 801us/step - loss: 58.1200\n",
      "Epoch 100/100\n",
      "23/23 [==============================] - 0s 733us/step - loss: 48.7125\n"
     ]
    },
    {
     "data": {
      "text/plain": [
       "<tensorflow.python.keras.callbacks.History at 0x219dd23dbe0>"
      ]
     },
     "execution_count": 96,
     "metadata": {},
     "output_type": "execute_result"
    }
   ],
   "source": [
    "modelG = regression_model_extended_withDO()\n",
    "epochs = 100\n",
    "modelG.fit(X_train_G,y_train_G,epochs = epochs, verbose = 1)"
   ]
  },
  {
   "cell_type": "code",
   "execution_count": 97,
   "metadata": {},
   "outputs": [
    {
     "name": "stdout",
     "output_type": "stream",
     "text": [
      "Mean Squared Error for normalized predictors with 8 dense layer and one dropout layer network = 308.32037599429117\n"
     ]
    }
   ],
   "source": [
    "y_hat_G = modelG.predict(X_test_G)\n",
    "mseG = mean_squared_error(y_test_G,y_hat_G)\n",
    "print(\"Mean Squared Error for normalized predictors with 8 dense layer and one dropout layer network = {}\".format(mseG))"
   ]
  },
  {
   "cell_type": "code",
   "execution_count": 98,
   "metadata": {},
   "outputs": [],
   "source": [
    "mse_lst_G = []\n",
    "for i in range(50):\n",
    "    X_train_G, X_test_G, y_train_G, y_test_G = train_test_split(predictors_norm, target, test_size=0.3, random_state=6)\n",
    "    modelG = regression_model_extended_withDO()\n",
    "    modelG.fit(X_train_G,y_train_G,epochs = 100, verbose = 0)\n",
    "    \n",
    "    y_hat_G = modelG.predict(X_test_G)\n",
    "    mseG = mean_squared_error(y_test_G,y_hat_G)\n",
    "    mse_lst_G.append(mseG)"
   ]
  },
  {
   "cell_type": "code",
   "execution_count": 99,
   "metadata": {},
   "outputs": [
    {
     "name": "stdout",
     "output_type": "stream",
     "text": [
      "For Mean Squared Errors with 8 dense layer and Dropout layer network, Mean = 323.92926331933114, Standard Deviation = 45.625117327157895\n"
     ]
    }
   ],
   "source": [
    "mean_G = np.mean(mse_lst_G)\n",
    "standard_deviation_G = np.std(mse_lst_G)\n",
    "\n",
    "print(\"For Mean Squared Errors with 8 dense layer and Dropout layer network, Mean = {}, Standard Deviation = {}\".format(mean_G,standard_deviation_G))"
   ]
  },
  {
   "cell_type": "code",
   "execution_count": null,
   "metadata": {},
   "outputs": [],
   "source": []
  }
 ],
 "metadata": {
  "kernelspec": {
   "display_name": "Python 3",
   "language": "python",
   "name": "python3"
  },
  "language_info": {
   "codemirror_mode": {
    "name": "ipython",
    "version": 3
   },
   "file_extension": ".py",
   "mimetype": "text/x-python",
   "name": "python",
   "nbconvert_exporter": "python",
   "pygments_lexer": "ipython3",
   "version": "3.8.3"
  }
 },
 "nbformat": 4,
 "nbformat_minor": 4
}
